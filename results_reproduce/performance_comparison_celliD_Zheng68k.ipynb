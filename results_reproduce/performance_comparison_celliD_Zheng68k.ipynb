{
 "cells": [
  {
   "cell_type": "code",
   "execution_count": 1,
   "metadata": {
    "vscode": {
     "languageId": "r"
    }
   },
   "outputs": [
    {
     "name": "stderr",
     "output_type": "stream",
     "text": [
      "Loading required package: Seurat\n",
      "\n",
      "Attaching SeuratObject\n",
      "\n",
      "Loading required package: SingleCellExperiment\n",
      "\n",
      "Loading required package: SummarizedExperiment\n",
      "\n",
      "Loading required package: MatrixGenerics\n",
      "\n",
      "Loading required package: matrixStats\n",
      "\n",
      "\n",
      "Attaching package: ‘MatrixGenerics’\n",
      "\n",
      "\n",
      "The following objects are masked from ‘package:matrixStats’:\n",
      "\n",
      "    colAlls, colAnyNAs, colAnys, colAvgsPerRowSet, colCollapse,\n",
      "    colCounts, colCummaxs, colCummins, colCumprods, colCumsums,\n",
      "    colDiffs, colIQRDiffs, colIQRs, colLogSumExps, colMadDiffs,\n",
      "    colMads, colMaxs, colMeans2, colMedians, colMins, colOrderStats,\n",
      "    colProds, colQuantiles, colRanges, colRanks, colSdDiffs, colSds,\n",
      "    colSums2, colTabulates, colVarDiffs, colVars, colWeightedMads,\n",
      "    colWeightedMeans, colWeightedMedians, colWeightedSds,\n",
      "    colWeightedVars, rowAlls, rowAnyNAs, rowAnys, rowAvgsPerColSet,\n",
      "    rowCollapse, rowCounts, rowCummaxs, rowCummins, rowCumprods,\n",
      "    rowCumsums, rowDiffs, rowIQRDiffs, rowIQRs, rowLogSumExps,\n",
      "    rowMadDiffs, rowMads, rowMaxs, rowMeans2, rowMedians, rowMins,\n",
      "    rowOrderStats, rowProds, rowQuantiles, rowRanges, rowRanks,\n",
      "    rowSdDiffs, rowSds, rowSums2, rowTabulates, rowVarDiffs, rowVars,\n",
      "    rowWeightedMads, rowWeightedMeans, rowWeightedMedians,\n",
      "    rowWeightedSds, rowWeightedVars\n",
      "\n",
      "\n",
      "Loading required package: GenomicRanges\n",
      "\n",
      "Loading required package: stats4\n",
      "\n",
      "Loading required package: BiocGenerics\n",
      "\n",
      "\n",
      "Attaching package: ‘BiocGenerics’\n",
      "\n",
      "\n",
      "The following objects are masked from ‘package:stats’:\n",
      "\n",
      "    IQR, mad, sd, var, xtabs\n",
      "\n",
      "\n",
      "The following objects are masked from ‘package:base’:\n",
      "\n",
      "    anyDuplicated, aperm, append, as.data.frame, basename, cbind,\n",
      "    colnames, dirname, do.call, duplicated, eval, evalq, Filter, Find,\n",
      "    get, grep, grepl, intersect, is.unsorted, lapply, Map, mapply,\n",
      "    match, mget, order, paste, pmax, pmax.int, pmin, pmin.int,\n",
      "    Position, rank, rbind, Reduce, rownames, sapply, setdiff, sort,\n",
      "    table, tapply, union, unique, unsplit, which.max, which.min\n",
      "\n",
      "\n",
      "Loading required package: S4Vectors\n",
      "\n",
      "\n",
      "Attaching package: ‘S4Vectors’\n",
      "\n",
      "\n",
      "The following objects are masked from ‘package:base’:\n",
      "\n",
      "    expand.grid, I, unname\n",
      "\n",
      "\n",
      "Loading required package: IRanges\n",
      "\n",
      "Loading required package: GenomeInfoDb\n",
      "\n",
      "Loading required package: Biobase\n",
      "\n",
      "Welcome to Bioconductor\n",
      "\n",
      "    Vignettes contain introductory material; view with\n",
      "    'browseVignettes()'. To cite Bioconductor, see\n",
      "    'citation(\"Biobase\")', and for packages 'citation(\"pkgname\")'.\n",
      "\n",
      "\n",
      "\n",
      "Attaching package: ‘Biobase’\n",
      "\n",
      "\n",
      "The following object is masked from ‘package:MatrixGenerics’:\n",
      "\n",
      "    rowMedians\n",
      "\n",
      "\n",
      "The following objects are masked from ‘package:matrixStats’:\n",
      "\n",
      "    anyMissing, rowMedians\n",
      "\n",
      "\n",
      "\n",
      "Attaching package: ‘SummarizedExperiment’\n",
      "\n",
      "\n",
      "The following object is masked from ‘package:SeuratObject’:\n",
      "\n",
      "    Assays\n",
      "\n",
      "\n",
      "The following object is masked from ‘package:Seurat’:\n",
      "\n",
      "    Assays\n",
      "\n",
      "\n",
      "Warning message:\n",
      "“replacing previous import ‘data.table::shift’ by ‘tictoc::shift’ when loading ‘CelliD’”\n",
      "── \u001b[1mAttaching core tidyverse packages\u001b[22m ──────────────────────── tidyverse 2.0.0 ──\n",
      "\u001b[32m✔\u001b[39m \u001b[34mdplyr    \u001b[39m 1.1.2     \u001b[32m✔\u001b[39m \u001b[34mreadr    \u001b[39m 2.1.4\n",
      "\u001b[32m✔\u001b[39m \u001b[34mforcats  \u001b[39m 1.0.0     \u001b[32m✔\u001b[39m \u001b[34mstringr  \u001b[39m 1.5.0\n",
      "\u001b[32m✔\u001b[39m \u001b[34mggplot2  \u001b[39m 3.4.2     \u001b[32m✔\u001b[39m \u001b[34mtibble   \u001b[39m 3.2.1\n",
      "\u001b[32m✔\u001b[39m \u001b[34mlubridate\u001b[39m 1.9.2     \u001b[32m✔\u001b[39m \u001b[34mtidyr    \u001b[39m 1.3.0\n",
      "\u001b[32m✔\u001b[39m \u001b[34mpurrr    \u001b[39m 1.0.1     \n",
      "── \u001b[1mConflicts\u001b[22m ────────────────────────────────────────── tidyverse_conflicts() ──\n",
      "\u001b[31m✖\u001b[39m \u001b[34mlubridate\u001b[39m::\u001b[32m%within%()\u001b[39m masks \u001b[34mIRanges\u001b[39m::%within%()\n",
      "\u001b[31m✖\u001b[39m \u001b[34mdplyr\u001b[39m::\u001b[32mcollapse()\u001b[39m     masks \u001b[34mIRanges\u001b[39m::collapse()\n",
      "\u001b[31m✖\u001b[39m \u001b[34mdplyr\u001b[39m::\u001b[32mcombine()\u001b[39m      masks \u001b[34mBiobase\u001b[39m::combine(), \u001b[34mBiocGenerics\u001b[39m::combine()\n",
      "\u001b[31m✖\u001b[39m \u001b[34mdplyr\u001b[39m::\u001b[32mcount()\u001b[39m        masks \u001b[34mmatrixStats\u001b[39m::count()\n",
      "\u001b[31m✖\u001b[39m \u001b[34mdplyr\u001b[39m::\u001b[32mdesc()\u001b[39m         masks \u001b[34mIRanges\u001b[39m::desc()\n",
      "\u001b[31m✖\u001b[39m \u001b[34mtidyr\u001b[39m::\u001b[32mexpand()\u001b[39m       masks \u001b[34mS4Vectors\u001b[39m::expand()\n",
      "\u001b[31m✖\u001b[39m \u001b[34mdplyr\u001b[39m::\u001b[32mfilter()\u001b[39m       masks \u001b[34mstats\u001b[39m::filter()\n",
      "\u001b[31m✖\u001b[39m \u001b[34mdplyr\u001b[39m::\u001b[32mfirst()\u001b[39m        masks \u001b[34mS4Vectors\u001b[39m::first()\n",
      "\u001b[31m✖\u001b[39m \u001b[34mdplyr\u001b[39m::\u001b[32mlag()\u001b[39m          masks \u001b[34mstats\u001b[39m::lag()\n",
      "\u001b[31m✖\u001b[39m \u001b[34mggplot2\u001b[39m::\u001b[32mPosition()\u001b[39m   masks \u001b[34mBiocGenerics\u001b[39m::Position(), \u001b[34mbase\u001b[39m::Position()\n",
      "\u001b[31m✖\u001b[39m \u001b[34mpurrr\u001b[39m::\u001b[32mreduce()\u001b[39m       masks \u001b[34mGenomicRanges\u001b[39m::reduce(), \u001b[34mIRanges\u001b[39m::reduce()\n",
      "\u001b[31m✖\u001b[39m \u001b[34mdplyr\u001b[39m::\u001b[32mrename()\u001b[39m       masks \u001b[34mS4Vectors\u001b[39m::rename()\n",
      "\u001b[31m✖\u001b[39m \u001b[34mlubridate\u001b[39m::\u001b[32msecond()\u001b[39m   masks \u001b[34mS4Vectors\u001b[39m::second()\n",
      "\u001b[31m✖\u001b[39m \u001b[34mlubridate\u001b[39m::\u001b[32msecond<-()\u001b[39m masks \u001b[34mS4Vectors\u001b[39m::second<-()\n",
      "\u001b[31m✖\u001b[39m \u001b[34mdplyr\u001b[39m::\u001b[32mslice()\u001b[39m        masks \u001b[34mIRanges\u001b[39m::slice()\n",
      "\u001b[36mℹ\u001b[39m Use the conflicted package (\u001b[3m\u001b[34m<http://conflicted.r-lib.org/>\u001b[39m\u001b[23m) to force all conflicts to become errors\n"
     ]
    }
   ],
   "source": [
    "#celliD\n",
    "#https://bioconductor.riken.jp/packages/3.14/bioc/vignettes/CelliD/inst/doc/BioconductorVignette.html#cellid-automatic-cell-type-prediction-using-pre-established-marker-lists\n",
    "\n",
    "\n",
    "library(CelliD)\n",
    "library(tidyverse) # general purpose library for data handling\n",
    "library(ggpubr) #library for plotting\n",
    "\n",
    "\n",
    "\n"
   ]
  },
  {
   "cell_type": "code",
   "execution_count": null,
   "metadata": {
    "vscode": {
     "languageId": "r"
    }
   },
   "outputs": [],
   "source": []
  },
  {
   "cell_type": "code",
   "execution_count": 2,
   "metadata": {
    "vscode": {
     "languageId": "r"
    }
   },
   "outputs": [],
   "source": [
    "data=read.table(\"data/zheng68k/zheng68k.csv\",sep=\",\",header=T,row.names=1)"
   ]
  },
  {
   "cell_type": "code",
   "execution_count": 3,
   "metadata": {
    "vscode": {
     "languageId": "r"
    }
   },
   "outputs": [
    {
     "data": {
      "text/html": [
       "<table class=\"dataframe\">\n",
       "<caption>A data.frame: 6 × 4</caption>\n",
       "<thead>\n",
       "\t<tr><th></th><th scope=col>TSNE.1</th><th scope=col>TSNE.2</th><th scope=col>barcodes</th><th scope=col>celltype</th></tr>\n",
       "\t<tr><th></th><th scope=col>&lt;dbl&gt;</th><th scope=col>&lt;dbl&gt;</th><th scope=col>&lt;chr&gt;</th><th scope=col>&lt;chr&gt;</th></tr>\n",
       "</thead>\n",
       "<tbody>\n",
       "\t<tr><th scope=row>1</th><td>  7.565540</td><td>  0.4413703</td><td>AAACATACACCCAA-1</td><td>CD8+ Cytotoxic T            </td></tr>\n",
       "\t<tr><th scope=row>2</th><td>  2.552626</td><td>-25.7866723</td><td>AAACATACCCCTCA-1</td><td>CD8+/CD45RA+ Naive Cytotoxic</td></tr>\n",
       "\t<tr><th scope=row>3</th><td> -5.771831</td><td> 11.8308460</td><td>AAACATACCGGAGA-1</td><td>CD4+/CD45RO+ Memory         </td></tr>\n",
       "\t<tr><th scope=row>4</th><td>  1.762556</td><td> 25.9793459</td><td>AAACATACTAACCG-1</td><td>CD19+ B                     </td></tr>\n",
       "\t<tr><th scope=row>5</th><td>-16.793856</td><td>-16.5899699</td><td>AAACATACTCTTCA-1</td><td>CD4+/CD25 T Reg             </td></tr>\n",
       "\t<tr><th scope=row>6</th><td>-15.339791</td><td>-11.0882635</td><td>AAACATACTGGATC-1</td><td>CD4+/CD25 T Reg             </td></tr>\n",
       "</tbody>\n",
       "</table>\n"
      ],
      "text/latex": [
       "A data.frame: 6 × 4\n",
       "\\begin{tabular}{r|llll}\n",
       "  & TSNE.1 & TSNE.2 & barcodes & celltype\\\\\n",
       "  & <dbl> & <dbl> & <chr> & <chr>\\\\\n",
       "\\hline\n",
       "\t1 &   7.565540 &   0.4413703 & AAACATACACCCAA-1 & CD8+ Cytotoxic T            \\\\\n",
       "\t2 &   2.552626 & -25.7866723 & AAACATACCCCTCA-1 & CD8+/CD45RA+ Naive Cytotoxic\\\\\n",
       "\t3 &  -5.771831 &  11.8308460 & AAACATACCGGAGA-1 & CD4+/CD45RO+ Memory         \\\\\n",
       "\t4 &   1.762556 &  25.9793459 & AAACATACTAACCG-1 & CD19+ B                     \\\\\n",
       "\t5 & -16.793856 & -16.5899699 & AAACATACTCTTCA-1 & CD4+/CD25 T Reg             \\\\\n",
       "\t6 & -15.339791 & -11.0882635 & AAACATACTGGATC-1 & CD4+/CD25 T Reg             \\\\\n",
       "\\end{tabular}\n"
      ],
      "text/markdown": [
       "\n",
       "A data.frame: 6 × 4\n",
       "\n",
       "| <!--/--> | TSNE.1 &lt;dbl&gt; | TSNE.2 &lt;dbl&gt; | barcodes &lt;chr&gt; | celltype &lt;chr&gt; |\n",
       "|---|---|---|---|---|\n",
       "| 1 |   7.565540 |   0.4413703 | AAACATACACCCAA-1 | CD8+ Cytotoxic T             |\n",
       "| 2 |   2.552626 | -25.7866723 | AAACATACCCCTCA-1 | CD8+/CD45RA+ Naive Cytotoxic |\n",
       "| 3 |  -5.771831 |  11.8308460 | AAACATACCGGAGA-1 | CD4+/CD45RO+ Memory          |\n",
       "| 4 |   1.762556 |  25.9793459 | AAACATACTAACCG-1 | CD19+ B                      |\n",
       "| 5 | -16.793856 | -16.5899699 | AAACATACTCTTCA-1 | CD4+/CD25 T Reg              |\n",
       "| 6 | -15.339791 | -11.0882635 | AAACATACTGGATC-1 | CD4+/CD25 T Reg              |\n",
       "\n"
      ],
      "text/plain": [
       "  TSNE.1     TSNE.2      barcodes         celltype                    \n",
       "1   7.565540   0.4413703 AAACATACACCCAA-1 CD8+ Cytotoxic T            \n",
       "2   2.552626 -25.7866723 AAACATACCCCTCA-1 CD8+/CD45RA+ Naive Cytotoxic\n",
       "3  -5.771831  11.8308460 AAACATACCGGAGA-1 CD4+/CD45RO+ Memory         \n",
       "4   1.762556  25.9793459 AAACATACTAACCG-1 CD19+ B                     \n",
       "5 -16.793856 -16.5899699 AAACATACTCTTCA-1 CD4+/CD25 T Reg             \n",
       "6 -15.339791 -11.0882635 AAACATACTGGATC-1 CD4+/CD25 T Reg             "
      ]
     },
     "metadata": {},
     "output_type": "display_data"
    }
   ],
   "source": [
    "annotation=read.table(\"data/zheng68k/68k_pbmc_barcodes_annotation.tsv.txt\",header=TRUE,sep=\"\\t\")\n",
    "\n",
    "head(annotation)"
   ]
  },
  {
   "cell_type": "code",
   "execution_count": 5,
   "metadata": {
    "vscode": {
     "languageId": "r"
    }
   },
   "outputs": [],
   "source": [
    "data=data[1:10000,]\n",
    "annotation=annotation[1:10000,]"
   ]
  },
  {
   "cell_type": "code",
   "execution_count": 4,
   "metadata": {
    "vscode": {
     "languageId": "r"
    }
   },
   "outputs": [],
   "source": [
    "extract_prediction_label = function(x){\n",
    "    y=c()\n",
    "    for (i in x){\n",
    "        y=c(y,i)\n",
    "    }\n",
    "    y\n",
    "    return(y)\n",
    "}\n",
    "\n",
    "\n",
    "\n",
    "calculate_test_accuracy <- function(true_labels, predicted_labels) {\n",
    "  if (length(true_labels) != length(predicted_labels)) {\n",
    "    stop(\"Input vectors must have the same length.\")\n",
    "  }\n",
    "  \n",
    "  correct_predictions <- sum(true_labels == predicted_labels)\n",
    "  total_samples <- length(true_labels)\n",
    "  \n",
    "  accuracy <- correct_predictions / total_samples\n",
    "  return(accuracy)\n",
    "}\n",
    "\n",
    "\n",
    "calculate_f1_score_multiclass <- function(true_labels, predicted_labels) {\n",
    "  if (length(true_labels) != length(predicted_labels)) {\n",
    "    stop(\"Input vectors must have the same length.\")\n",
    "  }\n",
    "  \n",
    "  # Get unique class labels\n",
    "  classes <- unique(c(true_labels, predicted_labels))\n",
    "  \n",
    "  # Initialize variables to store per-class statistics\n",
    "  precision <- numeric(length(classes))\n",
    "  recall <- numeric(length(classes))\n",
    "  f1_score <- numeric(length(classes))\n",
    "  \n",
    "  # Calculate precision, recall, and F1 score for each class\n",
    "  for (i in 1:length(classes)) {\n",
    "    class_label <- classes[i]\n",
    "    true_positive <- sum(predicted_labels == class_label & true_labels == class_label)\n",
    "    false_positive <- sum(predicted_labels == class_label & true_labels != class_label)\n",
    "    false_negative <- sum(predicted_labels != class_label & true_labels == class_label)\n",
    "    \n",
    "    precision[i] <- true_positive / (true_positive + false_positive)\n",
    "    recall[i] <- true_positive / (true_positive + false_negative)\n",
    "    \n",
    "    f1_score[i] <- 2 * (precision[i] * recall[i]) / (precision[i] + recall[i])\n",
    "  }\n",
    "  \n",
    "  # Calculate macro-averaged F1 score\n",
    "  macro_f1_score <- mean(f1_score, na.rm = TRUE)\n",
    "  \n",
    "  return(macro_f1_score)\n",
    "}\n",
    "\n",
    "\n"
   ]
  },
  {
   "cell_type": "code",
   "execution_count": 5,
   "metadata": {
    "vscode": {
     "languageId": "r"
    }
   },
   "outputs": [
    {
     "name": "stderr",
     "output_type": "stream",
     "text": [
      "Warning message in split.default(sample(nrow(data)), 1:num_folds):\n",
      "“data length is not a multiple of split variable”\n"
     ]
    },
    {
     "name": "stderr",
     "output_type": "stream",
     "text": [
      "Warning message:\n",
      "“Feature names cannot have underscores ('_'), replacing with dashes ('-')”\n",
      "Warning message:\n",
      "“The default method for RunUMAP has changed from calling Python UMAP via reticulate to the R-native UWOT using the cosine metric\n",
      "To use Python UMAP via reticulate, set umap.method to 'umap-learn' and metric to 'correlation'\n",
      "This message will be shown once per session”\n",
      "Warning message:\n",
      "“Feature names cannot have underscores ('_'), replacing with dashes ('-')”\n",
      "Warning message in asMethod(object):\n",
      "“sparse->dense coercion: allocating vector of size 3.3 GiB”\n",
      "Computing Fuzzy Matrix\n",
      "\n"
     ]
    },
    {
     "name": "stdout",
     "output_type": "stream",
     "text": [
      "8.788 sec elapsed\n"
     ]
    },
    {
     "name": "stderr",
     "output_type": "stream",
     "text": [
      "Computing SVD\n",
      "\n"
     ]
    },
    {
     "name": "stdout",
     "output_type": "stream",
     "text": [
      "43.241 sec elapsed\n"
     ]
    },
    {
     "name": "stderr",
     "output_type": "stream",
     "text": [
      "Computing Coordinates\n",
      "\n"
     ]
    },
    {
     "name": "stdout",
     "output_type": "stream",
     "text": [
      "4.112 sec elapsed\n"
     ]
    },
    {
     "name": "stderr",
     "output_type": "stream",
     "text": [
      "Warning message in asMethod(object):\n",
      "“sparse->dense coercion: allocating vector of size 13.4 GiB”\n",
      "Computing Fuzzy Matrix\n",
      "\n"
     ]
    },
    {
     "name": "stdout",
     "output_type": "stream",
     "text": [
      "51.031 sec elapsed\n"
     ]
    },
    {
     "name": "stderr",
     "output_type": "stream",
     "text": [
      "Computing SVD\n",
      "\n"
     ]
    },
    {
     "name": "stdout",
     "output_type": "stream",
     "text": [
      "234.954 sec elapsed\n"
     ]
    },
    {
     "name": "stderr",
     "output_type": "stream",
     "text": [
      "Computing Coordinates\n",
      "\n"
     ]
    },
    {
     "name": "stdout",
     "output_type": "stream",
     "text": [
      "12.443 sec elapsed\n"
     ]
    },
    {
     "name": "stderr",
     "output_type": "stream",
     "text": [
      "\n",
      "calculating distance\n",
      "\n",
      "\n",
      "\n",
      "creating ranking\n",
      "\n",
      "\n",
      "\n",
      "creating geneset\n",
      "\n",
      "\n",
      "\n",
      "creating ranking\n",
      "\n",
      "\n",
      "\n",
      "calculating distance\n",
      "\n",
      "\n",
      "ranking genes\n",
      "\n",
      "54864 pathways kept for hypergeometric test out of 54864, 0 filtered as less than 10 features was present in the data\n",
      "\n",
      "\n",
      "calculating features overlap\n",
      "\n",
      "\n",
      "Warning message in asMethod(object):\n",
      "“sparse->dense coercion: allocating vector of size 5.6 GiB”\n",
      "performing hypergeometric test\n",
      "\n",
      "\n",
      "Warning message in asMethod(object):\n",
      "“sparse->dense coercion: allocating vector of size 5.6 GiB”\n"
     ]
    },
    {
     "name": "stdout",
     "output_type": "stream",
     "text": [
      "Fold 5 : Train samples = 54864 , Test samples = 13715 Accuracy: 0.5294203 f1 score: 0.5104825 \n"
     ]
    }
   ],
   "source": [
    "library(Seurat)\n",
    "\n",
    "set.seed(124)\n",
    "\n",
    "\n",
    "num_folds <- 5\n",
    "\n",
    "# Generate 5-fold cross-validation indices\n",
    "fold_indices <- split(sample(nrow(data)), 1:num_folds)\n",
    "\n",
    "# Perform 5-fold cross-validation\n",
    "for (i in 5:num_folds) {\n",
    "  # Get indices for the current fold\n",
    "  test_indices <- fold_indices[[i]]\n",
    "  train_indices <- unlist(fold_indices[-i])\n",
    "  \n",
    "  # Subset data and annotation based on indices\n",
    "  data_train <- data[train_indices, ]\n",
    "  anno_train <- annotation[train_indices, ]\n",
    "  \n",
    "  data_test <- data[test_indices, ]\n",
    "  anno_test <- annotation[test_indices, ]\n",
    "  \n",
    "  ref = CreateSeuratObject(counts = t(data_train))\n",
    "  ref <- NormalizeData(ref)\n",
    "  ref <- ScaleData(ref, verbose = FALSE)\n",
    "  ref =  FindVariableFeatures(ref, selection.method = \"vst\", nfeatures = 2000, verbose = FALSE)\n",
    "  ref <- RunPCA(ref, npcs = 30, verbose = FALSE)\n",
    "  ref <- RunUMAP(ref, reduction = \"pca\", dims = 1:30, verbose = FALSE)\n",
    "  \n",
    "  query = CreateSeuratObject(counts = t(data_test))\n",
    "  query <- NormalizeData(query)\n",
    "  query <- ScaleData(query, verbose = FALSE)\n",
    "  query =  FindVariableFeatures(query, selection.method = \"vst\", nfeatures = 2000, verbose = FALSE)\n",
    "  query <- RunPCA(query, npcs = 30, verbose = FALSE)\n",
    "  query <- RunUMAP(query, reduction = \"pca\", dims = 1:30, verbose = FALSE)\n",
    "  query <- RunMCA(query, nmcs = 50)\n",
    "\n",
    "  #cell match\n",
    "  ref=RunMCA(ref)\n",
    "  # Extracting per-cell gene signatures from the Baron dataset with CelliD(c)\n",
    "  ref_cell_gs <- GetCellGeneSet(ref, dims = 1:50, n.features = 200)\n",
    "\n",
    "  ref$celltype=anno_train$celltype\n",
    "\n",
    "\n",
    "  # Extracting per-group gene signatures from the Baron dataset with CelliD(g)\n",
    "  ref_group_gs <- GetGroupGeneSet(ref, dims = 1:50, n.features = 200, group.by = \"celltype\")\n",
    "  \n",
    "  \n",
    "  #query <- FindVariableFeatures(query)\n",
    "  #query <- ScaleData(query)\n",
    "  #query <- RunMCA(query, nmcs = 50)\n",
    "\n",
    "  #query <- RunPCA(query)\n",
    "  #query <- RunUMAP(query, dims = 1:30)\n",
    "  #query <- RunTSNE(query, dims = 1:30)\n",
    "  \n",
    "\n",
    "\n",
    "  HGT_ref_cell_gs <- RunCellHGT(query, pathways = ref_cell_gs, dims = 1:50)\n",
    "\n",
    "  ref_cell_gs_match <- rownames(HGT_ref_cell_gs)[apply(HGT_ref_cell_gs, 2, which.max)]\n",
    "  ref_cell_gs_prediction <- ref$celltype[ref_cell_gs_match]\n",
    "\n",
    "\n",
    "  predictions=extract_prediction_label(ref_cell_gs_prediction)\n",
    "  \n",
    "  acc=calculate_test_accuracy(anno_test$celltype,predictions)\n",
    "\n",
    "\n",
    "  f1_score = calculate_f1_score_multiclass(anno_test$celltype,predictions)\n",
    "\n",
    "\n",
    "  cat(\"Fold\", i, \": Train samples =\", nrow(data_train), \", Test samples =\", nrow(data_test), \"Accuracy:\", acc,\"f1 score:\",f1_score, \"\\n\")\n",
    "\n",
    "  \n",
    "  # Perform training and testing using data_train, anno_train, data_test, and anno_test\n",
    "}\n"
   ]
  },
  {
   "cell_type": "code",
   "execution_count": null,
   "metadata": {
    "vscode": {
     "languageId": "r"
    }
   },
   "outputs": [],
   "source": []
  },
  {
   "cell_type": "code",
   "execution_count": null,
   "metadata": {
    "vscode": {
     "languageId": "r"
    }
   },
   "outputs": [],
   "source": []
  },
  {
   "cell_type": "code",
   "execution_count": null,
   "metadata": {
    "vscode": {
     "languageId": "r"
    }
   },
   "outputs": [],
   "source": []
  },
  {
   "cell_type": "code",
   "execution_count": null,
   "metadata": {
    "vscode": {
     "languageId": "r"
    }
   },
   "outputs": [],
   "source": []
  },
  {
   "cell_type": "code",
   "execution_count": null,
   "metadata": {
    "vscode": {
     "languageId": "r"
    }
   },
   "outputs": [],
   "source": []
  },
  {
   "cell_type": "code",
   "execution_count": 5,
   "metadata": {
    "vscode": {
     "languageId": "r"
    }
   },
   "outputs": [],
   "source": [
    "set.seed(123)\n",
    "train <- sample(1:nrow(data), 0.999*nrow(data))\n",
    "test <- setdiff(1:nrow(data), train)\n",
    "\n",
    "#train\n",
    "data_train <- data[train,]\n",
    "anno_train <- annotation[train,]\n",
    "\n",
    "#test\n",
    "data_test <- data[test,]\n",
    "anno_test <- annotation[test,]"
   ]
  },
  {
   "cell_type": "code",
   "execution_count": 6,
   "metadata": {
    "vscode": {
     "languageId": "r"
    }
   },
   "outputs": [
    {
     "name": "stderr",
     "output_type": "stream",
     "text": [
      "Warning message:\n",
      "“Feature names cannot have underscores ('_'), replacing with dashes ('-')”\n",
      "Warning message:\n",
      "“The default method for RunUMAP has changed from calling Python UMAP via reticulate to the R-native UWOT using the cosine metric\n",
      "To use Python UMAP via reticulate, set umap.method to 'umap-learn' and metric to 'correlation'\n",
      "This message will be shown once per session”\n"
     ]
    }
   ],
   "source": [
    "library(Seurat)\n",
    " \n",
    "ref = CreateSeuratObject(counts = t(data_train))\n",
    "\n",
    "ref <- ScaleData(ref, verbose = FALSE)\n",
    "ref =  FindVariableFeatures(ref, selection.method = \"vst\", nfeatures = 2000, verbose = FALSE)\n",
    "\n",
    "ref <- RunPCA(ref, npcs = 30, verbose = FALSE)\n",
    "ref <- RunUMAP(ref, reduction = \"pca\", dims = 1:30, verbose = FALSE)"
   ]
  },
  {
   "cell_type": "code",
   "execution_count": 8,
   "metadata": {
    "vscode": {
     "languageId": "r"
    }
   },
   "outputs": [
    {
     "name": "stderr",
     "output_type": "stream",
     "text": [
      "Warning message:\n",
      "“Feature names cannot have underscores ('_'), replacing with dashes ('-')”\n",
      "Warning message in simpleLoess(y, x, w, span, degree = degree, parametric = parametric, :\n",
      "“at  -1.8561”\n",
      "Warning message in simpleLoess(y, x, w, span, degree = degree, parametric = parametric, :\n",
      "“radius  0.00029837”\n",
      "Warning message in simpleLoess(y, x, w, span, degree = degree, parametric = parametric, :\n",
      "“all data on boundary of neighborhood. make span bigger”\n",
      "Warning message in simpleLoess(y, x, w, span, degree = degree, parametric = parametric, :\n",
      "“pseudoinverse used at -1.8561”\n",
      "Warning message in simpleLoess(y, x, w, span, degree = degree, parametric = parametric, :\n",
      "“neighborhood radius 0.017273”\n",
      "Warning message in simpleLoess(y, x, w, span, degree = degree, parametric = parametric, :\n",
      "“reciprocal condition number  1”\n",
      "Warning message in simpleLoess(y, x, w, span, degree = degree, parametric = parametric, :\n",
      "“There are other near singularities as well. 0.090619”\n",
      "Warning message in simpleLoess(y, x, w, span, degree = degree, parametric = parametric, :\n",
      "“zero-width neighborhood. make span bigger”\n"
     ]
    }
   ],
   "source": [
    "query = CreateSeuratObject(counts = t(data_test))\n",
    "\n",
    "query <- ScaleData(query, verbose = FALSE)\n",
    "query =  FindVariableFeatures(query, selection.method = \"vst\", nfeatures = 2000, verbose = FALSE)\n",
    "\n",
    "query <- RunPCA(query, npcs = 30, verbose = FALSE)\n",
    "query <- RunUMAP(query, reduction = \"pca\", dims = 1:30, verbose = FALSE)"
   ]
  },
  {
   "cell_type": "code",
   "execution_count": 11,
   "metadata": {
    "vscode": {
     "languageId": "r"
    }
   },
   "outputs": [
    {
     "name": "stderr",
     "output_type": "stream",
     "text": [
      "Computing Fuzzy Matrix\n",
      "\n"
     ]
    },
    {
     "name": "stdout",
     "output_type": "stream",
     "text": [
      "0.021 sec elapsed\n"
     ]
    },
    {
     "name": "stderr",
     "output_type": "stream",
     "text": [
      "Computing SVD\n",
      "\n",
      "Warning message in irlba::irlba(A = MCAPrepRes$Z, nv = nmcs + 1, nu = 1):\n",
      "“You're computing too large a percentage of total singular values, use a standard svd instead.”\n"
     ]
    },
    {
     "name": "stdout",
     "output_type": "stream",
     "text": [
      "0.075 sec elapsed\n"
     ]
    },
    {
     "name": "stderr",
     "output_type": "stream",
     "text": [
      "Computing Coordinates\n",
      "\n"
     ]
    },
    {
     "name": "stdout",
     "output_type": "stream",
     "text": [
      "0.006 sec elapsed\n"
     ]
    }
   ],
   "source": [
    "query=RunMCA(query)"
   ]
  },
  {
   "cell_type": "code",
   "execution_count": 13,
   "metadata": {
    "vscode": {
     "languageId": "r"
    }
   },
   "outputs": [
    {
     "name": "stderr",
     "output_type": "stream",
     "text": [
      "\n",
      "calculating distance\n",
      "\n",
      "\n",
      "ranking genes\n",
      "\n"
     ]
    },
    {
     "name": "stderr",
     "output_type": "stream",
     "text": [
      "18 pathways kept for hypergeometric test out of 25, 7 filtered as less than 10 features was present in the data\n",
      "\n",
      "\n",
      "calculating features overlap\n",
      "\n",
      "\n",
      "performing hypergeometric test\n",
      "\n",
      "\n"
     ]
    }
   ],
   "source": [
    "# Performing per-cell hypergeometric tests against the gene signature collection\n",
    "HGT_immune_gs <- RunCellHGT(query, pathways = Immune_gs, dims = 1:50, n.features = 200)"
   ]
  },
  {
   "cell_type": "code",
   "execution_count": 14,
   "metadata": {
    "vscode": {
     "languageId": "r"
    }
   },
   "outputs": [],
   "source": [
    "# For each cell, assess the signature with the lowest corrected p-value (max -log10 corrected p-value)\n",
    "Immune_gs_prediction <- rownames(HGT_immune_gs)[apply(HGT_immune_gs, 2, which.max)]\n"
   ]
  },
  {
   "cell_type": "code",
   "execution_count": 15,
   "metadata": {
    "vscode": {
     "languageId": "r"
    }
   },
   "outputs": [
    {
     "data": {
      "text/html": [
       "<style>\n",
       ".list-inline {list-style: none; margin:0; padding: 0}\n",
       ".list-inline>li {display: inline-block}\n",
       ".list-inline>li:not(:last-child)::after {content: \"\\00b7\"; padding: 0 .5ex}\n",
       "</style>\n",
       "<ol class=list-inline><li>'B cells'</li><li>'B cells'</li><li>'B cells'</li><li>'NK cells'</li><li>'B cells'</li><li>'B cells'</li><li>'Megakaryocytes'</li><li>'B cells'</li><li>'B cells'</li><li>'Dendritic cells'</li><li>'B cells'</li><li>'B cells'</li><li>'B cells'</li><li>'B cells'</li><li>'B cells'</li><li>'B cells'</li><li>'NK cells'</li><li>'B cells'</li><li>'B cells'</li><li>'Plasma cells'</li><li>'B cells'</li><li>'NK cells'</li><li>'Dendritic cells'</li><li>'B cells'</li><li>'Dendritic cells'</li><li>'NK cells'</li><li>'B cells'</li><li>'B cells'</li><li>'B cells'</li><li>'B cells'</li><li>'B cells'</li><li>'B cells'</li><li>'B cells'</li><li>'Natural killer T cells'</li><li>'B cells'</li><li>'B cells'</li><li>'Monocytes'</li><li>'B cells'</li><li>'B cells'</li><li>'B cells'</li><li>'B cells'</li><li>'B cells'</li><li>'Mast cells'</li><li>'NK cells'</li><li>'B cells'</li><li>'Gamma delta T cells'</li><li>'B cells'</li><li>'Gamma delta T cells'</li><li>'B cells'</li><li>'B cells'</li><li>'B cells'</li><li>'B cells memory'</li><li>'NK cells'</li><li>'B cells'</li><li>'B cells'</li><li>'B cells'</li><li>'B cells'</li><li>'B cells'</li><li>'T cells'</li><li>'B cells'</li><li>'B cells'</li><li>'T helper cells'</li><li>'T helper cells'</li><li>'B cells'</li><li>'Mast cells'</li><li>'B cells'</li><li>'B cells naive'</li><li>'B cells'</li><li>'B cells memory'</li></ol>\n"
      ],
      "text/latex": [
       "\\begin{enumerate*}\n",
       "\\item 'B cells'\n",
       "\\item 'B cells'\n",
       "\\item 'B cells'\n",
       "\\item 'NK cells'\n",
       "\\item 'B cells'\n",
       "\\item 'B cells'\n",
       "\\item 'Megakaryocytes'\n",
       "\\item 'B cells'\n",
       "\\item 'B cells'\n",
       "\\item 'Dendritic cells'\n",
       "\\item 'B cells'\n",
       "\\item 'B cells'\n",
       "\\item 'B cells'\n",
       "\\item 'B cells'\n",
       "\\item 'B cells'\n",
       "\\item 'B cells'\n",
       "\\item 'NK cells'\n",
       "\\item 'B cells'\n",
       "\\item 'B cells'\n",
       "\\item 'Plasma cells'\n",
       "\\item 'B cells'\n",
       "\\item 'NK cells'\n",
       "\\item 'Dendritic cells'\n",
       "\\item 'B cells'\n",
       "\\item 'Dendritic cells'\n",
       "\\item 'NK cells'\n",
       "\\item 'B cells'\n",
       "\\item 'B cells'\n",
       "\\item 'B cells'\n",
       "\\item 'B cells'\n",
       "\\item 'B cells'\n",
       "\\item 'B cells'\n",
       "\\item 'B cells'\n",
       "\\item 'Natural killer T cells'\n",
       "\\item 'B cells'\n",
       "\\item 'B cells'\n",
       "\\item 'Monocytes'\n",
       "\\item 'B cells'\n",
       "\\item 'B cells'\n",
       "\\item 'B cells'\n",
       "\\item 'B cells'\n",
       "\\item 'B cells'\n",
       "\\item 'Mast cells'\n",
       "\\item 'NK cells'\n",
       "\\item 'B cells'\n",
       "\\item 'Gamma delta T cells'\n",
       "\\item 'B cells'\n",
       "\\item 'Gamma delta T cells'\n",
       "\\item 'B cells'\n",
       "\\item 'B cells'\n",
       "\\item 'B cells'\n",
       "\\item 'B cells memory'\n",
       "\\item 'NK cells'\n",
       "\\item 'B cells'\n",
       "\\item 'B cells'\n",
       "\\item 'B cells'\n",
       "\\item 'B cells'\n",
       "\\item 'B cells'\n",
       "\\item 'T cells'\n",
       "\\item 'B cells'\n",
       "\\item 'B cells'\n",
       "\\item 'T helper cells'\n",
       "\\item 'T helper cells'\n",
       "\\item 'B cells'\n",
       "\\item 'Mast cells'\n",
       "\\item 'B cells'\n",
       "\\item 'B cells naive'\n",
       "\\item 'B cells'\n",
       "\\item 'B cells memory'\n",
       "\\end{enumerate*}\n"
      ],
      "text/markdown": [
       "1. 'B cells'\n",
       "2. 'B cells'\n",
       "3. 'B cells'\n",
       "4. 'NK cells'\n",
       "5. 'B cells'\n",
       "6. 'B cells'\n",
       "7. 'Megakaryocytes'\n",
       "8. 'B cells'\n",
       "9. 'B cells'\n",
       "10. 'Dendritic cells'\n",
       "11. 'B cells'\n",
       "12. 'B cells'\n",
       "13. 'B cells'\n",
       "14. 'B cells'\n",
       "15. 'B cells'\n",
       "16. 'B cells'\n",
       "17. 'NK cells'\n",
       "18. 'B cells'\n",
       "19. 'B cells'\n",
       "20. 'Plasma cells'\n",
       "21. 'B cells'\n",
       "22. 'NK cells'\n",
       "23. 'Dendritic cells'\n",
       "24. 'B cells'\n",
       "25. 'Dendritic cells'\n",
       "26. 'NK cells'\n",
       "27. 'B cells'\n",
       "28. 'B cells'\n",
       "29. 'B cells'\n",
       "30. 'B cells'\n",
       "31. 'B cells'\n",
       "32. 'B cells'\n",
       "33. 'B cells'\n",
       "34. 'Natural killer T cells'\n",
       "35. 'B cells'\n",
       "36. 'B cells'\n",
       "37. 'Monocytes'\n",
       "38. 'B cells'\n",
       "39. 'B cells'\n",
       "40. 'B cells'\n",
       "41. 'B cells'\n",
       "42. 'B cells'\n",
       "43. 'Mast cells'\n",
       "44. 'NK cells'\n",
       "45. 'B cells'\n",
       "46. 'Gamma delta T cells'\n",
       "47. 'B cells'\n",
       "48. 'Gamma delta T cells'\n",
       "49. 'B cells'\n",
       "50. 'B cells'\n",
       "51. 'B cells'\n",
       "52. 'B cells memory'\n",
       "53. 'NK cells'\n",
       "54. 'B cells'\n",
       "55. 'B cells'\n",
       "56. 'B cells'\n",
       "57. 'B cells'\n",
       "58. 'B cells'\n",
       "59. 'T cells'\n",
       "60. 'B cells'\n",
       "61. 'B cells'\n",
       "62. 'T helper cells'\n",
       "63. 'T helper cells'\n",
       "64. 'B cells'\n",
       "65. 'Mast cells'\n",
       "66. 'B cells'\n",
       "67. 'B cells naive'\n",
       "68. 'B cells'\n",
       "69. 'B cells memory'\n",
       "\n",
       "\n"
      ],
      "text/plain": [
       " [1] \"B cells\"                \"B cells\"                \"B cells\"               \n",
       " [4] \"NK cells\"               \"B cells\"                \"B cells\"               \n",
       " [7] \"Megakaryocytes\"         \"B cells\"                \"B cells\"               \n",
       "[10] \"Dendritic cells\"        \"B cells\"                \"B cells\"               \n",
       "[13] \"B cells\"                \"B cells\"                \"B cells\"               \n",
       "[16] \"B cells\"                \"NK cells\"               \"B cells\"               \n",
       "[19] \"B cells\"                \"Plasma cells\"           \"B cells\"               \n",
       "[22] \"NK cells\"               \"Dendritic cells\"        \"B cells\"               \n",
       "[25] \"Dendritic cells\"        \"NK cells\"               \"B cells\"               \n",
       "[28] \"B cells\"                \"B cells\"                \"B cells\"               \n",
       "[31] \"B cells\"                \"B cells\"                \"B cells\"               \n",
       "[34] \"Natural killer T cells\" \"B cells\"                \"B cells\"               \n",
       "[37] \"Monocytes\"              \"B cells\"                \"B cells\"               \n",
       "[40] \"B cells\"                \"B cells\"                \"B cells\"               \n",
       "[43] \"Mast cells\"             \"NK cells\"               \"B cells\"               \n",
       "[46] \"Gamma delta T cells\"    \"B cells\"                \"Gamma delta T cells\"   \n",
       "[49] \"B cells\"                \"B cells\"                \"B cells\"               \n",
       "[52] \"B cells memory\"         \"NK cells\"               \"B cells\"               \n",
       "[55] \"B cells\"                \"B cells\"                \"B cells\"               \n",
       "[58] \"B cells\"                \"T cells\"                \"B cells\"               \n",
       "[61] \"B cells\"                \"T helper cells\"         \"T helper cells\"        \n",
       "[64] \"B cells\"                \"Mast cells\"             \"B cells\"               \n",
       "[67] \"B cells naive\"          \"B cells\"                \"B cells memory\"        "
      ]
     },
     "metadata": {},
     "output_type": "display_data"
    }
   ],
   "source": [
    "Immune_gs_prediction"
   ]
  },
  {
   "cell_type": "code",
   "execution_count": 18,
   "metadata": {
    "vscode": {
     "languageId": "r"
    }
   },
   "outputs": [
    {
     "data": {
      "text/html": [
       "<style>\n",
       ".list-inline {list-style: none; margin:0; padding: 0}\n",
       ".list-inline>li {display: inline-block}\n",
       ".list-inline>li:not(:last-child)::after {content: \"\\00b7\"; padding: 0 .5ex}\n",
       "</style>\n",
       "<ol class=list-inline><li>'CD19+ B'</li><li>'CD8+/CD45RA+ Naive Cytotoxic'</li><li>'CD8+/CD45RA+ Naive Cytotoxic'</li><li>'CD56+ NK'</li><li>'CD4+/CD45RO+ Memory'</li><li>'CD8+/CD45RA+ Naive Cytotoxic'</li><li>'CD34+'</li><li>'CD4+/CD45RA+/CD25- Naive T'</li><li>'CD8+ Cytotoxic T'</li><li>'Dendritic'</li><li>'CD8+/CD45RA+ Naive Cytotoxic'</li><li>'CD8+ Cytotoxic T'</li><li>'CD4+/CD45RO+ Memory'</li><li>'CD8+/CD45RA+ Naive Cytotoxic'</li><li>'CD8+/CD45RA+ Naive Cytotoxic'</li><li>'CD8+ Cytotoxic T'</li><li>'CD56+ NK'</li><li>'CD8+ Cytotoxic T'</li><li>'CD8+/CD45RA+ Naive Cytotoxic'</li><li>'CD4+/CD25 T Reg'</li><li>'CD8+ Cytotoxic T'</li><li>'CD56+ NK'</li><li>'CD14+ Monocyte'</li><li>'CD8+/CD45RA+ Naive Cytotoxic'</li><li>'Dendritic'</li><li>'CD8+ Cytotoxic T'</li><li>'CD8+/CD45RA+ Naive Cytotoxic'</li><li>'CD8+/CD45RA+ Naive Cytotoxic'</li><li>'CD19+ B'</li><li>'CD56+ NK'</li><li>'CD8+/CD45RA+ Naive Cytotoxic'</li><li>'CD8+/CD45RA+ Naive Cytotoxic'</li><li>'CD8+/CD45RA+ Naive Cytotoxic'</li><li>'CD56+ NK'</li><li>'CD8+ Cytotoxic T'</li><li>'CD8+/CD45RA+ Naive Cytotoxic'</li><li>'CD14+ Monocyte'</li><li>'CD4+/CD25 T Reg'</li><li>'CD8+/CD45RA+ Naive Cytotoxic'</li><li>'CD4+/CD25 T Reg'</li><li>'CD8+/CD45RA+ Naive Cytotoxic'</li><li>'CD4+/CD25 T Reg'</li><li>'CD8+/CD45RA+ Naive Cytotoxic'</li><li>'CD56+ NK'</li><li>'CD4+/CD45RA+/CD25- Naive T'</li><li>'CD8+ Cytotoxic T'</li><li>'CD8+ Cytotoxic T'</li><li>'CD56+ NK'</li><li>'CD8+ Cytotoxic T'</li><li>'CD8+/CD45RA+ Naive Cytotoxic'</li><li>'CD8+/CD45RA+ Naive Cytotoxic'</li><li>'CD4+/CD45RO+ Memory'</li><li>'CD56+ NK'</li><li>'CD8+ Cytotoxic T'</li><li>'CD4+/CD25 T Reg'</li><li>'CD8+ Cytotoxic T'</li><li>'CD8+ Cytotoxic T'</li><li>'CD8+ Cytotoxic T'</li><li>'CD8+ Cytotoxic T'</li><li>'CD4+/CD45RA+/CD25- Naive T'</li><li>'CD19+ B'</li><li>'CD4+/CD45RA+/CD25- Naive T'</li><li>'CD8+ Cytotoxic T'</li><li>'CD8+ Cytotoxic T'</li><li>'CD4+/CD25 T Reg'</li><li>'CD8+/CD45RA+ Naive Cytotoxic'</li><li>'CD4+/CD45RA+/CD25- Naive T'</li><li>'CD8+ Cytotoxic T'</li><li>'CD19+ B'</li></ol>\n"
      ],
      "text/latex": [
       "\\begin{enumerate*}\n",
       "\\item 'CD19+ B'\n",
       "\\item 'CD8+/CD45RA+ Naive Cytotoxic'\n",
       "\\item 'CD8+/CD45RA+ Naive Cytotoxic'\n",
       "\\item 'CD56+ NK'\n",
       "\\item 'CD4+/CD45RO+ Memory'\n",
       "\\item 'CD8+/CD45RA+ Naive Cytotoxic'\n",
       "\\item 'CD34+'\n",
       "\\item 'CD4+/CD45RA+/CD25- Naive T'\n",
       "\\item 'CD8+ Cytotoxic T'\n",
       "\\item 'Dendritic'\n",
       "\\item 'CD8+/CD45RA+ Naive Cytotoxic'\n",
       "\\item 'CD8+ Cytotoxic T'\n",
       "\\item 'CD4+/CD45RO+ Memory'\n",
       "\\item 'CD8+/CD45RA+ Naive Cytotoxic'\n",
       "\\item 'CD8+/CD45RA+ Naive Cytotoxic'\n",
       "\\item 'CD8+ Cytotoxic T'\n",
       "\\item 'CD56+ NK'\n",
       "\\item 'CD8+ Cytotoxic T'\n",
       "\\item 'CD8+/CD45RA+ Naive Cytotoxic'\n",
       "\\item 'CD4+/CD25 T Reg'\n",
       "\\item 'CD8+ Cytotoxic T'\n",
       "\\item 'CD56+ NK'\n",
       "\\item 'CD14+ Monocyte'\n",
       "\\item 'CD8+/CD45RA+ Naive Cytotoxic'\n",
       "\\item 'Dendritic'\n",
       "\\item 'CD8+ Cytotoxic T'\n",
       "\\item 'CD8+/CD45RA+ Naive Cytotoxic'\n",
       "\\item 'CD8+/CD45RA+ Naive Cytotoxic'\n",
       "\\item 'CD19+ B'\n",
       "\\item 'CD56+ NK'\n",
       "\\item 'CD8+/CD45RA+ Naive Cytotoxic'\n",
       "\\item 'CD8+/CD45RA+ Naive Cytotoxic'\n",
       "\\item 'CD8+/CD45RA+ Naive Cytotoxic'\n",
       "\\item 'CD56+ NK'\n",
       "\\item 'CD8+ Cytotoxic T'\n",
       "\\item 'CD8+/CD45RA+ Naive Cytotoxic'\n",
       "\\item 'CD14+ Monocyte'\n",
       "\\item 'CD4+/CD25 T Reg'\n",
       "\\item 'CD8+/CD45RA+ Naive Cytotoxic'\n",
       "\\item 'CD4+/CD25 T Reg'\n",
       "\\item 'CD8+/CD45RA+ Naive Cytotoxic'\n",
       "\\item 'CD4+/CD25 T Reg'\n",
       "\\item 'CD8+/CD45RA+ Naive Cytotoxic'\n",
       "\\item 'CD56+ NK'\n",
       "\\item 'CD4+/CD45RA+/CD25- Naive T'\n",
       "\\item 'CD8+ Cytotoxic T'\n",
       "\\item 'CD8+ Cytotoxic T'\n",
       "\\item 'CD56+ NK'\n",
       "\\item 'CD8+ Cytotoxic T'\n",
       "\\item 'CD8+/CD45RA+ Naive Cytotoxic'\n",
       "\\item 'CD8+/CD45RA+ Naive Cytotoxic'\n",
       "\\item 'CD4+/CD45RO+ Memory'\n",
       "\\item 'CD56+ NK'\n",
       "\\item 'CD8+ Cytotoxic T'\n",
       "\\item 'CD4+/CD25 T Reg'\n",
       "\\item 'CD8+ Cytotoxic T'\n",
       "\\item 'CD8+ Cytotoxic T'\n",
       "\\item 'CD8+ Cytotoxic T'\n",
       "\\item 'CD8+ Cytotoxic T'\n",
       "\\item 'CD4+/CD45RA+/CD25- Naive T'\n",
       "\\item 'CD19+ B'\n",
       "\\item 'CD4+/CD45RA+/CD25- Naive T'\n",
       "\\item 'CD8+ Cytotoxic T'\n",
       "\\item 'CD8+ Cytotoxic T'\n",
       "\\item 'CD4+/CD25 T Reg'\n",
       "\\item 'CD8+/CD45RA+ Naive Cytotoxic'\n",
       "\\item 'CD4+/CD45RA+/CD25- Naive T'\n",
       "\\item 'CD8+ Cytotoxic T'\n",
       "\\item 'CD19+ B'\n",
       "\\end{enumerate*}\n"
      ],
      "text/markdown": [
       "1. 'CD19+ B'\n",
       "2. 'CD8+/CD45RA+ Naive Cytotoxic'\n",
       "3. 'CD8+/CD45RA+ Naive Cytotoxic'\n",
       "4. 'CD56+ NK'\n",
       "5. 'CD4+/CD45RO+ Memory'\n",
       "6. 'CD8+/CD45RA+ Naive Cytotoxic'\n",
       "7. 'CD34+'\n",
       "8. 'CD4+/CD45RA+/CD25- Naive T'\n",
       "9. 'CD8+ Cytotoxic T'\n",
       "10. 'Dendritic'\n",
       "11. 'CD8+/CD45RA+ Naive Cytotoxic'\n",
       "12. 'CD8+ Cytotoxic T'\n",
       "13. 'CD4+/CD45RO+ Memory'\n",
       "14. 'CD8+/CD45RA+ Naive Cytotoxic'\n",
       "15. 'CD8+/CD45RA+ Naive Cytotoxic'\n",
       "16. 'CD8+ Cytotoxic T'\n",
       "17. 'CD56+ NK'\n",
       "18. 'CD8+ Cytotoxic T'\n",
       "19. 'CD8+/CD45RA+ Naive Cytotoxic'\n",
       "20. 'CD4+/CD25 T Reg'\n",
       "21. 'CD8+ Cytotoxic T'\n",
       "22. 'CD56+ NK'\n",
       "23. 'CD14+ Monocyte'\n",
       "24. 'CD8+/CD45RA+ Naive Cytotoxic'\n",
       "25. 'Dendritic'\n",
       "26. 'CD8+ Cytotoxic T'\n",
       "27. 'CD8+/CD45RA+ Naive Cytotoxic'\n",
       "28. 'CD8+/CD45RA+ Naive Cytotoxic'\n",
       "29. 'CD19+ B'\n",
       "30. 'CD56+ NK'\n",
       "31. 'CD8+/CD45RA+ Naive Cytotoxic'\n",
       "32. 'CD8+/CD45RA+ Naive Cytotoxic'\n",
       "33. 'CD8+/CD45RA+ Naive Cytotoxic'\n",
       "34. 'CD56+ NK'\n",
       "35. 'CD8+ Cytotoxic T'\n",
       "36. 'CD8+/CD45RA+ Naive Cytotoxic'\n",
       "37. 'CD14+ Monocyte'\n",
       "38. 'CD4+/CD25 T Reg'\n",
       "39. 'CD8+/CD45RA+ Naive Cytotoxic'\n",
       "40. 'CD4+/CD25 T Reg'\n",
       "41. 'CD8+/CD45RA+ Naive Cytotoxic'\n",
       "42. 'CD4+/CD25 T Reg'\n",
       "43. 'CD8+/CD45RA+ Naive Cytotoxic'\n",
       "44. 'CD56+ NK'\n",
       "45. 'CD4+/CD45RA+/CD25- Naive T'\n",
       "46. 'CD8+ Cytotoxic T'\n",
       "47. 'CD8+ Cytotoxic T'\n",
       "48. 'CD56+ NK'\n",
       "49. 'CD8+ Cytotoxic T'\n",
       "50. 'CD8+/CD45RA+ Naive Cytotoxic'\n",
       "51. 'CD8+/CD45RA+ Naive Cytotoxic'\n",
       "52. 'CD4+/CD45RO+ Memory'\n",
       "53. 'CD56+ NK'\n",
       "54. 'CD8+ Cytotoxic T'\n",
       "55. 'CD4+/CD25 T Reg'\n",
       "56. 'CD8+ Cytotoxic T'\n",
       "57. 'CD8+ Cytotoxic T'\n",
       "58. 'CD8+ Cytotoxic T'\n",
       "59. 'CD8+ Cytotoxic T'\n",
       "60. 'CD4+/CD45RA+/CD25- Naive T'\n",
       "61. 'CD19+ B'\n",
       "62. 'CD4+/CD45RA+/CD25- Naive T'\n",
       "63. 'CD8+ Cytotoxic T'\n",
       "64. 'CD8+ Cytotoxic T'\n",
       "65. 'CD4+/CD25 T Reg'\n",
       "66. 'CD8+/CD45RA+ Naive Cytotoxic'\n",
       "67. 'CD4+/CD45RA+/CD25- Naive T'\n",
       "68. 'CD8+ Cytotoxic T'\n",
       "69. 'CD19+ B'\n",
       "\n",
       "\n"
      ],
      "text/plain": [
       " [1] \"CD19+ B\"                      \"CD8+/CD45RA+ Naive Cytotoxic\"\n",
       " [3] \"CD8+/CD45RA+ Naive Cytotoxic\" \"CD56+ NK\"                    \n",
       " [5] \"CD4+/CD45RO+ Memory\"          \"CD8+/CD45RA+ Naive Cytotoxic\"\n",
       " [7] \"CD34+\"                        \"CD4+/CD45RA+/CD25- Naive T\"  \n",
       " [9] \"CD8+ Cytotoxic T\"             \"Dendritic\"                   \n",
       "[11] \"CD8+/CD45RA+ Naive Cytotoxic\" \"CD8+ Cytotoxic T\"            \n",
       "[13] \"CD4+/CD45RO+ Memory\"          \"CD8+/CD45RA+ Naive Cytotoxic\"\n",
       "[15] \"CD8+/CD45RA+ Naive Cytotoxic\" \"CD8+ Cytotoxic T\"            \n",
       "[17] \"CD56+ NK\"                     \"CD8+ Cytotoxic T\"            \n",
       "[19] \"CD8+/CD45RA+ Naive Cytotoxic\" \"CD4+/CD25 T Reg\"             \n",
       "[21] \"CD8+ Cytotoxic T\"             \"CD56+ NK\"                    \n",
       "[23] \"CD14+ Monocyte\"               \"CD8+/CD45RA+ Naive Cytotoxic\"\n",
       "[25] \"Dendritic\"                    \"CD8+ Cytotoxic T\"            \n",
       "[27] \"CD8+/CD45RA+ Naive Cytotoxic\" \"CD8+/CD45RA+ Naive Cytotoxic\"\n",
       "[29] \"CD19+ B\"                      \"CD56+ NK\"                    \n",
       "[31] \"CD8+/CD45RA+ Naive Cytotoxic\" \"CD8+/CD45RA+ Naive Cytotoxic\"\n",
       "[33] \"CD8+/CD45RA+ Naive Cytotoxic\" \"CD56+ NK\"                    \n",
       "[35] \"CD8+ Cytotoxic T\"             \"CD8+/CD45RA+ Naive Cytotoxic\"\n",
       "[37] \"CD14+ Monocyte\"               \"CD4+/CD25 T Reg\"             \n",
       "[39] \"CD8+/CD45RA+ Naive Cytotoxic\" \"CD4+/CD25 T Reg\"             \n",
       "[41] \"CD8+/CD45RA+ Naive Cytotoxic\" \"CD4+/CD25 T Reg\"             \n",
       "[43] \"CD8+/CD45RA+ Naive Cytotoxic\" \"CD56+ NK\"                    \n",
       "[45] \"CD4+/CD45RA+/CD25- Naive T\"   \"CD8+ Cytotoxic T\"            \n",
       "[47] \"CD8+ Cytotoxic T\"             \"CD56+ NK\"                    \n",
       "[49] \"CD8+ Cytotoxic T\"             \"CD8+/CD45RA+ Naive Cytotoxic\"\n",
       "[51] \"CD8+/CD45RA+ Naive Cytotoxic\" \"CD4+/CD45RO+ Memory\"         \n",
       "[53] \"CD56+ NK\"                     \"CD8+ Cytotoxic T\"            \n",
       "[55] \"CD4+/CD25 T Reg\"              \"CD8+ Cytotoxic T\"            \n",
       "[57] \"CD8+ Cytotoxic T\"             \"CD8+ Cytotoxic T\"            \n",
       "[59] \"CD8+ Cytotoxic T\"             \"CD4+/CD45RA+/CD25- Naive T\"  \n",
       "[61] \"CD19+ B\"                      \"CD4+/CD45RA+/CD25- Naive T\"  \n",
       "[63] \"CD8+ Cytotoxic T\"             \"CD8+ Cytotoxic T\"            \n",
       "[65] \"CD4+/CD25 T Reg\"              \"CD8+/CD45RA+ Naive Cytotoxic\"\n",
       "[67] \"CD4+/CD45RA+/CD25- Naive T\"   \"CD8+ Cytotoxic T\"            \n",
       "[69] \"CD19+ B\"                     "
      ]
     },
     "metadata": {},
     "output_type": "display_data"
    }
   ],
   "source": [
    "anno_test$celltype"
   ]
  },
  {
   "cell_type": "code",
   "execution_count": null,
   "metadata": {
    "vscode": {
     "languageId": "r"
    }
   },
   "outputs": [],
   "source": []
  },
  {
   "cell_type": "code",
   "execution_count": 26,
   "metadata": {
    "vscode": {
     "languageId": "r"
    }
   },
   "outputs": [
    {
     "name": "stderr",
     "output_type": "stream",
     "text": [
      "Warning message in asMethod(object):\n",
      "“sparse->dense coercion: allocating vector of size 16.7 GiB”\n"
     ]
    },
    {
     "name": "stderr",
     "output_type": "stream",
     "text": [
      "Computing Fuzzy Matrix\n",
      "\n"
     ]
    },
    {
     "name": "stdout",
     "output_type": "stream",
     "text": [
      "171.34 sec elapsed\n"
     ]
    },
    {
     "name": "stderr",
     "output_type": "stream",
     "text": [
      "Computing SVD\n",
      "\n"
     ]
    },
    {
     "name": "stdout",
     "output_type": "stream",
     "text": [
      "239.331 sec elapsed\n"
     ]
    },
    {
     "name": "stderr",
     "output_type": "stream",
     "text": [
      "Computing Coordinates\n",
      "\n"
     ]
    },
    {
     "name": "stdout",
     "output_type": "stream",
     "text": [
      "22.265 sec elapsed\n"
     ]
    },
    {
     "name": "stderr",
     "output_type": "stream",
     "text": [
      "\n",
      "calculating distance\n",
      "\n",
      "\n",
      "\n",
      "creating ranking\n",
      "\n",
      "\n",
      "\n",
      "creating geneset\n",
      "\n",
      "\n"
     ]
    }
   ],
   "source": [
    "#cell match\n",
    "ref=RunMCA(ref)\n",
    "# Extracting per-cell gene signatures from the Baron dataset with CelliD(c)\n",
    "ref_cell_gs <- GetCellGeneSet(ref, dims = 1:50, n.features = 200)"
   ]
  },
  {
   "cell_type": "code",
   "execution_count": 29,
   "metadata": {
    "vscode": {
     "languageId": "r"
    }
   },
   "outputs": [],
   "source": [
    "ref$celltype=anno_train$celltype"
   ]
  },
  {
   "cell_type": "code",
   "execution_count": 30,
   "metadata": {
    "vscode": {
     "languageId": "r"
    }
   },
   "outputs": [
    {
     "name": "stderr",
     "output_type": "stream",
     "text": [
      "\n",
      "creating ranking\n",
      "\n",
      "\n"
     ]
    }
   ],
   "source": [
    "# Extracting per-group gene signatures from the Baron dataset with CelliD(g)\n",
    "ref_group_gs <- GetGroupGeneSet(ref, dims = 1:50, n.features = 200, group.by = \"celltype\")"
   ]
  },
  {
   "cell_type": "code",
   "execution_count": 31,
   "metadata": {
    "vscode": {
     "languageId": "r"
    }
   },
   "outputs": [
    {
     "name": "stderr",
     "output_type": "stream",
     "text": [
      "Warning message in simpleLoess(y, x, w, span, degree = degree, parametric = parametric, :\n",
      "“at  -1.8561”\n",
      "Warning message in simpleLoess(y, x, w, span, degree = degree, parametric = parametric, :\n",
      "“radius  0.00029837”\n",
      "Warning message in simpleLoess(y, x, w, span, degree = degree, parametric = parametric, :\n",
      "“all data on boundary of neighborhood. make span bigger”\n",
      "Warning message in simpleLoess(y, x, w, span, degree = degree, parametric = parametric, :\n",
      "“pseudoinverse used at -1.8561”\n",
      "Warning message in simpleLoess(y, x, w, span, degree = degree, parametric = parametric, :\n",
      "“neighborhood radius 0.017273”\n",
      "Warning message in simpleLoess(y, x, w, span, degree = degree, parametric = parametric, :\n",
      "“reciprocal condition number  1”\n",
      "Warning message in simpleLoess(y, x, w, span, degree = degree, parametric = parametric, :\n",
      "“There are other near singularities as well. 0.090619”\n",
      "Warning message in simpleLoess(y, x, w, span, degree = degree, parametric = parametric, :\n",
      "“zero-width neighborhood. make span bigger”\n",
      "Centering and scaling data matrix\n",
      "\n",
      "Computing Fuzzy Matrix\n",
      "\n"
     ]
    },
    {
     "name": "stdout",
     "output_type": "stream",
     "text": [
      "0.015 sec elapsed\n"
     ]
    },
    {
     "name": "stderr",
     "output_type": "stream",
     "text": [
      "Computing SVD\n",
      "\n",
      "Warning message in irlba::irlba(A = MCAPrepRes$Z, nv = nmcs + 1, nu = 1):\n",
      "“You're computing too large a percentage of total singular values, use a standard svd instead.”\n"
     ]
    },
    {
     "name": "stdout",
     "output_type": "stream",
     "text": [
      "0.072 sec elapsed\n"
     ]
    },
    {
     "name": "stderr",
     "output_type": "stream",
     "text": [
      "Computing Coordinates\n",
      "\n"
     ]
    },
    {
     "name": "stdout",
     "output_type": "stream",
     "text": [
      "0.007 sec elapsed\n"
     ]
    }
   ],
   "source": [
    "query <- NormalizeData(query)\n",
    "query <- FindVariableFeatures(query)\n",
    "query <- ScaleData(query)\n",
    "query <- RunMCA(query, nmcs = 50)"
   ]
  },
  {
   "cell_type": "code",
   "execution_count": 32,
   "metadata": {
    "vscode": {
     "languageId": "r"
    }
   },
   "outputs": [
    {
     "name": "stderr",
     "output_type": "stream",
     "text": [
      "Warning message in irlba(A = t(x = object), nv = npcs, ...):\n",
      "“You're computing too large a percentage of total singular values, use a standard svd instead.”\n",
      "PC_ 1 \n",
      "Positive:  SDPR, PPBP, GNG11, RUFY1, ACRBP, TMEM40, ARHGAP6, GP6, PF4, SPARC \n",
      "\t   CLU, PTCRA, MPP1, CMTM5, CLDN5, PLA2G12A, TUBB1, C2orf88, MAP3K7CL, TSC22D1 \n",
      "\t   STX11, EXOC4, NRGN, RGS18, SMOX, MEF2C, CRAT, LYPLAL1, HIST1H2AC, GP9 \n",
      "Negative:  RPL13, RPS4X, RPL10, RPS18, RPS3, RPL18A, RPS3A, RPS2, RPL32, RPL10A \n",
      "\t   MALAT1, RPL9, RPS12, RPL12, RPL31, RPL3, RPS23, RPS8, TMSB10, TPT1 \n",
      "\t   RPL13A, RPL23A, RPS6, RPL34, RPS25, RPLP1, RPL29, RPL6, RPL7, RPL26 \n",
      "PC_ 2 \n",
      "Positive:  RPL21, RPL11, BTG1, RPL13A, RPS25, RPS14, RPS6, GYPC, RSL1D1, RPL9 \n",
      "\t   RPL3, NCOA4, RPL13, PIM1, APEX1, TXNIP, KLHL24, RTN3, SP140L, TALDO1 \n",
      "\t   GNL3, NCK2, HERPUD2, RAB37, PRDX2, CYB5R1, LBH, B2M, RBM38, CCR7 \n",
      "Negative:  WDR61, ROGDI, TBC1D23, CIR1, NAPG, PRPF38A, CPNE3, SSR3, TMEM126B, SEC13 \n",
      "\t   COPS7B, PCYT1A, PTRHD1, ARRDC1, CTSH, AC009506.1, SMARCB1, SH3GLB1, GAR1, CLEC10A \n",
      "\t   GSN, MNDA, CPVL, FCER1A, ACTR1A, AC010642.1, MIR4435.1HG, ZNF430, RBPJ, PITPNA \n",
      "PC_ 3 \n",
      "Positive:  LYZ, IGSF6, FCER1A, CLEC10A, CPVL, MNDA, GSN, RNF130, CST3, FGR \n",
      "\t   HLA.DRA, SPI1, HLA.DMB, HLA.DQA1, C20orf27, HLA.DRB5, HLA.DQA2, HLA.DPB1, UVRAG, ATF5 \n",
      "\t   IFI30, CFP, CTSS, LST1, COMT, TRAF3, E2F6, ANKRD13A, EIF2AK4, PPAN \n",
      "Negative:  NKG7, GNLY, CCL4, GZMB, HOPX, CD7, PRF1, CST7, B2M, C12orf75 \n",
      "\t   GZMA, NDUFS6, CTSW, CLIC3, PLEKHF1, FGFBP2, PTTG1, C5orf56, GZMH, GZMM \n",
      "\t   PLEK, NUDT16, TBC1D23, TNIK, RNF167, RAB27A, ANP32A, HLA.C, SRSF1, CD99 \n",
      "PC_ 4 \n",
      "Positive:  TYROBP, CST7, GZMA, GZMB, FGFBP2, NKG7, CLIC3, PLEK, CEBPD, GNLY \n",
      "\t   HOPX, PRF1, ACAA2, FCER1G, CTSW, TTC38, CCL4, GZMH, RHOBTB3, CCL3 \n",
      "\t   HS1BP3, TP53I13, NNT.AS1, GSAP, RAB4B, MATK, SPON2, CD160, TBX21, PDLIM2 \n",
      "Negative:  LTB, EEF1B2, LAT, NDUFV2, SH3GLB1, NOSIP, C14orf119, RPL13A, RAB11A, RPL11 \n",
      "\t   RPS6, NAPG, PSMC3, CD27, SNRPD3, SFPQ, GIMAP7, ACTR1A, PTPLAD2, RUVBL1 \n",
      "\t   RAD21, EIF4G2, PKM, ISCA1, TRUB2, GAR1, C6orf48, GTF2H5, RBPJ, GRAP2 \n",
      "PC_ 5 \n",
      "Positive:  ICAM3, ZYX, AES, CD247, HS1BP3, LSM1, UVRAG, ERGIC3, KAT6B, KDELR2 \n",
      "\t   BAZ1A, EIF4A2, NAA10, HNRNPM, PTPN2, FCER1A, MNDA, GSN, CLEC10A, CPVL \n",
      "\t   RAB4B, CARS, HNRNPA2B1, IER3IP1.1, GRN, CTSD, RTFDC1, GTPBP8, MRPL37, HINT2 \n",
      "Negative:  STX7, TANK, RASSF1, FCRLA, HVCN1, CD79B, MS4A1, ARHGAP24, LINC00926, CD79A \n",
      "\t   HAGH, PIH1D1, EAF2, MRPS23, MESDC2, DDX56, CEPT1, HLA.DRB1, ATG4C, ANXA5 \n",
      "\t   FCN1, PDHB, PLP2, RNF141, APOBEC3C, PPAPDC1B, AHNAK, HLA.DRB5, ABCF2, FKBP2 \n",
      "\n",
      "19:15:47 UMAP embedding parameters a = 0.9922 b = 1.112\n",
      "\n",
      "19:15:48 Read 69 rows and found 30 numeric columns\n",
      "\n",
      "19:15:48 Using Annoy for neighbor search, n_neighbors = 30\n",
      "\n",
      "19:15:48 Building Annoy index with metric = cosine, n_trees = 50\n",
      "\n",
      "0%   10   20   30   40   50   60   70   80   90   100%\n",
      "\n",
      "[----|----|----|----|----|----|----|----|----|----|\n",
      "\n",
      "*\n",
      "*\n",
      "*\n",
      "*\n",
      "*\n",
      "*\n",
      "*\n",
      "*\n",
      "*\n",
      "*\n",
      "*\n",
      "*\n",
      "*\n",
      "*\n",
      "*\n",
      "*\n",
      "*\n",
      "*\n",
      "*\n",
      "*\n",
      "*\n",
      "*\n",
      "*\n",
      "*\n",
      "*\n",
      "*\n",
      "*\n",
      "*\n",
      "*\n",
      "*\n",
      "*\n",
      "*\n",
      "*\n",
      "*\n",
      "*\n",
      "*\n",
      "*\n",
      "*\n",
      "*\n",
      "*\n",
      "*\n",
      "*\n",
      "*\n",
      "*\n",
      "*\n",
      "*\n",
      "*\n",
      "*\n",
      "*\n",
      "*\n",
      "|\n",
      "\n",
      "19:15:48 Writing NN index file to temp file /tmp/RtmpEeUuKR/file1b17e2b36a650\n",
      "\n",
      "19:15:48 Searching Annoy index using 1 thread, search_k = 3000\n",
      "\n",
      "19:15:48 Annoy recall = 100%\n",
      "\n",
      "19:15:59 Commencing smooth kNN distance calibration using 1 thread\n",
      " with target n_neighbors = 30\n",
      "\n",
      "19:16:01 Initializing from normalized Laplacian + noise (using RSpectra)\n",
      "\n",
      "19:16:01 Commencing optimization for 500 epochs, with 2210 positive edges\n",
      "\n",
      "19:16:02 Optimization finished\n",
      "\n"
     ]
    },
    {
     "ename": "ERROR",
     "evalue": "Error in .check_tsne_params(nrow(X), dims = dims, perplexity = perplexity, : perplexity is too large for the number of samples\n",
     "output_type": "error",
     "traceback": [
      "Error in .check_tsne_params(nrow(X), dims = dims, perplexity = perplexity, : perplexity is too large for the number of samples\nTraceback:\n",
      "1. RunTSNE(query, dims = 1:30)",
      "2. RunTSNE.Seurat(query, dims = 1:30)",
      "3. RunTSNE(object = object[[reduction]], cells = cells, dims = dims, \n .     seed.use = seed.use, tsne.method = tsne.method, dim.embed = dim.embed, \n .     reduction.key = reduction.key, ...)",
      "4. RunTSNE.DimReduc(object = object[[reduction]], cells = cells, \n .     dims = dims, seed.use = seed.use, tsne.method = tsne.method, \n .     dim.embed = dim.embed, reduction.key = reduction.key, ...)",
      "5. do.call(what = \"RunTSNE\", args = args)",
      "6. RunTSNE(object = structure(c(-1.90686355447896, -1.93552468843756, \n . -3.99176815515282, 3.80290532672976, -1.92622796422705, -1.76873347744926, \n . 74.5307267558477, -3.37561524960265, -1.69291074624827, 3.5236238982655, \n . -3.43446448148256, -3.63309538851661, -0.838030153537225, -2.93581702268645, \n . -2.96292408591591, -2.96511110025317, 3.9797754935631, 1.75101932990216, \n . -3.30575458624444, -4.26106758179059, 0.87576736372527, 3.79380551753661, \n . 0.65409909919772, -3.57332756511222, -0.408849948230221, -0.910569248432211, \n . -1.07978117549533, -2.81563715255063, -4.16377142111003, 7.04644594067441, \n . -1.66240348731593, -2.19894984464905, -3.94168584030087, 4.44422974207569, \n . -3.03023800116857, -3.35078947245266, 3.50404092103714, -1.20260199788439, \n . -3.11718298428959, 0.437182485936892, -4.07099589186932, -1.20229069143857, \n . -3.54948290198407, 9.67060565817944, -0.27143677411455, 4.60417042303772, \n . -1.29651196527946, 1.86922662354278, -3.75791862850034, -3.84388058704543, \n . -1.77176617351128, -2.98866770771812, 1.33957785961266, -2.27367564187578, \n . -1.78615388624467, -2.30576927655001, -3.2881506289973, -2.42690013202537, \n . 3.44735946041048, -3.08765961264383, -1.77925324126432, -3.44600052047482, \n . 0.39623835774852, 0.0651425201473759, -3.08525688133841, -3.74560156471313, \n . -3.20485102597363, -0.950331735988562, -3.21369093260473, 2.95858750027251, \n . 2.31659881692617, 2.52854510827984, -6.18343774311748, 5.3267716238075, \n . 5.97546134792415, 8.84791091351156, 4.21794242231391, 0.571384536053302, \n . -37.1816058407841, 6.11775773056532, 1.65135740185422, -4.7430223733687, \n . 3.82144973008488, 4.44441299489827, -0.85421783433699, 0.933453901527468, \n . 0.940967457264807, 2.26339086976539, 4.75068312957417, 1.59980777611772, \n . -0.545171654923746, 1.16175063626998, 0.587372561036169, -1.22144416447561, \n . 1.73006770343491, 3.56600407787847, 2.82403683357771, 2.99771992886567, \n . 1.78979832230186, 4.24123088550573, -0.279612463784462, 1.5317951576941, \n . -4.49965525090941, -0.694015458885338, 4.40264343367981, -5.23800643940264, \n . -2.58496749483969, 5.88348974036284, 2.79240402746393, 2.02861199151488, \n . -1.01666011933669, 5.41649018896843, -4.53489744684015, -4.28729097706249, \n . -49.1422398478768, 3.34279121549627, 2.16387752981504, 4.41674769627322, \n . 1.19193906206671, 4.49112245452646, -2.2770375831584, 0.431877173437563, \n . 1.78097399034359, 1.29182299828557, -0.222630527171712, -10.9409955402258, \n . 0.155712972884472, 1.72934479802167, 3.63921948807868, 7.16934763925111, \n . 1.26458049372782, 2.62358789436893, 5.76005013615773, -7.7218347302476, \n . 1.84168288909496, -1.27193056555104, 1.98661775203086, -0.0605208768576011, \n . 6.15686456481638, 1.1434696166487, 1.01517683345048, -8.562078581159, \n . 0.679955839968049, -0.843820058732442, 6.34641216323132, 3.67886667741898, \n . 1.13412220545468, 40.7482318589198, 3.00200362804613, -1.72670067855634, \n . -2.12285708148613, 0.198037341840938, 2.93224837513215, 0.89603680476608, \n . -7.29182254630866, 0.023447172618533, -0.182620825920062, 1.4627834075934, \n . -3.17357656417306, -7.55607494686321, 9.4010964709199, 1.11871032870199, \n . 6.63165985153574, -5.09067100955188, -1.22317574465274, 2.04623803466748, \n . 0.914077702617174, -9.94944375373428, 1.29452978109486, -0.969640709633486, \n . -1.57939405486625, -17.2088570352944, 1.71969350322292, -0.0858524898794178, \n . 15.925431623541, 5.03950487555128, 2.54849303116799, -0.748320279603308, \n . 1.16577544947638, -3.1096566079856, 1.19495140168333, -18.3677378311375, \n . -2.73473374975528, -24.5697221977516, -3.30546004888595, -5.21413713090533, \n . 1.05933144692664, 1.8388522004372, 1.47451701774213, 2.88194002751305, \n . -3.65733970305729, 0.217284696613741, 2.1645828928307, -1.26943632357814, \n . -2.44234618412044, -1.55590997932587, -2.01632329786302, 1.75431860534574, \n . 1.41757136921148, 4.16255104812277, -2.37781790459676, -1.84732497520659, \n . -2.71146676587074, 0.922989381745045, -0.443464192764066, 1.04901165504462, \n . 6.57701436760015, 1.3905909089426, -0.375937762162848, -4.07433897612638, \n . 13.9782304222136, -0.967816891454932, 0.066380749128299, -13.6927827468407, \n . -0.474306495793907, -1.22355524054157, 15.2734755078485, -1.94434238335575, \n . -7.13945015817424, -5.11186569349767, -4.44441096449763, -1.68604129718827, \n . -5.50569428048548, 8.40629966824096, 3.51011209482004, -1.10425202274425, \n . -4.50809031427046, 3.04739658420201, 12.930008312166, 6.22289374242179, \n . -6.53295640142475, 5.20116001883556, 1.37934749387323, -0.862246408780306, \n . -1.63703626324941, -5.12986178437501, 16.0549760365148, -1.70194660495866, \n . -4.98316085196436, -8.32320720006251, 20.1394677904668, -1.53803160417804, \n . -1.58836569919337, 15.1501536508611, -3.46939089917706, -1.69762774081662, \n . 0.204780287502902, -3.31518796625934, -0.938954382663966, -1.30115711837332, \n . 22.2576105253206, -9.01877849950531, -17.9322361214177, 3.72014982436235, \n . 8.48294279217525, -3.91858257539944, -5.67152652885332, 2.96866903780211, \n . -6.28323293177025, 8.7960802663225, -2.37907613031055, -3.04174564090261, \n . -0.680700859980829, -9.71879871087618, -4.4833289034431, -1.63514713699729, \n . -1.86026845135779, 0.441729339210894, -5.65340577902508, 3.48623060661477, \n . 2.7440775524925, -6.89604593946156, -1.47685866116277, -3.79095884284351, \n . 2.72236753427927, 1.1375771192997, -26.7498001919725, 1.75457839984132, \n . 3.07242514500871, -4.89028132820357, 2.51385767262782, -1.00986060942637, \n . 1.51311302207628, 1.22544206628607, 0.089236166187073, 16.0242223931628, \n . 3.14438574794538, 3.50238914084045, -3.38051602284584, 4.16437352439368, \n . 2.68339853058069, 6.18501212186083, -4.50664225115069, 1.83982590561043, \n . 3.82199805040063, 2.60785280501892, -0.124200491280763, -1.14380323635365, \n . -13.7946987070413, 2.32834676273649, -4.98425403797377, -1.91731629367815, \n . 0.012718223796844, -1.19983058224503, 0.736748479629335, 2.92115216407861, \n . 2.56693959806952, 3.35251941406791, 5.8278931587876, 13.8302376671237, \n . 2.80322091794147, 0.0641254769189618, -17.8203637188572, -1.91026865927259, \n . 0.536890169280803, -1.79695186400264, 1.28950697342567, 1.12202814373251, \n . 0.374933143487139, 10.7717367825664, -0.772346069900953, -12.8702107884828, \n . -1.64784406301516, -4.30822326476068, -0.477107634708504, 2.73532685543016, \n . -2.57096599503627, -5.95205181766366, -9.92552021212196, 1.08407502279005, \n . 7.092313164584, 3.38138336528046, 7.5467882868575, 4.74281255446536, \n . -5.46357549617885, 0.811652139491102, -0.774896005211373, 6.50045342642407, \n . 1.9543619376827, 0.645598209938321, 3.36380669075577, -0.494057127923434, \n . 0.646771545028346, -0.179498697150456, -12.5213657997537, 17.1853091938299, \n . 1.6493846567574, 1.61049288894279, -8.20287220304895, -1.10603278317777, \n . 2.90136308957075, -0.526583431228387, -0.985991918018068, -1.65446193150634, \n . 6.9194407121425, -3.64174467495814, -6.90973983227473, -7.8649337072885, \n . -3.76232681528605, -0.265771875793307, -1.56181907636298, -6.45964590579504, \n . -1.29647395399624, -0.0804200295748061, 4.30828131363162, -0.595343864879421, \n . 3.26284854549898, -7.35079512256188, 1.77351525248613, -3.2477712701582, \n . -2.66449499442163, 0.722865587801811, -2.25546968911444, 2.87658507807759, \n . 5.27340222273817, 2.86471560235538, 7.00324131906464, -0.427023130762518, \n . -20.3624082272828, -4.82063143998339, 0.85719356109743, -18.4938346695523, \n . -1.5993355338405, 6.16934936471351, -1.74255003474305, -0.8285828956097, \n . 3.92783116580187, 3.51487704898527, 26.7435797302699, 0.659211749591935, \n . 1.2039147806262, -2.44159210172602, 1.22268527837971, 3.56353089937888, \n . -2.66072738203564, -0.127214449184363, 2.38320352793888, 1.78016062515081, \n . -7.02941737270648, 3.4403773450743, 0.457537044392099, -7.45388581583354, \n . 2.5531192372501, -3.01335743067503, 1.78685097671142, 0.47580880454381, \n . 1.90408416395761, -0.955363436671472, 0.863603135781791, 1.59410685137697, \n . -0.953100656891417, -1.13506825780205, -1.16626926409117, 12.190584424916, \n . 14.9301119559711, 3.00702084692026, -0.716231265247615, 14.5829887812372, \n . -0.647999671773039, -3.96799425991416, 0.745875915266766, -1.19313863229342, \n . -0.936505213536352, 5.02188213923908, 0.321208125267743, -1.19657545165036, \n . -7.05993120687339, 0.0384149208673572, -1.05384291676891, 5.07512201913921, \n . -6.39520213435905, 3.85386454095114, -3.79816182698728, -1.23607664241, \n . -3.8209638406857, 7.23888524886231, -9.87538388288019, -3.8754169303805, \n . -7.25129445285033, -0.370777901718065, 1.09849446440871, -1.08693554560495, \n . 3.24936514621912, 6.10277987628726, -3.34928743929699, 8.57709647105233, \n . -8.87815093412156, 6.68677783850698, -0.122653490582229, -1.16176340716682, \n . -14.4429304046294, 1.71788024188409, -3.40317040938598, -0.368569343129473, \n . 2.83844767699347, -4.18787637946322, 3.48418334576196, -18.4194182144933, \n . 2.95888855036858, -3.80951781489084, 2.46881098400622, 5.61613306816989, \n . -0.618349579802719, 1.17489588072071, -2.23195040447375, -2.38559708653466, \n . 1.91294183143536, -0.633430405409837, -4.32234897134793, 1.38873317000563, \n . 13.5562263052668, 14.2486589493284, 4.51941975405975, -1.44992590365203, \n . -2.72902651168105, -3.36458615883791, 7.97766644525255, -0.95177072787917, \n . -14.8780015249066, -2.85445778988027, -0.938579534544335, 0.669866674644822, \n . 4.9211530439485, 11.6969707766412, 0.44446045330207, -0.711073795484118, \n . -30.0903825775334, -2.58288881624157, -1.98659153189336, 1.27569833796996, \n . -0.732547972775702, -7.92070824654232, -2.51666593218355, -3.42622520139729, \n . 3.38916916409106, 1.1653658364169, -2.84629044500304, 2.50593876554531, \n . -4.42877307973577, 4.28851347382096, -2.773568477497, -1.07340977184995, \n . 0.0123438432866244, 1.30329586441007, 6.59017019138083, 0.93623167753396, \n . 2.37703480945717, 2.13942403521441, -8.60506369835302, 0.344321727025689, \n . -1.76450959915963, 0.832214338600707, 2.05086319701749, 1.16437608115723, \n . 0.00467782519391783, -0.660525360797405, 23.5220572918576, 0.929353815568457, \n . 1.50959954207772, 3.12951519662642, 3.71279904252144, 2.01650244645597, \n . -1.12406367290855, -2.39021878694378, 0.352270131371864, 6.45047490805102, \n . -4.8136531940895, -3.32741381500351, 3.60961671448793, -4.61945896999542, \n . -3.92995182875573, -1.01480679431779, 1.35437715755517, -0.758672445419346, \n . -6.46818039921616, -2.17072716786746, 1.20323808741678, 7.47749286676486, \n . -0.965524111161495, 4.34106138471567, 4.3955410077868, -12.7709904762353, \n . -0.79451834089136, 0.912897910472833, 1.12164005085333, 0.10758709873032, \n . 0.896375671697409, -3.04820678880667, 2.06479313565428, -2.64306036092638, \n . -1.00836975960699, 12.3387775598612, -0.632270272934246, -4.03354173458283, \n . -2.44584949553037, 0.627246085956634, 0.896956165876102, -2.34408728932634, \n . 0.403808446858643, -1.44402012189586, 1.32456827068252, -8.24022409018972, \n . 0.0387590172733106, -9.15077774221795, -20.04056090019, 5.41553471272904, \n . 1.73559582521373, 1.4160915402462, -7.83371896954343, 3.22053104661017, \n . -1.86409373650359, -2.14320165924929, -0.825586276670552, -3.72238889021172, \n . 4.279973873372, -0.102878908272597, 4.96345161416228, 5.32564615532161, \n . 0.311622525886581, 1.32319055397635, 2.9085565436861, -0.433757856305907, \n . -1.45310652066986, -1.09841505242715, -5.13209879043047, -1.02079550429362, \n . -6.67120893828785, 2.13262931686155, 12.3052885176315, 0.947954573994994, \n . -1.28234510148297, -1.87395757774503, 2.93247828756281, -2.53315398920651, \n . 1.34867701014449, 8.5632970173998, -3.95245051706639, -4.00495131342984, \n . -3.21501554850154, -3.33443710878294, -2.62450834641403, -2.16404467841451, \n . -2.0707779600942, -2.96599496870011, -1.27503283165208, 0.900789799628617, \n . 1.2109543995094, -4.61287973388377, 28.8418534218569, 4.32521521389527, \n . 3.22203910842778, 0.0077996030450185, -1.12421849310206, 4.87160184336471, \n . -4.02990728848781, -1.91642824371008, 17.1755895334727, -2.21223145161493, \n . -2.65729138312944, -1.39424960281196, 6.89875886331678, -8.71221166156973, \n . 9.93544090044286, -1.1306477296216, -5.76674224044994, -0.509599772925854, \n . 5.33557152738207, 0.445479939019135, 3.28696602479751, -0.372747425482429, \n . -2.23640110053839, 2.8795194638074, 7.41200945863304, -23.7743214548734, \n . -5.63475660132716, 1.95314366339759, 0.924013697801357, -5.32142134119178, \n . 2.97718438091591, -2.75593494900825, 0.942716132367969, -5.12367356534614, \n . 1.32974846817214, 3.39496447976494, -2.04940191431301, 8.2491729295658, \n . 4.50654217539769, 3.0796627361128, -1.32836225407069, 7.69092214930496, \n . -3.16767125928228, -0.758485626533105, 7.0790878544028, -11.1108268339118, \n . -4.13404023693329, 2.19087411992115, 2.75663150712957, 5.70209491318072, \n . -2.93226296207656, 3.79137139750026, 2.41409367102835, 6.4965152042418, \n . 0.32660595543415, -0.152667164516904, 0.960069848986815, -11.6646272512057, \n . 13.0409403877991, 2.34245505720207, -4.39523955709335, -1.33095879357411, \n . 3.33578105579351, -0.579862569479462, -3.2157223446363, 1.5024952480182, \n . 0.478673414003226, 0.0820406126849244, 9.45410081983328, -5.52866470576099, \n . -2.72768585368701, -3.01078346352848, 2.48683270216741, 4.66975420326832, \n . 0.368740133786488, 1.48384255303973, 3.79333018260357, -18.8733427547317, \n . 1.47465385028297, 5.18677599586205, 0.84105868285097, -8.30281411023532, \n . -9.94414864516804, -2.61796602170224, -2.26430390507608, -8.66609969242988, \n . 0.622571730603202, 2.58137393841508, -1.30642419963042, 1.55575647259778, \n . 1.87018673657298, 3.19417022179719, -3.34850408760598, -13.5560550004015, \n . -4.52243969899344, -9.00074631035828, 3.51596004745456, -4.91764693687816, \n . 18.8008298842894, 8.7356676220471, 3.43726269163844, 0.247845871677144, \n . -1.11952615422816, -1.07200946462452, -3.37671783277005, 7.41907666528056, \n . 2.70944865789653, 5.36334925175357, 1.09743699619996, 1.5228818060874, \n . -4.62923133716592, 8.58946294728658, -1.89957204807635, 1.31162585346439, \n . -11.1680738666918, -3.52848009553101, -3.0269342697524, -0.848884886813662, \n . -12.5398265557253, 6.08690588312158, 0.628507928790369, 4.13239282492559, \n . -0.0677844817664348, -5.56558721314195, 4.72417010874973, -12.8462681150836, \n . -2.04921340871835, 2.53281937010146, 7.17344655706584, 5.33152446593727, \n . 3.26039212955719, -7.03427702796514, 4.96732698101523, -2.06007010027206, \n . 0.752053446856094, 0.666432500922073, 8.60652607595863, 2.19240244930837, \n . 1.58506334909915, -12.4743739506733, 12.0691603066406, 1.50627300888298, \n . 1.15306414839615, -0.430748104908035, -5.49537359800037, -0.651778524685447, \n . 5.03178745126156, -0.598287099604881, -2.0378250967423, 5.37843119098303, \n . 4.31159015855036, 7.14567921638467, 6.07059614941351, -1.34967892219578, \n . -3.68115258644639, -0.520967047775106, -1.97898079218127, -0.0904140287832361, \n . 0.803631142710708, 8.11723766769163, -2.79165129600049, 0.128326864682668, \n . -8.55566082898965, 7.75260677145004, -11.3883913231091, 1.42545246902652, \n . 6.23366770342196, -13.2126222509792, 10.133428238874, -5.61257075005475, \n . 3.89020394074525, -1.72844179384686, -7.47268067510118, -3.85601951567599, \n . -2.4187483539801, 0.62804663206771, -0.166910507435426, 0.434925289713213, \n . 1.03641978364023, -13.8068754007126, -1.28790969342675, -0.900243794681894, \n . -7.57189093815935, -18.891074673191, 7.06643627646804, 11.6166742175396, \n . 1.55031013036635, 0.542870145062974, -4.74687689257916, 2.21629193361106, \n . 4.35198492879397, -2.20015919554309, 7.34961895492248, -2.90077527627381, \n . 3.31776539160717, 0.402340953628196, -1.464434014234, -1.0588682935854, \n . -9.53554061690297, 1.3039102257702, 4.61568124984139, 2.99201327945726, \n . 9.18661373892114, -1.95997404770147, 3.63008411104261, 6.85404155656689, \n . 4.55020832086876, -2.46292470138879, 6.26692100264424, 4.80972291666387, \n . 4.71958455429792, -0.411179892842881, -8.00705638494898, -1.02642761179938, \n . 0.190240276144161, 6.61082428049559, -0.1821574125238, -0.071708352331812, \n . 2.06823306461197, -6.70162551376624, -8.53482721141556, 2.050420037817, \n . 1.5348047694705, -12.3152154418425, -1.04572145353102, 3.92506455153226, \n . -2.963344351088, 0.497079551791896, -2.78075378355802, -3.20453434383905, \n . 5.29024296387228, -11.771039900572, 4.9248215098436, 1.80205894824941, \n . -2.32826633487065, -2.54377545252903, -6.79288130822774, 1.60743305667505, \n . -2.28730412280387, -1.56392247038291, -4.15124498861767, 5.27184542733945, \n . 3.7834134287196, 2.36619820569784, -2.45378804529696, -5.44492680211619, \n . -2.81702160289869, 0.630101894740817, -10.589871774409, 11.3479516093151, \n . -0.745558022776769, 7.75173156319253, 7.66892115554226, -3.0528935345776, \n . -4.65769665174463, -0.151612172216181, 9.46463158408283, 9.63340346053136, \n . -5.07927496491771, -2.16197129681461, 1.35012612307645, 1.17743492661588, \n . -1.08618084724297, 4.05675132647306, 7.74242215063045, 1.00917462160305, \n . -2.44808748850683, -4.59214637162289, -2.61459915832328, 5.57423291583883, \n . 2.78828930020965, 5.2643354639838, -5.88785166141113, -4.23910472451213, \n . -8.27845903028975, 3.53518843178135, 0.817888770933526, 6.60486460779734, \n . 18.9348433687692, -6.28948643238077, -2.58272414755944, 6.64584849874489, \n . 4.31365878770795, 3.20375101806674, -13.2429973469534, -6.16650266218437, \n . -1.34499852364172, 5.64563238135429, -0.00398198632518551, -3.16341359885452, \n . 0.387702525186784, -1.56349661379014, -1.58228303722674, 0.796974783054472, \n . 2.07546982379335, 0.13003618027895, -0.377991530536044, -3.27072177996283, \n . 1.60905520560854, -3.4470936343191, 4.56995618493224, -11.5961460364572, \n . -0.259689100814928, 3.57001546557943, -2.97810764054099, -17.7044995031686, \n . -8.00041156033033, -2.2515366444145, -0.669171866119125, 1.00571957945135, \n . 9.71194880894247, 7.80324858350146, 2.58342965180094, 0.386880580030242, \n . -4.39783666733309, -1.54244760713709, 1.56570062869128, 1.29331658585071, \n . 23.1079442210936, 0.830410894160258, -4.04976296432354, 0.673390370135349, \n . 2.14260875295379, 2.27791788248611, 1.56656500719326, -3.00023529587319, \n . -10.5462387103231, 0.11832223848798, 3.56327582813698, 0.520500266344045, \n . 4.73206232889498, -1.19534502273571, -12.9855617324543, 7.4984755499128, \n . 1.72133468859505, 0.70640963900171, 7.65432081969808, 1.02046176696606, \n . 3.77125313746176, -2.67647397854472, 5.00993917718985, -3.04061201953112, \n . 1.68966761524665, -5.01434296015844, -3.27845198962707, -9.24360341246576, \n . -4.00648109454996, 1.45679993117108, 1.20625527688108, 1.54351226025134, \n . 0.834480052231201, -5.75851671686829, 1.16069717823235, 15.6246896034564, \n . 2.94541869280482, 0.232803005699436, -2.22532722864127, -1.27317082428659, \n . 2.60711787332032, -4.8866694910885, -4.09781602953242, 5.9677372352852, \n . 0.247350531362625, 2.11715909863093, 0.472413947902791, -0.346108984312505, \n . -3.3551786995439, 0.362235008523823, 1.86036222636124, 4.59637228335358, \n . 1.52821872598477, -7.56651395932571, -0.16483782569666, -2.20225577601275, \n . -2.34888771980444, 3.23890897824139, 0.5945071484931, 0.805069580057942, \n . -0.407702454964754, -0.612785599585371, 7.16181291842004, 10.5261898703429, \n . 1.80508021432535, -1.27186756251516, -3.86135543015572, -2.95010087369633, \n . 6.21148369151156, -8.63390856128672, -5.50995147015915, 19.041513666414, \n . -2.01524916882309, 10.0477401354787, 3.10255879828061, 2.49606147224584, \n . -5.11642430444842, -5.20736985249172, -0.646276952642093, 1.31635905860076, \n . -7.1262543901834, -4.36148342454664, 0.376356341384993, 4.83319259425671, \n . -3.91001059623629, -2.50281467646033, 0.00732183005564652, -7.10516845424355, \n . 5.05370480100278, 7.94615442942134, 2.27401135062368, 9.98720562123568, \n . -12.1743219692893, -7.27478841380709, -6.80493186977656, -10.0445412679225, \n . 3.11087091872089, -14.0008839976378, 8.24496138314782, -2.53909966897131, \n . -0.585679645033272, -2.07522581591749, 0.554002584201851, 2.93219512968217, \n . 0.212391086017073, 11.824598809521, -5.4760006151291, 0.273726395934358, \n . 3.44551978289658, -3.57742966851978, -1.41275112043433, -1.28072372777125, \n . -0.300855417036751, 2.52800346362765, -1.80581710214479, -1.79697556020081, \n . 0.52903857541232, -12.0058635430919, -0.429883842427389, -1.60982428623275, \n . 24.8302289446686, 5.09517084079022, -8.54196878592364, -1.51993146445986, \n . -1.90280170131676, 7.74619614886438, -5.26262305816682, -4.02787553841969, \n . 1.92798625925165, 5.22418298994717, 1.28838339945812, 3.92362372951216, \n . -3.32850886288202, 1.79864552698762, 0.527407809734835, -4.31214339127991, \n . 0.855017643490911, -2.69460915478445, 7.43565900519631, -0.808730254900603, \n . -0.0356619273034917, -14.5964640471438, -14.1443632674211, 7.6479901557615, \n . -0.973619493995214, -0.0387340871409408, 2.07343464655018, -3.36612049639958, \n . 3.97975199153401, -8.66700988784956, 6.05294520905518, -0.190430241983328, \n . 4.65283006447316, 5.77055864830947, -4.85514342301057, -7.84945184191726, \n . 0.365016961650058, -2.39205931431661, 2.31244064022246, 2.60986289803268, \n . -7.35551300712721, -3.27093539345419, 0.646113185229132, 3.91577870878099, \n . 1.21670985561011, 12.0219020286656, 1.67911467882777, 5.88120628619893, \n . -2.35393693994764, -1.21817156727822, -0.637658598218143, 3.78247420830959, \n . 1.03867472639689, -0.0177193658987115, -5.51742325952104, 3.41022177618146, \n . -0.0389894705852081, 1.37215110377429, -0.947179798187085, -9.84799920083232, \n . -0.247547184127887, 2.50695129941562, -1.41520453910112, 4.19017023677962, \n . 0.408854415947159, -1.15138510816829, -5.4097914180102, -1.05104646521032, \n . 2.04319064917461, -2.18581053581336, 2.5835170271647, -6.06604033485899, \n . -0.374465742486028, -17.7366325653727, -1.86569570062499, 17.631141387532, \n . 0.210457627227392, -4.63630705113452, -6.1820159127633, 7.03279306301973, \n . -0.691788111363144, -10.702760563541, 3.19616222904887, 0.249959403981755, \n . -3.02724976637448, 4.28923493174572, -3.7826671636692, -6.57569070326605, \n . 1.19120739072267, 8.49005909713181, 3.96753967177634, -3.60542434249276, \n . 3.16727978652247, 2.19462721467758, 0.467077036333154, -4.81332896919955, \n . -2.76483460788246, -0.415336711848862, 5.18173186704271, 2.88673581610064, \n . 0.0826906502208473, -5.57441199547231, -5.2458875161954, 0.519911622602115, \n . 0.541870861635381, 3.70565310092268, -0.612183536377406, 5.18151922718268, \n . 0.25712435896264, -4.95555371843638, -1.83511888374812, -6.56029642758935, \n . 6.07537822523603, 4.00123293144735, -4.91539809496289, 6.82275776818766, \n . -5.6984330903568, -3.14514897187893, -0.17877663564842, 6.51701650437264, \n . 14.8466523642816, 4.61587983321872, 13.8086569590312, -2.45157646556237, \n . 3.71925056491262, -5.2142249114947, -0.701072379506865, 6.96432229763567, \n . -0.596219992973372, 5.09013488008825, -10.2779297611481, -1.76422316766054, \n . 0.79584035781897, -0.0263422268471792, -1.29863977059016, 3.3019780745689, \n . 3.58476251380235, 12.2686863453998, 13.6678491007237, -6.69132934964807, \n . 5.38960959731293, -1.18850824831667, -2.52335920012957, -0.97272994891684, \n . 10.5099329166613, 3.55468097709715, -3.46321078653429, 3.72008356875915, \n . -3.4517215650615, -3.58745164865519, -6.1467967416151, 1.15451258852289, \n . 11.5766089340786, -4.56076675190974, 1.60279526290824, -2.4990560376924, \n . -1.23750448631305, -1.71863645600148, -19.2699223131809, 4.54000797253563, \n . 2.70440096386383, 1.20458330810116, -1.9213829216331, -6.50461549249995, \n . 2.58706671900915, -1.16382119366327, -4.32339111281016, -2.81451375809035, \n . -4.40476774342588, -3.10309928000071, 3.1096597251986, -8.84996925046202, \n . 2.16153681506393, 5.66075926227805, 8.99503322847645, -1.55484383448137, \n . 3.09886088404277, 1.28812687430998, 4.03726497973732, -11.2962379747947, \n . -0.770647414305051, -10.007761653621, 1.13542124707768, -1.43819689486755, \n . -0.524595388667458, 11.4776006069467, -3.01529245193764, -2.15481796395683, \n . -3.77641964439454, 0.716841944017111, -0.468536356673801, -0.0271736286670846, \n . 0.466235679721919, 0.466350310912635, -3.09846916327304, 5.66135363874881, \n . -0.932559147825024, -1.07000059133641, 5.34197932906609, -0.848933215176239, \n . 5.35473306529573, -2.24179641151331, 0.779517474915922, -2.81970487606329, \n . -6.1119506465818, 0.655928145073084, 13.2203245487012, -9.80514260868709, \n . 6.96563057752289, 5.11308052892998, -0.126134280239055, -10.0573578891757, \n . -7.01057284960721, -7.1110855857135, 10.4089947468142, 1.36571055606039, \n . 0.0805761088172308, 15.9305704410557, -2.62889308878846, -0.107658326756785, \n . -2.83011333644984, 7.74776864201411, 0.240476977024615, 2.54989702926386, \n . 6.6422447545589, -2.35616875785449, -2.90256929646088, -11.0596833851957, \n . -11.0465938031762, -2.19090623955856, 8.68906752461113, 0.197996650217309, \n . -2.18767933480542, -1.99944265133829, -0.809298986098833, -5.36656124900791, \n . 2.55208116978429, 2.12834684730014, -1.49555183649674, 0.00620106054829715, \n . -0.0749272788000333, 1.68561296971738, 0.318713125970066, -5.27257857008013, \n . 4.23726358491336, 3.08896761827973, 1.41812024256002, 4.85648220242114, \n . 7.43631426236806, 0.424263495979813, 7.06263876780112, -9.90825276920973, \n . 7.01988382719225, -10.9187889759722, -1.7646100822546, -2.96814429201806, \n . 0.777297425036597, 6.39775037880589, -0.771549300116781, 3.95372096627167, \n . -8.01169826635001, -3.26424705720796, 0.321035923720147, -4.46022992877881, \n . -2.43780605391735, 5.4949772950473, 0.380963629093075, 4.03392906092094, \n . -7.99381648288503, 0.779286305377307, 1.05656168982829, -0.372198205487106, \n . -2.50853235910241, -5.90718827787217, 3.48099719303474, 16.6985397432531, \n . 2.87040468859884, -10.884239368873, 1.09887983814925, -0.155810822602628, \n . 4.76781447241228, 7.45150228676174, -0.760270087673621, 2.76444596679102, \n . 1.53672095239947, 2.35316426559696, -3.28080441296719, -0.365055991811296, \n . -4.35911074650804, -2.90704521279609, 0.931254996457806, -0.434117924711559, \n . 0.103851099092501, -12.1630060950498, -1.42680054566343, 2.65785848834389, \n . 8.03631232880627, 2.94055918074813, 2.75287932021116, -8.49729370958579, \n . 3.80919290842893, 0.284011868007084, -7.88248883096761, -6.90276155716648, \n . 2.00205839724654, -7.10064738307543, 1.62180099662279, -0.706312048101018, \n . -3.00148931107557, 8.31838823253293, -1.37107910048875, -3.52181397003737, \n . -4.1536813914998, 5.06470735740089, -1.76876802534947, -1.81466471693137, \n . 5.03126818916524, 21.2708095448472, -7.67946819386611, -0.303398012867555, \n . 2.28192273442707, 2.84690578527704, -3.88123429414609, 1.64805839380699, \n . -0.876442376897221, -1.91758946489315, -6.30442062239066, 3.20777053095726, \n . -1.20888578772438, 5.00228509881196, 3.98358778118747, 0.169560795028888, \n . -5.13893619377754, -11.1838598898277, -1.30034288498627, 8.79992584422192, \n . -2.13972128053263, 2.82809735204001, -0.788385191199916, 1.87554975494493, \n . 0.826977244503535, 3.88874204794273, -8.57976493089684, -1.09886503299143, \n . 3.9321934537877, -5.23967028645469, 5.63609280251877, -0.769519574269152, \n . 0.153801804693687, 11.2573304246784, -3.03246456503995, -1.16150188101994, \n . -8.63413643022453, 2.4740818019903, -10.2071987948927, 7.18937526955773, \n . -0.0540502943101199, 5.84772235566762, 0.241829389642131, 5.35930441299308, \n . -0.383057753172802, -5.44529619646993, -12.2653752731233, -0.000921423178058387, \n . 1.02696516362996, -1.4477043649671, 9.21731088741261, -5.07867056999386, \n . 6.32616917537001, 2.11987186637792, -1.24184800360874, 5.55351090561944, \n . -1.91459547640981, 5.21430860987491, -9.69840260219446, 4.30522245358301, \n . 5.46574971414054, -1.95326360142403, -20.2909730316421, 1.28294848174368, \n . -5.37284154318229, 12.5700090878964, 3.20482119498279, 4.90366259034564, \n . 0.692666833327577, -4.02936393336439, 2.98648438284906, -0.34612498632198, \n . -3.97436050048818, 0.806375541629617, 6.24514312281298, -4.31810353337871, \n . -5.39440229332579, 1.08467473785164, 2.69971344299897, 1.48656565988033, \n . -3.62096501351424, -0.778571529876086, 1.78716922578645, 2.58189595813328, \n . -5.26777977177754, -5.98260131851773, -0.0614191286800918, 0.562923817059098, \n . 2.70611171857374, -1.21825301492779, 9.2015193830133, 4.53221473858169, \n . 7.8065101905941, -0.304399383708281, 0.839629918215508, -2.91699659820884, \n . -0.470651194544191, 2.62152758987019, 0.251622602489982, -12.148319291377, \n . 4.158734613241, 3.79570320235575, -4.6892909364875, 6.55792443885366, \n . 0.833120927409809, 1.54937503148587, -0.512350423771207, 0.0857504080736862, \n . -1.9057743030001, -14.897160939812, 3.51886957595498, -1.45294464594978, \n . -7.30964225219764, -4.03949236252274, 4.64830599323799, -7.95317493824817, \n . -4.27914870078426, 2.339673101053, 1.47510469684321, 3.29909345695852, \n . 2.20479844457611, 17.274904075422, 2.28030843664493, 7.07572581154118, \n . -1.87370597370731, -2.65954682357457, -5.57871238749975, -2.11158081211253, \n . 3.05076352338796, 5.25672969663282, -0.492353304789397, 3.74272652969794, \n . 2.8593136587434, -9.4792293638441, -4.2212224945451, 0.772006538827116, \n . -4.93852458545558, -5.66193215288879, -5.17540275425863, -2.73263090125194, \n . 6.38509800197675, 3.2646430211901, -6.72674940071095, -8.83312895232149, \n . 3.0498227074153, 10.7430783197699, 3.72927749137723, 1.29213964088236, \n . 2.60421238168862, -9.40452439979336, 2.34928587400856, -2.62610568809908, \n . -0.355494807656011, -2.97683152264636, -7.58522337933764, 8.81194913238495, \n . 7.01951589249209, 8.56303392370531, -3.69510977465889, 4.4380773178147, \n . -1.15147815915154, -5.23455389346866, -0.202636712589787, 3.12783787014638, \n . -4.65193873137455, 1.44872240548064, 2.74947837821346, -10.5342662954645, \n . -4.89376975473493, 3.7133338940437, -0.0734935813489563, -4.35926342886686, \n . 10.0186457693569, -3.95628516778144, -4.71251423494291, -3.47242855832919, \n . -1.0777214829582, -5.53028549700494, 9.29241624750819, 9.03400671654753, \n . 3.55888012488037, 6.123931169603, -1.62200519318628, -0.0340369818448789, \n . 4.64934582023495, -0.845543492405195, 3.76144487481678, -8.56020113848347, \n . 0.780222350949543, 2.91130111133219, 1.28256907489932, -1.31575279682089, \n . -9.85330709096293, -2.13199964760469, -3.09574813501983, 3.5976361394667, \n . -2.6323925836721, 0.114568979540295, -1.54655007284161, 0.350724856598729, \n . 6.90606812843328, 0.122659927783342, -4.10953021310196, -13.3057794792296, \n . -2.54105868517003, 14.8821721331164, 0.872545144430698, -10.9020784094589, \n . -2.77025276936896, 2.79760556306369, -8.13681070122046, 8.91194943988046, \n . -4.86270796702631, -1.98723825309235, 0.506528886640483, 4.26666954536813, \n . 0.38113745398275, 6.89873991956871, 9.82524858724648, -1.15802505635669, \n . 4.18063541836974, -7.56060871069433, -0.690537248571491, -3.22316983505191, \n . -0.656573331654764, 7.44699045730757, 9.72203924482356, -0.645826695553072, \n . -3.14955500769358, -1.7916597519867, -1.81866239494988, -0.0435184846249285, \n . 2.75930901993802, -0.732004348406852, 0.689263116383569, -1.34365511439957, \n . 1.12199779611091, 0.950509695147695, -5.88374592490041, 0.129555505094637, \n . -11.3121255151419, -8.72852192187508, -10.5962463196067, 8.37979231076225, \n . -5.52333268025741, -2.57773799211026, -8.61597445456966, -4.85552116227508, \n . 12.3616650128031, -3.96084115360195, 2.08834041967915, 1.37600109250617, \n . 0.113801552237813, -0.871163135971151, -1.43393587610454, -2.56785365683285, \n . 2.16028421508944, 5.09630488042083, 0.443435727974157, 3.16648955497301, \n . 0.0406442663352431, 6.24105998050707, -0.818370771486371, 2.77779714164008, \n . -2.58783109350538, 4.68456745578405, -7.30697397400988, 2.00849718467291, \n . 2.86975850826058, -1.00567610690637, -0.220511509214288, -1.68654925782025, \n . 13.2903002740683, -0.981621983857308, 0.0948304617963292, -4.94670068035871, \n . -10.1560717491146, 1.02158746992498, 0.223770311908139, 7.78112141537769, \n . -2.49873987699631, 3.20256239084988, -4.43449480663555, 8.90751381018599, \n . 1.75250814137449, -1.2289038334733, -9.67860576749046, 12.1063613018124, \n . -0.715975761351123, 3.32911941982341, -1.75265680007681, 1.35434536253584, \n . 8.01475871811953, -11.2353176530702, -3.31974665933536, -2.64963404152601, \n . -10.5781446215541, -1.13734847641392, -1.94120669157, 1.03607650268118, \n . -0.224040411182264, -5.73668737439826, -7.22821289713881, 0.85699394014597, \n . -1.31375500586254, 0.116740647058521, 0.683001182114524, -7.34818140702179, \n . -4.44675094311631, 4.21414134980351, -9.95724846439399, 3.73265057858571, \n . -6.41926239575047, 3.07008460762496, 1.29872290425151, 5.62524797384691, \n . -10.1656690494772, 1.98832465616235, -3.91860120356391, 7.59982249099359, \n . -2.78820865477414, -3.30171675350302, 14.2439399312778, -5.99113426447663, \n . 5.49382742895975, -8.16194720325661, 3.06126893182599, 3.30878906959015, \n . -1.68217763942711, 0.526198438340294, 5.25947714178403, 9.588279180329, \n . 2.8915051794811, 2.16085538555491, -5.96587540331734, -0.400055041142186, \n . -0.208538027455332, -1.54149382611297, 6.04604963376195, -1.85103991802057, \n . -0.00277200178406407, -5.95304704657281, 7.67686481968279, -5.27039336245867, \n . 3.37011771483778, -11.4661027467823, 9.04745925517061, -5.9842864259571, \n . -1.97060425254379, 3.99401803991171, -5.65900590482068, 0.907817693128576, \n . 10.5785392348324, -3.57361072198357, 1.16376179009491, 0.730135410692513, \n . -0.604771506666354, 0.853946107350381, 4.77938681489054, 9.56800748844693, \n . 8.02723520863372, 3.18849249354882, 2.07349111796494, 6.15626607472714, \n . 0.318451534304501, -0.99995095643323, 2.97638471085843, -0.660451097396945, \n . 4.04429105982307, -1.11559391234443, -0.728890514349785, 5.24427368079693, \n . -0.5921856505808, -1.08138208395738, 8.57832124291137, 3.51309305394644, \n . 4.13888868499957, -3.79451965969217, 2.53927318195647, -3.86858131159766, \n . 12.1194402134189, -5.28524242496179, -7.38690324356967, 2.1885590250066, \n . -4.62433861789109, 2.88594100850922, 11.2099172959013, -5.17567458767639, \n . -5.46919185467254, -5.78473891584675, -4.42129710261606, 4.3673447106852, \n . 9.86248789866206, 3.84571549161444, -3.36208757170239, 1.03793370354396, \n . -0.0746466280406948, -9.21456820833399, -1.44355036780959, -0.780638612972939, \n . -3.43959748595472, -3.81657729426336, -6.66282869798187, -3.72680524829805, \n . 5.60093317815387, 0.175715053068483, -3.23360135540059, -12.5700984172876, \n . 1.26397638733842, -2.70829781113137, -7.09539856005895, -3.27524604496008, \n . -6.05720297224543, -0.202222562379333, 1.99994861695537, 6.52422117119767, \n . 3.33451073127889, 14.7274558827426, -2.99479615149757, -0.725383216338861, \n . -6.54422375819904, 5.53443092706721, 2.24084951537168, -3.19326344626438, \n . 14.2025846755306, 5.6735224528721, -0.585462474787723, -3.56314399147241, \n . -2.82551795391416, 0.0259251846970983, -2.7847092698478, -4.46184631320991, \n . -1.33955853672093, 2.05756521763078, 0.120134815204735, 5.56444690966819, \n . -4.05680980459587, -2.83833563618681, 0.902796133785569, -1.8701165451669, \n . 2.41802968817531, -0.960592932687414, -2.29394139671492, 9.11203411420464, \n . -2.19062060108039, 2.2600588526769, 1.58978018462121, -4.73370294468925, \n . -3.20959394114042, -5.47000142450433, 5.07190805048297, -0.485738344450625, \n . -0.201639507508609, 10.3004893970376, -0.812985659769137, 9.04085863325241, \n . -3.97149812166843, 1.30211569162601, -0.820537874858981, -0.10128443208485, \n . -17.1997632038166, -10.3757297905182, 1.02453260319266, -0.114910941310455, \n . -13.674493995862, 3.43162427087305, -16.496491778007, 0.394343482666867, \n . -1.2822832926942, 11.3403445799049, -3.64999402294158, -1.62987715159408, \n . 9.13017304317538, -2.53201474785746, 1.0606467509146, 1.78297027035252, \n . -0.31889264074409, -1.90165878962858, -7.00892761882195, 1.62454233316287, \n . 3.70279685019831, 4.79072396675711, 1.36085701877583, 2.20726046894387, \n . -0.63083143732087, 4.57589288999464, -1.25331307854766, 5.49577653494665, \n . -6.87615441376233, -0.063464849470052, -0.920383568765113, 3.08899139156851, \n . -3.70821814888346, 8.15165454798908, -1.55263851301232, -3.99441212901916, \n . 3.79040238312404, 7.01193702336347, 4.95708144851049, -1.38254855367314, \n . 3.26119082329699, -1.53199433763082, -12.395096945961, 7.47678153027173, \n . 4.70177687304802, 3.83676241144779, -4.21777635220579, 0.211658456716469, \n . 0.024968647265505, 12.7228572297884, -1.30172176740406, 5.74302575863729, \n . 2.00718537144152, -2.62491837823633, -6.11863900891589, -0.237183070266248, \n . 8.3348979466082, -7.86996342649283, -8.01451844591034, 1.40427222615513, \n . 2.33078942203424, 0.479733484347322, 1.50715690046578, -0.436434720882317, \n . -6.00289305592945, 4.73199049297018, 3.42750320337449, -1.75161268210389, \n . -3.40390269964733, -10.2081651933505, 3.30124933865576, -1.16404036589502, \n . 2.54001996359486, 8.1013992581989, 2.2535822080704, -2.46013147149602, \n . -1.39074047065581, -1.5777579153555, 0.468546064034522, 8.56184473950139, \n . 4.76897683076904, -0.121461665029941, -2.36464810105289, -1.24428620386092, \n . -2.75092132617476, -2.23578030756132, 2.86329836819328, -4.08759452744069, \n . -9.4497951241566, 1.02235124046088, 5.39008678973605, -0.0757900696276619, \n . -11.7938051825579, 1.03474197055697, 1.72956201528313, 8.22260924557042, \n . -1.65784671695855, -3.35362420880329, -10.4913581652433, 2.35370440713478, \n . -2.83645433327342, 2.19200002406921, -3.93017152495696, 7.17279045215781, \n . 0.298875011768838, -1.70009917783666, -8.90559307390125, 1.83952513048036, \n . 2.57111452362756, 14.0790824803389, 0.635436169971083, 12.9456391641842, \n . -3.23378058115798, 4.31395113663004, 0.0576063920627186, -2.431844418199, \n . 0.504894908116865, -1.61079466347527, -7.23976062122055, -2.45830801197441, \n . 6.48237253036439, 0.683776630717814, -1.57370817321345, -0.618069398778294, \n . 0.137797917404964, -1.97291049446757, -3.95174545455279, 2.32513696504627, \n . 3.40923245907618, -1.72427695035357, 1.8447945730262, -2.59905155508786, \n . -2.66011065960252, 0.594272573628663, -1.45883083414001, 12.5305990946468, \n . -1.61568118622021, -2.3931952844438, 0.0491996569720954, 4.00914733016776, \n . 2.41159806211143, 7.65257976616482, 4.38167388353977, 2.79736529266496, \n . 2.33971320145037, -0.378457481046362, 1.45056707872618, 10.6644493020876, \n . -8.0066371678169, 5.81313108845054, 1.048667146967, 4.42812956208449, \n . -2.26539316927999, -2.16325364201909, 2.59886897433839, -2.66671795109079, \n . 1.07436119535495, -5.28252598581746, -13.4940323729243, -11.0749730491802, \n . 0.628926834723037, 10.5511413676849, -7.41843850836671, -5.53188482382429, \n . 6.16097970854797, 0.321586629919136, -3.53049215848789, -7.01567222471949, \n . -11.0159578503049, -0.125008058995096, -2.01138155122876, -4.66001757534724, \n . -2.36958350514465, -4.46540657773751, 2.72944365044666, -8.09946903463162, \n . 9.3793743822429, 3.9567285379095, 8.20422780741987, -2.80197742168332, \n . 8.07292374572691, 5.07750795677864, -4.68856078904395, -0.0753481372799892, \n . 11.0183782939125, 0.200681111175651, 0.0624065316513572, 6.86361751054292, \n . 1.34885137982211, -3.83306705328047, -2.01335726751585, 1.67285464275079, \n . 3.28612894088956, -5.21183506026869, 4.14851545840958, 6.12971745801246, \n . -12.5148668580567, 0.361313423582922, 0.783654395097409, 2.01670653580488, \n . 3.22393034223944, -6.09568127118115, -7.00081366451028, -4.34205303644307, \n . 3.10925046458131, 0.284484591070084, -3.11944610931995, 9.36290465340691, \n . -1.5823201166388, -0.230118209679588, 6.98704281917488, -9.43921796601261, \n . 1.81739565739335, 0.649397333548715, 0.274781866761995, 2.67227180279525, \n . 0.947993578579695, -1.60338597547724, -2.47937458579829, -3.77194243782926, \n . 1.40350501351265, 0.643932195232954, -3.70695409805983, -12.6773521682948, \n . -0.849780837037022, -6.25521969523477, -2.80176654459224, 1.0906053697108, \n . -2.64977983337759, -3.35059281060804, 7.16328617311771, 0.408715549596412, \n . 4.59920320263814, -8.05170255205152, -0.662294389479732, -5.74401529947128, \n . 2.23711784840673, 5.48954908800755, -8.03414662275966, 0.706321996033705, \n . 0.0770330523536761, 12.3676741776847, 0.982370922592082, 13.93575910082, \n . -8.13041012961462, -1.22913945271507, 0.898137893998926, 2.57059831590013\n . ), dim = c(69L, 30L), dimnames = list(c(\"CTTCTAGATAAGCC-1\", \"GACGGCACAGAGTA-1\", \n . \"GATATCCTGCAGTT-1\", \"GGATGTACCGTACA-1\", \"TAGGTTCTTTAGGC-1\", \"AGAGGTCTAAGGCG-2\", \n . \"CATCTCCTTGCCTC-2\", \"CGTTATACTTCACT-2\", \"CTATTGACAACTGC-2\", \"GAGAAATGACTACG-2\", \n . \"GCTACGCTACTGTG-2\", \"GTACTACTACTTTC-2\", \"GTGACCCTCCCTCA-2\", \"TACCGAGACGTTAG-2\", \n . \"AACACGTGCATTCT-3\", \"CATGGCCTGGTGTT-3\", \"CCCACATGGTCTAG-3\", \"CGTACCACAGTCAC-3\", \n . \"CGTTATACACGGTT-3\", \"GAAATACTTGTTCT-3\", \"GACGAGGAATTCGG-3\", \"GAGTCAACTGTGGT-3\", \n . \"GGAAGGACCTCTTA-3\", \"GGTTTACTGAGAGC-3\", \"TAGGTGACACGGTT-3\", \"TGACTTTGAATGCC-3\", \n . \"ACGCACCTTTATCC-4\", \"AGGGTTTGCAACTG-4\", \"CAACCGCTGCAGAG-4\", \"CAGCGTCTCCATAG-4\", \n . \"GCTACAGAGACTAC-4\", \"GGTTTACTCGAATC-4\", \"TACGTACTCAACTG-4\", \"TACTAAGAGGTGAG-4\", \n . \"TAGCTACTACCCTC-4\", \"AACGCAACTGGTCA-5\", \"AGTCGCCTGAGACG-5\", \"AGTTTGCTCTACCC-5\", \n . \"ATACCTACGACAAA-5\", \"ATTGATGATCTTCA-5\", \"CAAGGTTGCCTCGT-5\", \"CTGATGGATGGTGT-5\", \n . \"CTTCATGACGCATA-5\", \"GCCGAGTGCTGTTT-5\", \"GCCTGACTTTCTGT-5\", \"GGACAGGAGCATCA-5\", \n . \"TTCTGATGTGTCCC-5\", \"AACAATACAAGGCG-6\", \"CAAGTCGATAACGC-6\", \"CATCGGCTTTCCGC-6\", \n . \"CGAGGCTGGTGTTG-6\", \"GACCATGAGGATCT-6\", \"GATACTCTGAGATA-6\", \"GTTGATCTACACGT-6\", \n . \"TAACCGGATCTACT-6\", \"TACGGAACACCATG-6\", \"TCGAATCTTTCTCA-6\", \"AACCGCCTGCTACA-7\", \n . \"GCAATCGAGAGAGC-7\", \"GTATGGTGGAGGGT-7\", \"TAGCTACTCGTTGA-7\", \"TCATTGACGTAAAG-7\", \n . \"TGACTTTGCCTAAG-7\", \"TTAGGGTGCTTGTT-7\", \"TTCTCAGACGAATC-7\", \"ACACATCTCGGGAA-8\", \n . \"CCTGGACTAGGGTG-8\", \"CTCCGAACTAGCCA-8\", \"GAGTCTGACCAACA-8\"), \n .     c(\"PC_1\", \"PC_2\", \"PC_3\", \"PC_4\", \"PC_5\", \"PC_6\", \"PC_7\", \n .     \"PC_8\", \"PC_9\", \"PC_10\", \"PC_11\", \"PC_12\", \"PC_13\", \"PC_14\", \n .     \"PC_15\", \"PC_16\", \"PC_17\", \"PC_18\", \"PC_19\", \"PC_20\", \"PC_21\", \n .     \"PC_22\", \"PC_23\", \"PC_24\", \"PC_25\", \"PC_26\", \"PC_27\", \"PC_28\", \n .     \"PC_29\", \"PC_30\"))), seed.use = 1, tsne.method = \"Rtsne\", \n .     dim.embed = 2, reduction.key = \"tSNE_\", assay = \"RNA\")",
      "7. RunTSNE.matrix(object = structure(c(-1.90686355447896, -1.93552468843756, \n . -3.99176815515282, 3.80290532672976, -1.92622796422705, -1.76873347744926, \n . 74.5307267558477, -3.37561524960265, -1.69291074624827, 3.5236238982655, \n . -3.43446448148256, -3.63309538851661, -0.838030153537225, -2.93581702268645, \n . -2.96292408591591, -2.96511110025317, 3.9797754935631, 1.75101932990216, \n . -3.30575458624444, -4.26106758179059, 0.87576736372527, 3.79380551753661, \n . 0.65409909919772, -3.57332756511222, -0.408849948230221, -0.910569248432211, \n . -1.07978117549533, -2.81563715255063, -4.16377142111003, 7.04644594067441, \n . -1.66240348731593, -2.19894984464905, -3.94168584030087, 4.44422974207569, \n . -3.03023800116857, -3.35078947245266, 3.50404092103714, -1.20260199788439, \n . -3.11718298428959, 0.437182485936892, -4.07099589186932, -1.20229069143857, \n . -3.54948290198407, 9.67060565817944, -0.27143677411455, 4.60417042303772, \n . -1.29651196527946, 1.86922662354278, -3.75791862850034, -3.84388058704543, \n . -1.77176617351128, -2.98866770771812, 1.33957785961266, -2.27367564187578, \n . -1.78615388624467, -2.30576927655001, -3.2881506289973, -2.42690013202537, \n . 3.44735946041048, -3.08765961264383, -1.77925324126432, -3.44600052047482, \n . 0.39623835774852, 0.0651425201473759, -3.08525688133841, -3.74560156471313, \n . -3.20485102597363, -0.950331735988562, -3.21369093260473, 2.95858750027251, \n . 2.31659881692617, 2.52854510827984, -6.18343774311748, 5.3267716238075, \n . 5.97546134792415, 8.84791091351156, 4.21794242231391, 0.571384536053302, \n . -37.1816058407841, 6.11775773056532, 1.65135740185422, -4.7430223733687, \n . 3.82144973008488, 4.44441299489827, -0.85421783433699, 0.933453901527468, \n . 0.940967457264807, 2.26339086976539, 4.75068312957417, 1.59980777611772, \n . -0.545171654923746, 1.16175063626998, 0.587372561036169, -1.22144416447561, \n . 1.73006770343491, 3.56600407787847, 2.82403683357771, 2.99771992886567, \n . 1.78979832230186, 4.24123088550573, -0.279612463784462, 1.5317951576941, \n . -4.49965525090941, -0.694015458885338, 4.40264343367981, -5.23800643940264, \n . -2.58496749483969, 5.88348974036284, 2.79240402746393, 2.02861199151488, \n . -1.01666011933669, 5.41649018896843, -4.53489744684015, -4.28729097706249, \n . -49.1422398478768, 3.34279121549627, 2.16387752981504, 4.41674769627322, \n . 1.19193906206671, 4.49112245452646, -2.2770375831584, 0.431877173437563, \n . 1.78097399034359, 1.29182299828557, -0.222630527171712, -10.9409955402258, \n . 0.155712972884472, 1.72934479802167, 3.63921948807868, 7.16934763925111, \n . 1.26458049372782, 2.62358789436893, 5.76005013615773, -7.7218347302476, \n . 1.84168288909496, -1.27193056555104, 1.98661775203086, -0.0605208768576011, \n . 6.15686456481638, 1.1434696166487, 1.01517683345048, -8.562078581159, \n . 0.679955839968049, -0.843820058732442, 6.34641216323132, 3.67886667741898, \n . 1.13412220545468, 40.7482318589198, 3.00200362804613, -1.72670067855634, \n . -2.12285708148613, 0.198037341840938, 2.93224837513215, 0.89603680476608, \n . -7.29182254630866, 0.023447172618533, -0.182620825920062, 1.4627834075934, \n . -3.17357656417306, -7.55607494686321, 9.4010964709199, 1.11871032870199, \n . 6.63165985153574, -5.09067100955188, -1.22317574465274, 2.04623803466748, \n . 0.914077702617174, -9.94944375373428, 1.29452978109486, -0.969640709633486, \n . -1.57939405486625, -17.2088570352944, 1.71969350322292, -0.0858524898794178, \n . 15.925431623541, 5.03950487555128, 2.54849303116799, -0.748320279603308, \n . 1.16577544947638, -3.1096566079856, 1.19495140168333, -18.3677378311375, \n . -2.73473374975528, -24.5697221977516, -3.30546004888595, -5.21413713090533, \n . 1.05933144692664, 1.8388522004372, 1.47451701774213, 2.88194002751305, \n . -3.65733970305729, 0.217284696613741, 2.1645828928307, -1.26943632357814, \n . -2.44234618412044, -1.55590997932587, -2.01632329786302, 1.75431860534574, \n . 1.41757136921148, 4.16255104812277, -2.37781790459676, -1.84732497520659, \n . -2.71146676587074, 0.922989381745045, -0.443464192764066, 1.04901165504462, \n . 6.57701436760015, 1.3905909089426, -0.375937762162848, -4.07433897612638, \n . 13.9782304222136, -0.967816891454932, 0.066380749128299, -13.6927827468407, \n . -0.474306495793907, -1.22355524054157, 15.2734755078485, -1.94434238335575, \n . -7.13945015817424, -5.11186569349767, -4.44441096449763, -1.68604129718827, \n . -5.50569428048548, 8.40629966824096, 3.51011209482004, -1.10425202274425, \n . -4.50809031427046, 3.04739658420201, 12.930008312166, 6.22289374242179, \n . -6.53295640142475, 5.20116001883556, 1.37934749387323, -0.862246408780306, \n . -1.63703626324941, -5.12986178437501, 16.0549760365148, -1.70194660495866, \n . -4.98316085196436, -8.32320720006251, 20.1394677904668, -1.53803160417804, \n . -1.58836569919337, 15.1501536508611, -3.46939089917706, -1.69762774081662, \n . 0.204780287502902, -3.31518796625934, -0.938954382663966, -1.30115711837332, \n . 22.2576105253206, -9.01877849950531, -17.9322361214177, 3.72014982436235, \n . 8.48294279217525, -3.91858257539944, -5.67152652885332, 2.96866903780211, \n . -6.28323293177025, 8.7960802663225, -2.37907613031055, -3.04174564090261, \n . -0.680700859980829, -9.71879871087618, -4.4833289034431, -1.63514713699729, \n . -1.86026845135779, 0.441729339210894, -5.65340577902508, 3.48623060661477, \n . 2.7440775524925, -6.89604593946156, -1.47685866116277, -3.79095884284351, \n . 2.72236753427927, 1.1375771192997, -26.7498001919725, 1.75457839984132, \n . 3.07242514500871, -4.89028132820357, 2.51385767262782, -1.00986060942637, \n . 1.51311302207628, 1.22544206628607, 0.089236166187073, 16.0242223931628, \n . 3.14438574794538, 3.50238914084045, -3.38051602284584, 4.16437352439368, \n . 2.68339853058069, 6.18501212186083, -4.50664225115069, 1.83982590561043, \n . 3.82199805040063, 2.60785280501892, -0.124200491280763, -1.14380323635365, \n . -13.7946987070413, 2.32834676273649, -4.98425403797377, -1.91731629367815, \n . 0.012718223796844, -1.19983058224503, 0.736748479629335, 2.92115216407861, \n . 2.56693959806952, 3.35251941406791, 5.8278931587876, 13.8302376671237, \n . 2.80322091794147, 0.0641254769189618, -17.8203637188572, -1.91026865927259, \n . 0.536890169280803, -1.79695186400264, 1.28950697342567, 1.12202814373251, \n . 0.374933143487139, 10.7717367825664, -0.772346069900953, -12.8702107884828, \n . -1.64784406301516, -4.30822326476068, -0.477107634708504, 2.73532685543016, \n . -2.57096599503627, -5.95205181766366, -9.92552021212196, 1.08407502279005, \n . 7.092313164584, 3.38138336528046, 7.5467882868575, 4.74281255446536, \n . -5.46357549617885, 0.811652139491102, -0.774896005211373, 6.50045342642407, \n . 1.9543619376827, 0.645598209938321, 3.36380669075577, -0.494057127923434, \n . 0.646771545028346, -0.179498697150456, -12.5213657997537, 17.1853091938299, \n . 1.6493846567574, 1.61049288894279, -8.20287220304895, -1.10603278317777, \n . 2.90136308957075, -0.526583431228387, -0.985991918018068, -1.65446193150634, \n . 6.9194407121425, -3.64174467495814, -6.90973983227473, -7.8649337072885, \n . -3.76232681528605, -0.265771875793307, -1.56181907636298, -6.45964590579504, \n . -1.29647395399624, -0.0804200295748061, 4.30828131363162, -0.595343864879421, \n . 3.26284854549898, -7.35079512256188, 1.77351525248613, -3.2477712701582, \n . -2.66449499442163, 0.722865587801811, -2.25546968911444, 2.87658507807759, \n . 5.27340222273817, 2.86471560235538, 7.00324131906464, -0.427023130762518, \n . -20.3624082272828, -4.82063143998339, 0.85719356109743, -18.4938346695523, \n . -1.5993355338405, 6.16934936471351, -1.74255003474305, -0.8285828956097, \n . 3.92783116580187, 3.51487704898527, 26.7435797302699, 0.659211749591935, \n . 1.2039147806262, -2.44159210172602, 1.22268527837971, 3.56353089937888, \n . -2.66072738203564, -0.127214449184363, 2.38320352793888, 1.78016062515081, \n . -7.02941737270648, 3.4403773450743, 0.457537044392099, -7.45388581583354, \n . 2.5531192372501, -3.01335743067503, 1.78685097671142, 0.47580880454381, \n . 1.90408416395761, -0.955363436671472, 0.863603135781791, 1.59410685137697, \n . -0.953100656891417, -1.13506825780205, -1.16626926409117, 12.190584424916, \n . 14.9301119559711, 3.00702084692026, -0.716231265247615, 14.5829887812372, \n . -0.647999671773039, -3.96799425991416, 0.745875915266766, -1.19313863229342, \n . -0.936505213536352, 5.02188213923908, 0.321208125267743, -1.19657545165036, \n . -7.05993120687339, 0.0384149208673572, -1.05384291676891, 5.07512201913921, \n . -6.39520213435905, 3.85386454095114, -3.79816182698728, -1.23607664241, \n . -3.8209638406857, 7.23888524886231, -9.87538388288019, -3.8754169303805, \n . -7.25129445285033, -0.370777901718065, 1.09849446440871, -1.08693554560495, \n . 3.24936514621912, 6.10277987628726, -3.34928743929699, 8.57709647105233, \n . -8.87815093412156, 6.68677783850698, -0.122653490582229, -1.16176340716682, \n . -14.4429304046294, 1.71788024188409, -3.40317040938598, -0.368569343129473, \n . 2.83844767699347, -4.18787637946322, 3.48418334576196, -18.4194182144933, \n . 2.95888855036858, -3.80951781489084, 2.46881098400622, 5.61613306816989, \n . -0.618349579802719, 1.17489588072071, -2.23195040447375, -2.38559708653466, \n . 1.91294183143536, -0.633430405409837, -4.32234897134793, 1.38873317000563, \n . 13.5562263052668, 14.2486589493284, 4.51941975405975, -1.44992590365203, \n . -2.72902651168105, -3.36458615883791, 7.97766644525255, -0.95177072787917, \n . -14.8780015249066, -2.85445778988027, -0.938579534544335, 0.669866674644822, \n . 4.9211530439485, 11.6969707766412, 0.44446045330207, -0.711073795484118, \n . -30.0903825775334, -2.58288881624157, -1.98659153189336, 1.27569833796996, \n . -0.732547972775702, -7.92070824654232, -2.51666593218355, -3.42622520139729, \n . 3.38916916409106, 1.1653658364169, -2.84629044500304, 2.50593876554531, \n . -4.42877307973577, 4.28851347382096, -2.773568477497, -1.07340977184995, \n . 0.0123438432866244, 1.30329586441007, 6.59017019138083, 0.93623167753396, \n . 2.37703480945717, 2.13942403521441, -8.60506369835302, 0.344321727025689, \n . -1.76450959915963, 0.832214338600707, 2.05086319701749, 1.16437608115723, \n . 0.00467782519391783, -0.660525360797405, 23.5220572918576, 0.929353815568457, \n . 1.50959954207772, 3.12951519662642, 3.71279904252144, 2.01650244645597, \n . -1.12406367290855, -2.39021878694378, 0.352270131371864, 6.45047490805102, \n . -4.8136531940895, -3.32741381500351, 3.60961671448793, -4.61945896999542, \n . -3.92995182875573, -1.01480679431779, 1.35437715755517, -0.758672445419346, \n . -6.46818039921616, -2.17072716786746, 1.20323808741678, 7.47749286676486, \n . -0.965524111161495, 4.34106138471567, 4.3955410077868, -12.7709904762353, \n . -0.79451834089136, 0.912897910472833, 1.12164005085333, 0.10758709873032, \n . 0.896375671697409, -3.04820678880667, 2.06479313565428, -2.64306036092638, \n . -1.00836975960699, 12.3387775598612, -0.632270272934246, -4.03354173458283, \n . -2.44584949553037, 0.627246085956634, 0.896956165876102, -2.34408728932634, \n . 0.403808446858643, -1.44402012189586, 1.32456827068252, -8.24022409018972, \n . 0.0387590172733106, -9.15077774221795, -20.04056090019, 5.41553471272904, \n . 1.73559582521373, 1.4160915402462, -7.83371896954343, 3.22053104661017, \n . -1.86409373650359, -2.14320165924929, -0.825586276670552, -3.72238889021172, \n . 4.279973873372, -0.102878908272597, 4.96345161416228, 5.32564615532161, \n . 0.311622525886581, 1.32319055397635, 2.9085565436861, -0.433757856305907, \n . -1.45310652066986, -1.09841505242715, -5.13209879043047, -1.02079550429362, \n . -6.67120893828785, 2.13262931686155, 12.3052885176315, 0.947954573994994, \n . -1.28234510148297, -1.87395757774503, 2.93247828756281, -2.53315398920651, \n . 1.34867701014449, 8.5632970173998, -3.95245051706639, -4.00495131342984, \n . -3.21501554850154, -3.33443710878294, -2.62450834641403, -2.16404467841451, \n . -2.0707779600942, -2.96599496870011, -1.27503283165208, 0.900789799628617, \n . 1.2109543995094, -4.61287973388377, 28.8418534218569, 4.32521521389527, \n . 3.22203910842778, 0.0077996030450185, -1.12421849310206, 4.87160184336471, \n . -4.02990728848781, -1.91642824371008, 17.1755895334727, -2.21223145161493, \n . -2.65729138312944, -1.39424960281196, 6.89875886331678, -8.71221166156973, \n . 9.93544090044286, -1.1306477296216, -5.76674224044994, -0.509599772925854, \n . 5.33557152738207, 0.445479939019135, 3.28696602479751, -0.372747425482429, \n . -2.23640110053839, 2.8795194638074, 7.41200945863304, -23.7743214548734, \n . -5.63475660132716, 1.95314366339759, 0.924013697801357, -5.32142134119178, \n . 2.97718438091591, -2.75593494900825, 0.942716132367969, -5.12367356534614, \n . 1.32974846817214, 3.39496447976494, -2.04940191431301, 8.2491729295658, \n . 4.50654217539769, 3.0796627361128, -1.32836225407069, 7.69092214930496, \n . -3.16767125928228, -0.758485626533105, 7.0790878544028, -11.1108268339118, \n . -4.13404023693329, 2.19087411992115, 2.75663150712957, 5.70209491318072, \n . -2.93226296207656, 3.79137139750026, 2.41409367102835, 6.4965152042418, \n . 0.32660595543415, -0.152667164516904, 0.960069848986815, -11.6646272512057, \n . 13.0409403877991, 2.34245505720207, -4.39523955709335, -1.33095879357411, \n . 3.33578105579351, -0.579862569479462, -3.2157223446363, 1.5024952480182, \n . 0.478673414003226, 0.0820406126849244, 9.45410081983328, -5.52866470576099, \n . -2.72768585368701, -3.01078346352848, 2.48683270216741, 4.66975420326832, \n . 0.368740133786488, 1.48384255303973, 3.79333018260357, -18.8733427547317, \n . 1.47465385028297, 5.18677599586205, 0.84105868285097, -8.30281411023532, \n . -9.94414864516804, -2.61796602170224, -2.26430390507608, -8.66609969242988, \n . 0.622571730603202, 2.58137393841508, -1.30642419963042, 1.55575647259778, \n . 1.87018673657298, 3.19417022179719, -3.34850408760598, -13.5560550004015, \n . -4.52243969899344, -9.00074631035828, 3.51596004745456, -4.91764693687816, \n . 18.8008298842894, 8.7356676220471, 3.43726269163844, 0.247845871677144, \n . -1.11952615422816, -1.07200946462452, -3.37671783277005, 7.41907666528056, \n . 2.70944865789653, 5.36334925175357, 1.09743699619996, 1.5228818060874, \n . -4.62923133716592, 8.58946294728658, -1.89957204807635, 1.31162585346439, \n . -11.1680738666918, -3.52848009553101, -3.0269342697524, -0.848884886813662, \n . -12.5398265557253, 6.08690588312158, 0.628507928790369, 4.13239282492559, \n . -0.0677844817664348, -5.56558721314195, 4.72417010874973, -12.8462681150836, \n . -2.04921340871835, 2.53281937010146, 7.17344655706584, 5.33152446593727, \n . 3.26039212955719, -7.03427702796514, 4.96732698101523, -2.06007010027206, \n . 0.752053446856094, 0.666432500922073, 8.60652607595863, 2.19240244930837, \n . 1.58506334909915, -12.4743739506733, 12.0691603066406, 1.50627300888298, \n . 1.15306414839615, -0.430748104908035, -5.49537359800037, -0.651778524685447, \n . 5.03178745126156, -0.598287099604881, -2.0378250967423, 5.37843119098303, \n . 4.31159015855036, 7.14567921638467, 6.07059614941351, -1.34967892219578, \n . -3.68115258644639, -0.520967047775106, -1.97898079218127, -0.0904140287832361, \n . 0.803631142710708, 8.11723766769163, -2.79165129600049, 0.128326864682668, \n . -8.55566082898965, 7.75260677145004, -11.3883913231091, 1.42545246902652, \n . 6.23366770342196, -13.2126222509792, 10.133428238874, -5.61257075005475, \n . 3.89020394074525, -1.72844179384686, -7.47268067510118, -3.85601951567599, \n . -2.4187483539801, 0.62804663206771, -0.166910507435426, 0.434925289713213, \n . 1.03641978364023, -13.8068754007126, -1.28790969342675, -0.900243794681894, \n . -7.57189093815935, -18.891074673191, 7.06643627646804, 11.6166742175396, \n . 1.55031013036635, 0.542870145062974, -4.74687689257916, 2.21629193361106, \n . 4.35198492879397, -2.20015919554309, 7.34961895492248, -2.90077527627381, \n . 3.31776539160717, 0.402340953628196, -1.464434014234, -1.0588682935854, \n . -9.53554061690297, 1.3039102257702, 4.61568124984139, 2.99201327945726, \n . 9.18661373892114, -1.95997404770147, 3.63008411104261, 6.85404155656689, \n . 4.55020832086876, -2.46292470138879, 6.26692100264424, 4.80972291666387, \n . 4.71958455429792, -0.411179892842881, -8.00705638494898, -1.02642761179938, \n . 0.190240276144161, 6.61082428049559, -0.1821574125238, -0.071708352331812, \n . 2.06823306461197, -6.70162551376624, -8.53482721141556, 2.050420037817, \n . 1.5348047694705, -12.3152154418425, -1.04572145353102, 3.92506455153226, \n . -2.963344351088, 0.497079551791896, -2.78075378355802, -3.20453434383905, \n . 5.29024296387228, -11.771039900572, 4.9248215098436, 1.80205894824941, \n . -2.32826633487065, -2.54377545252903, -6.79288130822774, 1.60743305667505, \n . -2.28730412280387, -1.56392247038291, -4.15124498861767, 5.27184542733945, \n . 3.7834134287196, 2.36619820569784, -2.45378804529696, -5.44492680211619, \n . -2.81702160289869, 0.630101894740817, -10.589871774409, 11.3479516093151, \n . -0.745558022776769, 7.75173156319253, 7.66892115554226, -3.0528935345776, \n . -4.65769665174463, -0.151612172216181, 9.46463158408283, 9.63340346053136, \n . -5.07927496491771, -2.16197129681461, 1.35012612307645, 1.17743492661588, \n . -1.08618084724297, 4.05675132647306, 7.74242215063045, 1.00917462160305, \n . -2.44808748850683, -4.59214637162289, -2.61459915832328, 5.57423291583883, \n . 2.78828930020965, 5.2643354639838, -5.88785166141113, -4.23910472451213, \n . -8.27845903028975, 3.53518843178135, 0.817888770933526, 6.60486460779734, \n . 18.9348433687692, -6.28948643238077, -2.58272414755944, 6.64584849874489, \n . 4.31365878770795, 3.20375101806674, -13.2429973469534, -6.16650266218437, \n . -1.34499852364172, 5.64563238135429, -0.00398198632518551, -3.16341359885452, \n . 0.387702525186784, -1.56349661379014, -1.58228303722674, 0.796974783054472, \n . 2.07546982379335, 0.13003618027895, -0.377991530536044, -3.27072177996283, \n . 1.60905520560854, -3.4470936343191, 4.56995618493224, -11.5961460364572, \n . -0.259689100814928, 3.57001546557943, -2.97810764054099, -17.7044995031686, \n . -8.00041156033033, -2.2515366444145, -0.669171866119125, 1.00571957945135, \n . 9.71194880894247, 7.80324858350146, 2.58342965180094, 0.386880580030242, \n . -4.39783666733309, -1.54244760713709, 1.56570062869128, 1.29331658585071, \n . 23.1079442210936, 0.830410894160258, -4.04976296432354, 0.673390370135349, \n . 2.14260875295379, 2.27791788248611, 1.56656500719326, -3.00023529587319, \n . -10.5462387103231, 0.11832223848798, 3.56327582813698, 0.520500266344045, \n . 4.73206232889498, -1.19534502273571, -12.9855617324543, 7.4984755499128, \n . 1.72133468859505, 0.70640963900171, 7.65432081969808, 1.02046176696606, \n . 3.77125313746176, -2.67647397854472, 5.00993917718985, -3.04061201953112, \n . 1.68966761524665, -5.01434296015844, -3.27845198962707, -9.24360341246576, \n . -4.00648109454996, 1.45679993117108, 1.20625527688108, 1.54351226025134, \n . 0.834480052231201, -5.75851671686829, 1.16069717823235, 15.6246896034564, \n . 2.94541869280482, 0.232803005699436, -2.22532722864127, -1.27317082428659, \n . 2.60711787332032, -4.8866694910885, -4.09781602953242, 5.9677372352852, \n . 0.247350531362625, 2.11715909863093, 0.472413947902791, -0.346108984312505, \n . -3.3551786995439, 0.362235008523823, 1.86036222636124, 4.59637228335358, \n . 1.52821872598477, -7.56651395932571, -0.16483782569666, -2.20225577601275, \n . -2.34888771980444, 3.23890897824139, 0.5945071484931, 0.805069580057942, \n . -0.407702454964754, -0.612785599585371, 7.16181291842004, 10.5261898703429, \n . 1.80508021432535, -1.27186756251516, -3.86135543015572, -2.95010087369633, \n . 6.21148369151156, -8.63390856128672, -5.50995147015915, 19.041513666414, \n . -2.01524916882309, 10.0477401354787, 3.10255879828061, 2.49606147224584, \n . -5.11642430444842, -5.20736985249172, -0.646276952642093, 1.31635905860076, \n . -7.1262543901834, -4.36148342454664, 0.376356341384993, 4.83319259425671, \n . -3.91001059623629, -2.50281467646033, 0.00732183005564652, -7.10516845424355, \n . 5.05370480100278, 7.94615442942134, 2.27401135062368, 9.98720562123568, \n . -12.1743219692893, -7.27478841380709, -6.80493186977656, -10.0445412679225, \n . 3.11087091872089, -14.0008839976378, 8.24496138314782, -2.53909966897131, \n . -0.585679645033272, -2.07522581591749, 0.554002584201851, 2.93219512968217, \n . 0.212391086017073, 11.824598809521, -5.4760006151291, 0.273726395934358, \n . 3.44551978289658, -3.57742966851978, -1.41275112043433, -1.28072372777125, \n . -0.300855417036751, 2.52800346362765, -1.80581710214479, -1.79697556020081, \n . 0.52903857541232, -12.0058635430919, -0.429883842427389, -1.60982428623275, \n . 24.8302289446686, 5.09517084079022, -8.54196878592364, -1.51993146445986, \n . -1.90280170131676, 7.74619614886438, -5.26262305816682, -4.02787553841969, \n . 1.92798625925165, 5.22418298994717, 1.28838339945812, 3.92362372951216, \n . -3.32850886288202, 1.79864552698762, 0.527407809734835, -4.31214339127991, \n . 0.855017643490911, -2.69460915478445, 7.43565900519631, -0.808730254900603, \n . -0.0356619273034917, -14.5964640471438, -14.1443632674211, 7.6479901557615, \n . -0.973619493995214, -0.0387340871409408, 2.07343464655018, -3.36612049639958, \n . 3.97975199153401, -8.66700988784956, 6.05294520905518, -0.190430241983328, \n . 4.65283006447316, 5.77055864830947, -4.85514342301057, -7.84945184191726, \n . 0.365016961650058, -2.39205931431661, 2.31244064022246, 2.60986289803268, \n . -7.35551300712721, -3.27093539345419, 0.646113185229132, 3.91577870878099, \n . 1.21670985561011, 12.0219020286656, 1.67911467882777, 5.88120628619893, \n . -2.35393693994764, -1.21817156727822, -0.637658598218143, 3.78247420830959, \n . 1.03867472639689, -0.0177193658987115, -5.51742325952104, 3.41022177618146, \n . -0.0389894705852081, 1.37215110377429, -0.947179798187085, -9.84799920083232, \n . -0.247547184127887, 2.50695129941562, -1.41520453910112, 4.19017023677962, \n . 0.408854415947159, -1.15138510816829, -5.4097914180102, -1.05104646521032, \n . 2.04319064917461, -2.18581053581336, 2.5835170271647, -6.06604033485899, \n . -0.374465742486028, -17.7366325653727, -1.86569570062499, 17.631141387532, \n . 0.210457627227392, -4.63630705113452, -6.1820159127633, 7.03279306301973, \n . -0.691788111363144, -10.702760563541, 3.19616222904887, 0.249959403981755, \n . -3.02724976637448, 4.28923493174572, -3.7826671636692, -6.57569070326605, \n . 1.19120739072267, 8.49005909713181, 3.96753967177634, -3.60542434249276, \n . 3.16727978652247, 2.19462721467758, 0.467077036333154, -4.81332896919955, \n . -2.76483460788246, -0.415336711848862, 5.18173186704271, 2.88673581610064, \n . 0.0826906502208473, -5.57441199547231, -5.2458875161954, 0.519911622602115, \n . 0.541870861635381, 3.70565310092268, -0.612183536377406, 5.18151922718268, \n . 0.25712435896264, -4.95555371843638, -1.83511888374812, -6.56029642758935, \n . 6.07537822523603, 4.00123293144735, -4.91539809496289, 6.82275776818766, \n . -5.6984330903568, -3.14514897187893, -0.17877663564842, 6.51701650437264, \n . 14.8466523642816, 4.61587983321872, 13.8086569590312, -2.45157646556237, \n . 3.71925056491262, -5.2142249114947, -0.701072379506865, 6.96432229763567, \n . -0.596219992973372, 5.09013488008825, -10.2779297611481, -1.76422316766054, \n . 0.79584035781897, -0.0263422268471792, -1.29863977059016, 3.3019780745689, \n . 3.58476251380235, 12.2686863453998, 13.6678491007237, -6.69132934964807, \n . 5.38960959731293, -1.18850824831667, -2.52335920012957, -0.97272994891684, \n . 10.5099329166613, 3.55468097709715, -3.46321078653429, 3.72008356875915, \n . -3.4517215650615, -3.58745164865519, -6.1467967416151, 1.15451258852289, \n . 11.5766089340786, -4.56076675190974, 1.60279526290824, -2.4990560376924, \n . -1.23750448631305, -1.71863645600148, -19.2699223131809, 4.54000797253563, \n . 2.70440096386383, 1.20458330810116, -1.9213829216331, -6.50461549249995, \n . 2.58706671900915, -1.16382119366327, -4.32339111281016, -2.81451375809035, \n . -4.40476774342588, -3.10309928000071, 3.1096597251986, -8.84996925046202, \n . 2.16153681506393, 5.66075926227805, 8.99503322847645, -1.55484383448137, \n . 3.09886088404277, 1.28812687430998, 4.03726497973732, -11.2962379747947, \n . -0.770647414305051, -10.007761653621, 1.13542124707768, -1.43819689486755, \n . -0.524595388667458, 11.4776006069467, -3.01529245193764, -2.15481796395683, \n . -3.77641964439454, 0.716841944017111, -0.468536356673801, -0.0271736286670846, \n . 0.466235679721919, 0.466350310912635, -3.09846916327304, 5.66135363874881, \n . -0.932559147825024, -1.07000059133641, 5.34197932906609, -0.848933215176239, \n . 5.35473306529573, -2.24179641151331, 0.779517474915922, -2.81970487606329, \n . -6.1119506465818, 0.655928145073084, 13.2203245487012, -9.80514260868709, \n . 6.96563057752289, 5.11308052892998, -0.126134280239055, -10.0573578891757, \n . -7.01057284960721, -7.1110855857135, 10.4089947468142, 1.36571055606039, \n . 0.0805761088172308, 15.9305704410557, -2.62889308878846, -0.107658326756785, \n . -2.83011333644984, 7.74776864201411, 0.240476977024615, 2.54989702926386, \n . 6.6422447545589, -2.35616875785449, -2.90256929646088, -11.0596833851957, \n . -11.0465938031762, -2.19090623955856, 8.68906752461113, 0.197996650217309, \n . -2.18767933480542, -1.99944265133829, -0.809298986098833, -5.36656124900791, \n . 2.55208116978429, 2.12834684730014, -1.49555183649674, 0.00620106054829715, \n . -0.0749272788000333, 1.68561296971738, 0.318713125970066, -5.27257857008013, \n . 4.23726358491336, 3.08896761827973, 1.41812024256002, 4.85648220242114, \n . 7.43631426236806, 0.424263495979813, 7.06263876780112, -9.90825276920973, \n . 7.01988382719225, -10.9187889759722, -1.7646100822546, -2.96814429201806, \n . 0.777297425036597, 6.39775037880589, -0.771549300116781, 3.95372096627167, \n . -8.01169826635001, -3.26424705720796, 0.321035923720147, -4.46022992877881, \n . -2.43780605391735, 5.4949772950473, 0.380963629093075, 4.03392906092094, \n . -7.99381648288503, 0.779286305377307, 1.05656168982829, -0.372198205487106, \n . -2.50853235910241, -5.90718827787217, 3.48099719303474, 16.6985397432531, \n . 2.87040468859884, -10.884239368873, 1.09887983814925, -0.155810822602628, \n . 4.76781447241228, 7.45150228676174, -0.760270087673621, 2.76444596679102, \n . 1.53672095239947, 2.35316426559696, -3.28080441296719, -0.365055991811296, \n . -4.35911074650804, -2.90704521279609, 0.931254996457806, -0.434117924711559, \n . 0.103851099092501, -12.1630060950498, -1.42680054566343, 2.65785848834389, \n . 8.03631232880627, 2.94055918074813, 2.75287932021116, -8.49729370958579, \n . 3.80919290842893, 0.284011868007084, -7.88248883096761, -6.90276155716648, \n . 2.00205839724654, -7.10064738307543, 1.62180099662279, -0.706312048101018, \n . -3.00148931107557, 8.31838823253293, -1.37107910048875, -3.52181397003737, \n . -4.1536813914998, 5.06470735740089, -1.76876802534947, -1.81466471693137, \n . 5.03126818916524, 21.2708095448472, -7.67946819386611, -0.303398012867555, \n . 2.28192273442707, 2.84690578527704, -3.88123429414609, 1.64805839380699, \n . -0.876442376897221, -1.91758946489315, -6.30442062239066, 3.20777053095726, \n . -1.20888578772438, 5.00228509881196, 3.98358778118747, 0.169560795028888, \n . -5.13893619377754, -11.1838598898277, -1.30034288498627, 8.79992584422192, \n . -2.13972128053263, 2.82809735204001, -0.788385191199916, 1.87554975494493, \n . 0.826977244503535, 3.88874204794273, -8.57976493089684, -1.09886503299143, \n . 3.9321934537877, -5.23967028645469, 5.63609280251877, -0.769519574269152, \n . 0.153801804693687, 11.2573304246784, -3.03246456503995, -1.16150188101994, \n . -8.63413643022453, 2.4740818019903, -10.2071987948927, 7.18937526955773, \n . -0.0540502943101199, 5.84772235566762, 0.241829389642131, 5.35930441299308, \n . -0.383057753172802, -5.44529619646993, -12.2653752731233, -0.000921423178058387, \n . 1.02696516362996, -1.4477043649671, 9.21731088741261, -5.07867056999386, \n . 6.32616917537001, 2.11987186637792, -1.24184800360874, 5.55351090561944, \n . -1.91459547640981, 5.21430860987491, -9.69840260219446, 4.30522245358301, \n . 5.46574971414054, -1.95326360142403, -20.2909730316421, 1.28294848174368, \n . -5.37284154318229, 12.5700090878964, 3.20482119498279, 4.90366259034564, \n . 0.692666833327577, -4.02936393336439, 2.98648438284906, -0.34612498632198, \n . -3.97436050048818, 0.806375541629617, 6.24514312281298, -4.31810353337871, \n . -5.39440229332579, 1.08467473785164, 2.69971344299897, 1.48656565988033, \n . -3.62096501351424, -0.778571529876086, 1.78716922578645, 2.58189595813328, \n . -5.26777977177754, -5.98260131851773, -0.0614191286800918, 0.562923817059098, \n . 2.70611171857374, -1.21825301492779, 9.2015193830133, 4.53221473858169, \n . 7.8065101905941, -0.304399383708281, 0.839629918215508, -2.91699659820884, \n . -0.470651194544191, 2.62152758987019, 0.251622602489982, -12.148319291377, \n . 4.158734613241, 3.79570320235575, -4.6892909364875, 6.55792443885366, \n . 0.833120927409809, 1.54937503148587, -0.512350423771207, 0.0857504080736862, \n . -1.9057743030001, -14.897160939812, 3.51886957595498, -1.45294464594978, \n . -7.30964225219764, -4.03949236252274, 4.64830599323799, -7.95317493824817, \n . -4.27914870078426, 2.339673101053, 1.47510469684321, 3.29909345695852, \n . 2.20479844457611, 17.274904075422, 2.28030843664493, 7.07572581154118, \n . -1.87370597370731, -2.65954682357457, -5.57871238749975, -2.11158081211253, \n . 3.05076352338796, 5.25672969663282, -0.492353304789397, 3.74272652969794, \n . 2.8593136587434, -9.4792293638441, -4.2212224945451, 0.772006538827116, \n . -4.93852458545558, -5.66193215288879, -5.17540275425863, -2.73263090125194, \n . 6.38509800197675, 3.2646430211901, -6.72674940071095, -8.83312895232149, \n . 3.0498227074153, 10.7430783197699, 3.72927749137723, 1.29213964088236, \n . 2.60421238168862, -9.40452439979336, 2.34928587400856, -2.62610568809908, \n . -0.355494807656011, -2.97683152264636, -7.58522337933764, 8.81194913238495, \n . 7.01951589249209, 8.56303392370531, -3.69510977465889, 4.4380773178147, \n . -1.15147815915154, -5.23455389346866, -0.202636712589787, 3.12783787014638, \n . -4.65193873137455, 1.44872240548064, 2.74947837821346, -10.5342662954645, \n . -4.89376975473493, 3.7133338940437, -0.0734935813489563, -4.35926342886686, \n . 10.0186457693569, -3.95628516778144, -4.71251423494291, -3.47242855832919, \n . -1.0777214829582, -5.53028549700494, 9.29241624750819, 9.03400671654753, \n . 3.55888012488037, 6.123931169603, -1.62200519318628, -0.0340369818448789, \n . 4.64934582023495, -0.845543492405195, 3.76144487481678, -8.56020113848347, \n . 0.780222350949543, 2.91130111133219, 1.28256907489932, -1.31575279682089, \n . -9.85330709096293, -2.13199964760469, -3.09574813501983, 3.5976361394667, \n . -2.6323925836721, 0.114568979540295, -1.54655007284161, 0.350724856598729, \n . 6.90606812843328, 0.122659927783342, -4.10953021310196, -13.3057794792296, \n . -2.54105868517003, 14.8821721331164, 0.872545144430698, -10.9020784094589, \n . -2.77025276936896, 2.79760556306369, -8.13681070122046, 8.91194943988046, \n . -4.86270796702631, -1.98723825309235, 0.506528886640483, 4.26666954536813, \n . 0.38113745398275, 6.89873991956871, 9.82524858724648, -1.15802505635669, \n . 4.18063541836974, -7.56060871069433, -0.690537248571491, -3.22316983505191, \n . -0.656573331654764, 7.44699045730757, 9.72203924482356, -0.645826695553072, \n . -3.14955500769358, -1.7916597519867, -1.81866239494988, -0.0435184846249285, \n . 2.75930901993802, -0.732004348406852, 0.689263116383569, -1.34365511439957, \n . 1.12199779611091, 0.950509695147695, -5.88374592490041, 0.129555505094637, \n . -11.3121255151419, -8.72852192187508, -10.5962463196067, 8.37979231076225, \n . -5.52333268025741, -2.57773799211026, -8.61597445456966, -4.85552116227508, \n . 12.3616650128031, -3.96084115360195, 2.08834041967915, 1.37600109250617, \n . 0.113801552237813, -0.871163135971151, -1.43393587610454, -2.56785365683285, \n . 2.16028421508944, 5.09630488042083, 0.443435727974157, 3.16648955497301, \n . 0.0406442663352431, 6.24105998050707, -0.818370771486371, 2.77779714164008, \n . -2.58783109350538, 4.68456745578405, -7.30697397400988, 2.00849718467291, \n . 2.86975850826058, -1.00567610690637, -0.220511509214288, -1.68654925782025, \n . 13.2903002740683, -0.981621983857308, 0.0948304617963292, -4.94670068035871, \n . -10.1560717491146, 1.02158746992498, 0.223770311908139, 7.78112141537769, \n . -2.49873987699631, 3.20256239084988, -4.43449480663555, 8.90751381018599, \n . 1.75250814137449, -1.2289038334733, -9.67860576749046, 12.1063613018124, \n . -0.715975761351123, 3.32911941982341, -1.75265680007681, 1.35434536253584, \n . 8.01475871811953, -11.2353176530702, -3.31974665933536, -2.64963404152601, \n . -10.5781446215541, -1.13734847641392, -1.94120669157, 1.03607650268118, \n . -0.224040411182264, -5.73668737439826, -7.22821289713881, 0.85699394014597, \n . -1.31375500586254, 0.116740647058521, 0.683001182114524, -7.34818140702179, \n . -4.44675094311631, 4.21414134980351, -9.95724846439399, 3.73265057858571, \n . -6.41926239575047, 3.07008460762496, 1.29872290425151, 5.62524797384691, \n . -10.1656690494772, 1.98832465616235, -3.91860120356391, 7.59982249099359, \n . -2.78820865477414, -3.30171675350302, 14.2439399312778, -5.99113426447663, \n . 5.49382742895975, -8.16194720325661, 3.06126893182599, 3.30878906959015, \n . -1.68217763942711, 0.526198438340294, 5.25947714178403, 9.588279180329, \n . 2.8915051794811, 2.16085538555491, -5.96587540331734, -0.400055041142186, \n . -0.208538027455332, -1.54149382611297, 6.04604963376195, -1.85103991802057, \n . -0.00277200178406407, -5.95304704657281, 7.67686481968279, -5.27039336245867, \n . 3.37011771483778, -11.4661027467823, 9.04745925517061, -5.9842864259571, \n . -1.97060425254379, 3.99401803991171, -5.65900590482068, 0.907817693128576, \n . 10.5785392348324, -3.57361072198357, 1.16376179009491, 0.730135410692513, \n . -0.604771506666354, 0.853946107350381, 4.77938681489054, 9.56800748844693, \n . 8.02723520863372, 3.18849249354882, 2.07349111796494, 6.15626607472714, \n . 0.318451534304501, -0.99995095643323, 2.97638471085843, -0.660451097396945, \n . 4.04429105982307, -1.11559391234443, -0.728890514349785, 5.24427368079693, \n . -0.5921856505808, -1.08138208395738, 8.57832124291137, 3.51309305394644, \n . 4.13888868499957, -3.79451965969217, 2.53927318195647, -3.86858131159766, \n . 12.1194402134189, -5.28524242496179, -7.38690324356967, 2.1885590250066, \n . -4.62433861789109, 2.88594100850922, 11.2099172959013, -5.17567458767639, \n . -5.46919185467254, -5.78473891584675, -4.42129710261606, 4.3673447106852, \n . 9.86248789866206, 3.84571549161444, -3.36208757170239, 1.03793370354396, \n . -0.0746466280406948, -9.21456820833399, -1.44355036780959, -0.780638612972939, \n . -3.43959748595472, -3.81657729426336, -6.66282869798187, -3.72680524829805, \n . 5.60093317815387, 0.175715053068483, -3.23360135540059, -12.5700984172876, \n . 1.26397638733842, -2.70829781113137, -7.09539856005895, -3.27524604496008, \n . -6.05720297224543, -0.202222562379333, 1.99994861695537, 6.52422117119767, \n . 3.33451073127889, 14.7274558827426, -2.99479615149757, -0.725383216338861, \n . -6.54422375819904, 5.53443092706721, 2.24084951537168, -3.19326344626438, \n . 14.2025846755306, 5.6735224528721, -0.585462474787723, -3.56314399147241, \n . -2.82551795391416, 0.0259251846970983, -2.7847092698478, -4.46184631320991, \n . -1.33955853672093, 2.05756521763078, 0.120134815204735, 5.56444690966819, \n . -4.05680980459587, -2.83833563618681, 0.902796133785569, -1.8701165451669, \n . 2.41802968817531, -0.960592932687414, -2.29394139671492, 9.11203411420464, \n . -2.19062060108039, 2.2600588526769, 1.58978018462121, -4.73370294468925, \n . -3.20959394114042, -5.47000142450433, 5.07190805048297, -0.485738344450625, \n . -0.201639507508609, 10.3004893970376, -0.812985659769137, 9.04085863325241, \n . -3.97149812166843, 1.30211569162601, -0.820537874858981, -0.10128443208485, \n . -17.1997632038166, -10.3757297905182, 1.02453260319266, -0.114910941310455, \n . -13.674493995862, 3.43162427087305, -16.496491778007, 0.394343482666867, \n . -1.2822832926942, 11.3403445799049, -3.64999402294158, -1.62987715159408, \n . 9.13017304317538, -2.53201474785746, 1.0606467509146, 1.78297027035252, \n . -0.31889264074409, -1.90165878962858, -7.00892761882195, 1.62454233316287, \n . 3.70279685019831, 4.79072396675711, 1.36085701877583, 2.20726046894387, \n . -0.63083143732087, 4.57589288999464, -1.25331307854766, 5.49577653494665, \n . -6.87615441376233, -0.063464849470052, -0.920383568765113, 3.08899139156851, \n . -3.70821814888346, 8.15165454798908, -1.55263851301232, -3.99441212901916, \n . 3.79040238312404, 7.01193702336347, 4.95708144851049, -1.38254855367314, \n . 3.26119082329699, -1.53199433763082, -12.395096945961, 7.47678153027173, \n . 4.70177687304802, 3.83676241144779, -4.21777635220579, 0.211658456716469, \n . 0.024968647265505, 12.7228572297884, -1.30172176740406, 5.74302575863729, \n . 2.00718537144152, -2.62491837823633, -6.11863900891589, -0.237183070266248, \n . 8.3348979466082, -7.86996342649283, -8.01451844591034, 1.40427222615513, \n . 2.33078942203424, 0.479733484347322, 1.50715690046578, -0.436434720882317, \n . -6.00289305592945, 4.73199049297018, 3.42750320337449, -1.75161268210389, \n . -3.40390269964733, -10.2081651933505, 3.30124933865576, -1.16404036589502, \n . 2.54001996359486, 8.1013992581989, 2.2535822080704, -2.46013147149602, \n . -1.39074047065581, -1.5777579153555, 0.468546064034522, 8.56184473950139, \n . 4.76897683076904, -0.121461665029941, -2.36464810105289, -1.24428620386092, \n . -2.75092132617476, -2.23578030756132, 2.86329836819328, -4.08759452744069, \n . -9.4497951241566, 1.02235124046088, 5.39008678973605, -0.0757900696276619, \n . -11.7938051825579, 1.03474197055697, 1.72956201528313, 8.22260924557042, \n . -1.65784671695855, -3.35362420880329, -10.4913581652433, 2.35370440713478, \n . -2.83645433327342, 2.19200002406921, -3.93017152495696, 7.17279045215781, \n . 0.298875011768838, -1.70009917783666, -8.90559307390125, 1.83952513048036, \n . 2.57111452362756, 14.0790824803389, 0.635436169971083, 12.9456391641842, \n . -3.23378058115798, 4.31395113663004, 0.0576063920627186, -2.431844418199, \n . 0.504894908116865, -1.61079466347527, -7.23976062122055, -2.45830801197441, \n . 6.48237253036439, 0.683776630717814, -1.57370817321345, -0.618069398778294, \n . 0.137797917404964, -1.97291049446757, -3.95174545455279, 2.32513696504627, \n . 3.40923245907618, -1.72427695035357, 1.8447945730262, -2.59905155508786, \n . -2.66011065960252, 0.594272573628663, -1.45883083414001, 12.5305990946468, \n . -1.61568118622021, -2.3931952844438, 0.0491996569720954, 4.00914733016776, \n . 2.41159806211143, 7.65257976616482, 4.38167388353977, 2.79736529266496, \n . 2.33971320145037, -0.378457481046362, 1.45056707872618, 10.6644493020876, \n . -8.0066371678169, 5.81313108845054, 1.048667146967, 4.42812956208449, \n . -2.26539316927999, -2.16325364201909, 2.59886897433839, -2.66671795109079, \n . 1.07436119535495, -5.28252598581746, -13.4940323729243, -11.0749730491802, \n . 0.628926834723037, 10.5511413676849, -7.41843850836671, -5.53188482382429, \n . 6.16097970854797, 0.321586629919136, -3.53049215848789, -7.01567222471949, \n . -11.0159578503049, -0.125008058995096, -2.01138155122876, -4.66001757534724, \n . -2.36958350514465, -4.46540657773751, 2.72944365044666, -8.09946903463162, \n . 9.3793743822429, 3.9567285379095, 8.20422780741987, -2.80197742168332, \n . 8.07292374572691, 5.07750795677864, -4.68856078904395, -0.0753481372799892, \n . 11.0183782939125, 0.200681111175651, 0.0624065316513572, 6.86361751054292, \n . 1.34885137982211, -3.83306705328047, -2.01335726751585, 1.67285464275079, \n . 3.28612894088956, -5.21183506026869, 4.14851545840958, 6.12971745801246, \n . -12.5148668580567, 0.361313423582922, 0.783654395097409, 2.01670653580488, \n . 3.22393034223944, -6.09568127118115, -7.00081366451028, -4.34205303644307, \n . 3.10925046458131, 0.284484591070084, -3.11944610931995, 9.36290465340691, \n . -1.5823201166388, -0.230118209679588, 6.98704281917488, -9.43921796601261, \n . 1.81739565739335, 0.649397333548715, 0.274781866761995, 2.67227180279525, \n . 0.947993578579695, -1.60338597547724, -2.47937458579829, -3.77194243782926, \n . 1.40350501351265, 0.643932195232954, -3.70695409805983, -12.6773521682948, \n . -0.849780837037022, -6.25521969523477, -2.80176654459224, 1.0906053697108, \n . -2.64977983337759, -3.35059281060804, 7.16328617311771, 0.408715549596412, \n . 4.59920320263814, -8.05170255205152, -0.662294389479732, -5.74401529947128, \n . 2.23711784840673, 5.48954908800755, -8.03414662275966, 0.706321996033705, \n . 0.0770330523536761, 12.3676741776847, 0.982370922592082, 13.93575910082, \n . -8.13041012961462, -1.22913945271507, 0.898137893998926, 2.57059831590013\n . ), dim = c(69L, 30L), dimnames = list(c(\"CTTCTAGATAAGCC-1\", \"GACGGCACAGAGTA-1\", \n . \"GATATCCTGCAGTT-1\", \"GGATGTACCGTACA-1\", \"TAGGTTCTTTAGGC-1\", \"AGAGGTCTAAGGCG-2\", \n . \"CATCTCCTTGCCTC-2\", \"CGTTATACTTCACT-2\", \"CTATTGACAACTGC-2\", \"GAGAAATGACTACG-2\", \n . \"GCTACGCTACTGTG-2\", \"GTACTACTACTTTC-2\", \"GTGACCCTCCCTCA-2\", \"TACCGAGACGTTAG-2\", \n . \"AACACGTGCATTCT-3\", \"CATGGCCTGGTGTT-3\", \"CCCACATGGTCTAG-3\", \"CGTACCACAGTCAC-3\", \n . \"CGTTATACACGGTT-3\", \"GAAATACTTGTTCT-3\", \"GACGAGGAATTCGG-3\", \"GAGTCAACTGTGGT-3\", \n . \"GGAAGGACCTCTTA-3\", \"GGTTTACTGAGAGC-3\", \"TAGGTGACACGGTT-3\", \"TGACTTTGAATGCC-3\", \n . \"ACGCACCTTTATCC-4\", \"AGGGTTTGCAACTG-4\", \"CAACCGCTGCAGAG-4\", \"CAGCGTCTCCATAG-4\", \n . \"GCTACAGAGACTAC-4\", \"GGTTTACTCGAATC-4\", \"TACGTACTCAACTG-4\", \"TACTAAGAGGTGAG-4\", \n . \"TAGCTACTACCCTC-4\", \"AACGCAACTGGTCA-5\", \"AGTCGCCTGAGACG-5\", \"AGTTTGCTCTACCC-5\", \n . \"ATACCTACGACAAA-5\", \"ATTGATGATCTTCA-5\", \"CAAGGTTGCCTCGT-5\", \"CTGATGGATGGTGT-5\", \n . \"CTTCATGACGCATA-5\", \"GCCGAGTGCTGTTT-5\", \"GCCTGACTTTCTGT-5\", \"GGACAGGAGCATCA-5\", \n . \"TTCTGATGTGTCCC-5\", \"AACAATACAAGGCG-6\", \"CAAGTCGATAACGC-6\", \"CATCGGCTTTCCGC-6\", \n . \"CGAGGCTGGTGTTG-6\", \"GACCATGAGGATCT-6\", \"GATACTCTGAGATA-6\", \"GTTGATCTACACGT-6\", \n . \"TAACCGGATCTACT-6\", \"TACGGAACACCATG-6\", \"TCGAATCTTTCTCA-6\", \"AACCGCCTGCTACA-7\", \n . \"GCAATCGAGAGAGC-7\", \"GTATGGTGGAGGGT-7\", \"TAGCTACTCGTTGA-7\", \"TCATTGACGTAAAG-7\", \n . \"TGACTTTGCCTAAG-7\", \"TTAGGGTGCTTGTT-7\", \"TTCTCAGACGAATC-7\", \"ACACATCTCGGGAA-8\", \n . \"CCTGGACTAGGGTG-8\", \"CTCCGAACTAGCCA-8\", \"GAGTCTGACCAACA-8\"), \n .     c(\"PC_1\", \"PC_2\", \"PC_3\", \"PC_4\", \"PC_5\", \"PC_6\", \"PC_7\", \n .     \"PC_8\", \"PC_9\", \"PC_10\", \"PC_11\", \"PC_12\", \"PC_13\", \"PC_14\", \n .     \"PC_15\", \"PC_16\", \"PC_17\", \"PC_18\", \"PC_19\", \"PC_20\", \"PC_21\", \n .     \"PC_22\", \"PC_23\", \"PC_24\", \"PC_25\", \"PC_26\", \"PC_27\", \"PC_28\", \n .     \"PC_29\", \"PC_30\"))), seed.use = 1, tsne.method = \"Rtsne\", \n .     dim.embed = 2, reduction.key = \"tSNE_\", assay = \"RNA\")",
      "8. Rtsne(X = object, dims = dim.embed, pca = FALSE, ...)",
      "9. Rtsne.default(X = object, dims = dim.embed, pca = FALSE, ...)",
      "10. .check_tsne_params(nrow(X), dims = dims, perplexity = perplexity, \n  .     theta = theta, max_iter = max_iter, verbose = verbose, Y_init = Y_init, \n  .     stop_lying_iter = stop_lying_iter, mom_switch_iter = mom_switch_iter, \n  .     momentum = momentum, final_momentum = final_momentum, eta = eta, \n  .     exaggeration_factor = exaggeration_factor)",
      "11. stop(\"perplexity is too large for the number of samples\")"
     ]
    }
   ],
   "source": [
    "query <- RunPCA(query)\n",
    "query <- RunUMAP(query, dims = 1:30)\n",
    "query <- RunTSNE(query, dims = 1:30)"
   ]
  },
  {
   "cell_type": "code",
   "execution_count": 33,
   "metadata": {
    "vscode": {
     "languageId": "r"
    }
   },
   "outputs": [
    {
     "name": "stderr",
     "output_type": "stream",
     "text": [
      "\n",
      "calculating distance\n",
      "\n",
      "\n",
      "ranking genes\n",
      "\n",
      "45035 pathways kept for hypergeometric test out of 68510, 23475 filtered as less than 10 features was present in the data\n",
      "\n",
      "\n",
      "calculating features overlap\n",
      "\n",
      "\n",
      "performing hypergeometric test\n",
      "\n",
      "\n"
     ]
    }
   ],
   "source": [
    "HGT_ref_cell_gs <- RunCellHGT(query, pathways = ref_cell_gs, dims = 1:50)"
   ]
  },
  {
   "cell_type": "code",
   "execution_count": 35,
   "metadata": {
    "vscode": {
     "languageId": "r"
    }
   },
   "outputs": [],
   "source": [
    "ref_cell_gs_match <- rownames(HGT_ref_cell_gs)[apply(HGT_ref_cell_gs, 2, which.max)]\n",
    "ref_cell_gs_prediction <- ref$celltype[ref_cell_gs_match]"
   ]
  },
  {
   "cell_type": "code",
   "execution_count": 36,
   "metadata": {
    "vscode": {
     "languageId": "r"
    }
   },
   "outputs": [
    {
     "data": {
      "text/html": [
       "<style>\n",
       ".dl-inline {width: auto; margin:0; padding: 0}\n",
       ".dl-inline>dt, .dl-inline>dd {float: none; width: auto; display: inline-block}\n",
       ".dl-inline>dt::after {content: \":\\0020\"; padding-right: .5ex}\n",
       ".dl-inline>dt:not(:first-of-type) {padding-left: .5ex}\n",
       "</style><dl class=dl-inline><dt>AAGTATACACTCTT-8</dt><dd>'Dendritic'</dd><dt>TGTATGCTTTGCAG-8</dt><dd>'CD4+/CD25 T Reg'</dd><dt>GGGATGGAAACAGA-7</dt><dd>'CD8+ Cytotoxic T'</dd><dt>TCCGAAGACGATAC-1</dt><dd>'CD56+ NK'</dd><dt>GGGATGGAAACAGA-7</dt><dd>'CD8+ Cytotoxic T'</dd><dt>CGTTAACTTTGTGG-8</dt><dd>'CD4+/CD25 T Reg'</dd><dt>TGACCGCTCCCTCA-1</dt><dd>'CD34+'</dd><dt>GCTAGATGTTGCAG-3</dt><dd>'CD8+/CD45RA+ Naive Cytotoxic'</dd><dt>GGGATGGAAACAGA-7</dt><dd>'CD8+ Cytotoxic T'</dd><dt>CAGTTTACACACGT-3</dt><dd>'Dendritic'</dd><dt>GGGATGGAAACAGA-7</dt><dd>'CD8+ Cytotoxic T'</dd><dt>GGTCTAGAGCTCCT-2</dt><dd>'CD8+/CD45RA+ Naive Cytotoxic'</dd><dt>CATGTTACGGAGGT-6</dt><dd>'CD4+/CD25 T Reg'</dd><dt>GGGATGGAAACAGA-7</dt><dd>'CD8+ Cytotoxic T'</dd><dt>GCTAGATGTTGCAG-3</dt><dd>'CD8+/CD45RA+ Naive Cytotoxic'</dd><dt>GGGATGGAAACAGA-7</dt><dd>'CD8+ Cytotoxic T'</dd><dt>GAGGTACTGTGAGG-8</dt><dd>'CD8+ Cytotoxic T'</dd><dt>GGGATGGAAACAGA-7</dt><dd>'CD8+ Cytotoxic T'</dd><dt>CCACTGTGGTCTGA-2</dt><dd>'CD4+/CD45RO+ Memory'</dd><dt>GGGATGGAAACAGA-7</dt><dd>'CD8+ Cytotoxic T'</dd><dt>GATAGAGATGTCTT-2</dt><dd>'CD8+ Cytotoxic T'</dd><dt>CGTGCACTTTCTCA-7</dt><dd>'CD56+ NK'</dd><dt>GAACGGGAAGCATC-5</dt><dd>'Dendritic'</dd><dt>TGACCGCTATTCCT-3</dt><dd>'CD4+/CD25 T Reg'</dd><dt>GTGGATTGGCTGAT-6</dt><dd>'CD14+ Monocyte'</dd><dt>GGGATGGAAACAGA-7</dt><dd>'CD8+ Cytotoxic T'</dd><dt>AACAGAGACCAAGT-8</dt><dd>'CD8+/CD45RA+ Naive Cytotoxic'</dd><dt>ATCACTTGCTGTTT-2</dt><dd>'CD8+/CD45RA+ Naive Cytotoxic'</dd><dt>ATCGCAGAACTACG-1</dt><dd>'CD4+/CD45RO+ Memory'</dd><dt>GGCTACCTTCCTTA-8</dt><dd>'CD56+ NK'</dd><dt>AAGCCAACTGCTCC-5</dt><dd>'CD8+ Cytotoxic T'</dd><dt>GCACCTACGTCGTA-7</dt><dd>'CD8+/CD45RA+ Naive Cytotoxic'</dd><dt>GGTCTAGAGCTCCT-2</dt><dd>'CD8+/CD45RA+ Naive Cytotoxic'</dd><dt>ATGACGTGTCCAAG-8</dt><dd>'CD56+ NK'</dd><dt>TGGACTGATTGAGC-3</dt><dd>'CD8+ Cytotoxic T'</dd><dt>GCTAGATGTTGCAG-3</dt><dd>'CD8+/CD45RA+ Naive Cytotoxic'</dd><dt>CAGAGGGACGTAAC-6</dt><dd>'CD14+ Monocyte'</dd><dt>GGGATGGAAACAGA-7</dt><dd>'CD8+ Cytotoxic T'</dd><dt>AACAGAGACCAAGT-8</dt><dd>'CD8+/CD45RA+ Naive Cytotoxic'</dd><dt>GGTCTAGAGCTCCT-2</dt><dd>'CD8+/CD45RA+ Naive Cytotoxic'</dd><dt>GGGATGGAAACAGA-7</dt><dd>'CD8+ Cytotoxic T'</dd><dt>ACTCCTCTGACAGG-2</dt><dd>'CD8+ Cytotoxic T'</dd><dt>AAGCCAACTGCTCC-5</dt><dd>'CD8+ Cytotoxic T'</dd><dt>ATGCGATGTTCTTG-8</dt><dd>'CD56+ NK'</dd><dt>CCTCATCTTTGCGA-5</dt><dd>'CD4+/CD25 T Reg'</dd><dt>GGGATGGAAACAGA-7</dt><dd>'CD8+ Cytotoxic T'</dd><dt>CCACGGGAAGCACT-5</dt><dd>'CD56+ NK'</dd><dt>TTGGAGTGGGACTT-5</dt><dd>'CD8+ Cytotoxic T'</dd><dt>ACACGTGACCACAA-4</dt><dd>'CD8+ Cytotoxic T'</dd><dt>GGGATGGAAACAGA-7</dt><dd>'CD8+ Cytotoxic T'</dd><dt>TGTTAAGACTTATC-2</dt><dd>'CD8+ Cytotoxic T'</dd><dt>AAGAAGACTCGTTT-2</dt><dd>'CD4+/CD25 T Reg'</dd><dt>ATGACGTGTCCAAG-8</dt><dd>'CD56+ NK'</dd><dt>GGGATGGAAACAGA-7</dt><dd>'CD8+ Cytotoxic T'</dd><dt>GGGATGGAAACAGA-7</dt><dd>'CD8+ Cytotoxic T'</dd><dt>GGGATGGAAACAGA-7</dt><dd>'CD8+ Cytotoxic T'</dd><dt>GGGATGGAAACAGA-7</dt><dd>'CD8+ Cytotoxic T'</dd><dt>AGTAAGGAGACGTT-6</dt><dd>'CD8+ Cytotoxic T'</dd><dt>CAGCCTTGTCCGAA-3</dt><dd>'CD8+ Cytotoxic T'</dd><dt>CGTTAACTTTGTGG-8</dt><dd>'CD4+/CD25 T Reg'</dd><dt>GCTAGATGTTGCAG-3</dt><dd>'CD8+/CD45RA+ Naive Cytotoxic'</dd><dt>GGGATGGAAACAGA-7</dt><dd>'CD8+ Cytotoxic T'</dd><dt>GGGATGGAAACAGA-7</dt><dd>'CD8+ Cytotoxic T'</dd><dt>GCTAGATGTTGCAG-3</dt><dd>'CD8+/CD45RA+ Naive Cytotoxic'</dd><dt>AGGTGGGAGTCTAG-3</dt><dd>'CD8+/CD45RA+ Naive Cytotoxic'</dd><dt>TGTGAGACTTTCGT-3</dt><dd>'CD8+/CD45RA+ Naive Cytotoxic'</dd><dt>GGGATGGAAACAGA-7</dt><dd>'CD8+ Cytotoxic T'</dd><dt>TGGACTGATTGAGC-3</dt><dd>'CD8+ Cytotoxic T'</dd><dt>CCAGTCTGTGCCCT-7</dt><dd>'CD19+ B'</dd></dl>\n"
      ],
      "text/latex": [
       "\\begin{description*}\n",
       "\\item[AAGTATACACTCTT-8] 'Dendritic'\n",
       "\\item[TGTATGCTTTGCAG-8] 'CD4+/CD25 T Reg'\n",
       "\\item[GGGATGGAAACAGA-7] 'CD8+ Cytotoxic T'\n",
       "\\item[TCCGAAGACGATAC-1] 'CD56+ NK'\n",
       "\\item[GGGATGGAAACAGA-7] 'CD8+ Cytotoxic T'\n",
       "\\item[CGTTAACTTTGTGG-8] 'CD4+/CD25 T Reg'\n",
       "\\item[TGACCGCTCCCTCA-1] 'CD34+'\n",
       "\\item[GCTAGATGTTGCAG-3] 'CD8+/CD45RA+ Naive Cytotoxic'\n",
       "\\item[GGGATGGAAACAGA-7] 'CD8+ Cytotoxic T'\n",
       "\\item[CAGTTTACACACGT-3] 'Dendritic'\n",
       "\\item[GGGATGGAAACAGA-7] 'CD8+ Cytotoxic T'\n",
       "\\item[GGTCTAGAGCTCCT-2] 'CD8+/CD45RA+ Naive Cytotoxic'\n",
       "\\item[CATGTTACGGAGGT-6] 'CD4+/CD25 T Reg'\n",
       "\\item[GGGATGGAAACAGA-7] 'CD8+ Cytotoxic T'\n",
       "\\item[GCTAGATGTTGCAG-3] 'CD8+/CD45RA+ Naive Cytotoxic'\n",
       "\\item[GGGATGGAAACAGA-7] 'CD8+ Cytotoxic T'\n",
       "\\item[GAGGTACTGTGAGG-8] 'CD8+ Cytotoxic T'\n",
       "\\item[GGGATGGAAACAGA-7] 'CD8+ Cytotoxic T'\n",
       "\\item[CCACTGTGGTCTGA-2] 'CD4+/CD45RO+ Memory'\n",
       "\\item[GGGATGGAAACAGA-7] 'CD8+ Cytotoxic T'\n",
       "\\item[GATAGAGATGTCTT-2] 'CD8+ Cytotoxic T'\n",
       "\\item[CGTGCACTTTCTCA-7] 'CD56+ NK'\n",
       "\\item[GAACGGGAAGCATC-5] 'Dendritic'\n",
       "\\item[TGACCGCTATTCCT-3] 'CD4+/CD25 T Reg'\n",
       "\\item[GTGGATTGGCTGAT-6] 'CD14+ Monocyte'\n",
       "\\item[GGGATGGAAACAGA-7] 'CD8+ Cytotoxic T'\n",
       "\\item[AACAGAGACCAAGT-8] 'CD8+/CD45RA+ Naive Cytotoxic'\n",
       "\\item[ATCACTTGCTGTTT-2] 'CD8+/CD45RA+ Naive Cytotoxic'\n",
       "\\item[ATCGCAGAACTACG-1] 'CD4+/CD45RO+ Memory'\n",
       "\\item[GGCTACCTTCCTTA-8] 'CD56+ NK'\n",
       "\\item[AAGCCAACTGCTCC-5] 'CD8+ Cytotoxic T'\n",
       "\\item[GCACCTACGTCGTA-7] 'CD8+/CD45RA+ Naive Cytotoxic'\n",
       "\\item[GGTCTAGAGCTCCT-2] 'CD8+/CD45RA+ Naive Cytotoxic'\n",
       "\\item[ATGACGTGTCCAAG-8] 'CD56+ NK'\n",
       "\\item[TGGACTGATTGAGC-3] 'CD8+ Cytotoxic T'\n",
       "\\item[GCTAGATGTTGCAG-3] 'CD8+/CD45RA+ Naive Cytotoxic'\n",
       "\\item[CAGAGGGACGTAAC-6] 'CD14+ Monocyte'\n",
       "\\item[GGGATGGAAACAGA-7] 'CD8+ Cytotoxic T'\n",
       "\\item[AACAGAGACCAAGT-8] 'CD8+/CD45RA+ Naive Cytotoxic'\n",
       "\\item[GGTCTAGAGCTCCT-2] 'CD8+/CD45RA+ Naive Cytotoxic'\n",
       "\\item[GGGATGGAAACAGA-7] 'CD8+ Cytotoxic T'\n",
       "\\item[ACTCCTCTGACAGG-2] 'CD8+ Cytotoxic T'\n",
       "\\item[AAGCCAACTGCTCC-5] 'CD8+ Cytotoxic T'\n",
       "\\item[ATGCGATGTTCTTG-8] 'CD56+ NK'\n",
       "\\item[CCTCATCTTTGCGA-5] 'CD4+/CD25 T Reg'\n",
       "\\item[GGGATGGAAACAGA-7] 'CD8+ Cytotoxic T'\n",
       "\\item[CCACGGGAAGCACT-5] 'CD56+ NK'\n",
       "\\item[TTGGAGTGGGACTT-5] 'CD8+ Cytotoxic T'\n",
       "\\item[ACACGTGACCACAA-4] 'CD8+ Cytotoxic T'\n",
       "\\item[GGGATGGAAACAGA-7] 'CD8+ Cytotoxic T'\n",
       "\\item[TGTTAAGACTTATC-2] 'CD8+ Cytotoxic T'\n",
       "\\item[AAGAAGACTCGTTT-2] 'CD4+/CD25 T Reg'\n",
       "\\item[ATGACGTGTCCAAG-8] 'CD56+ NK'\n",
       "\\item[GGGATGGAAACAGA-7] 'CD8+ Cytotoxic T'\n",
       "\\item[GGGATGGAAACAGA-7] 'CD8+ Cytotoxic T'\n",
       "\\item[GGGATGGAAACAGA-7] 'CD8+ Cytotoxic T'\n",
       "\\item[GGGATGGAAACAGA-7] 'CD8+ Cytotoxic T'\n",
       "\\item[AGTAAGGAGACGTT-6] 'CD8+ Cytotoxic T'\n",
       "\\item[CAGCCTTGTCCGAA-3] 'CD8+ Cytotoxic T'\n",
       "\\item[CGTTAACTTTGTGG-8] 'CD4+/CD25 T Reg'\n",
       "\\item[GCTAGATGTTGCAG-3] 'CD8+/CD45RA+ Naive Cytotoxic'\n",
       "\\item[GGGATGGAAACAGA-7] 'CD8+ Cytotoxic T'\n",
       "\\item[GGGATGGAAACAGA-7] 'CD8+ Cytotoxic T'\n",
       "\\item[GCTAGATGTTGCAG-3] 'CD8+/CD45RA+ Naive Cytotoxic'\n",
       "\\item[AGGTGGGAGTCTAG-3] 'CD8+/CD45RA+ Naive Cytotoxic'\n",
       "\\item[TGTGAGACTTTCGT-3] 'CD8+/CD45RA+ Naive Cytotoxic'\n",
       "\\item[GGGATGGAAACAGA-7] 'CD8+ Cytotoxic T'\n",
       "\\item[TGGACTGATTGAGC-3] 'CD8+ Cytotoxic T'\n",
       "\\item[CCAGTCTGTGCCCT-7] 'CD19+ B'\n",
       "\\end{description*}\n"
      ],
      "text/markdown": [
       "AAGTATACACTCTT-8\n",
       ":   'Dendritic'TGTATGCTTTGCAG-8\n",
       ":   'CD4+/CD25 T Reg'GGGATGGAAACAGA-7\n",
       ":   'CD8+ Cytotoxic T'TCCGAAGACGATAC-1\n",
       ":   'CD56+ NK'GGGATGGAAACAGA-7\n",
       ":   'CD8+ Cytotoxic T'CGTTAACTTTGTGG-8\n",
       ":   'CD4+/CD25 T Reg'TGACCGCTCCCTCA-1\n",
       ":   'CD34+'GCTAGATGTTGCAG-3\n",
       ":   'CD8+/CD45RA+ Naive Cytotoxic'GGGATGGAAACAGA-7\n",
       ":   'CD8+ Cytotoxic T'CAGTTTACACACGT-3\n",
       ":   'Dendritic'GGGATGGAAACAGA-7\n",
       ":   'CD8+ Cytotoxic T'GGTCTAGAGCTCCT-2\n",
       ":   'CD8+/CD45RA+ Naive Cytotoxic'CATGTTACGGAGGT-6\n",
       ":   'CD4+/CD25 T Reg'GGGATGGAAACAGA-7\n",
       ":   'CD8+ Cytotoxic T'GCTAGATGTTGCAG-3\n",
       ":   'CD8+/CD45RA+ Naive Cytotoxic'GGGATGGAAACAGA-7\n",
       ":   'CD8+ Cytotoxic T'GAGGTACTGTGAGG-8\n",
       ":   'CD8+ Cytotoxic T'GGGATGGAAACAGA-7\n",
       ":   'CD8+ Cytotoxic T'CCACTGTGGTCTGA-2\n",
       ":   'CD4+/CD45RO+ Memory'GGGATGGAAACAGA-7\n",
       ":   'CD8+ Cytotoxic T'GATAGAGATGTCTT-2\n",
       ":   'CD8+ Cytotoxic T'CGTGCACTTTCTCA-7\n",
       ":   'CD56+ NK'GAACGGGAAGCATC-5\n",
       ":   'Dendritic'TGACCGCTATTCCT-3\n",
       ":   'CD4+/CD25 T Reg'GTGGATTGGCTGAT-6\n",
       ":   'CD14+ Monocyte'GGGATGGAAACAGA-7\n",
       ":   'CD8+ Cytotoxic T'AACAGAGACCAAGT-8\n",
       ":   'CD8+/CD45RA+ Naive Cytotoxic'ATCACTTGCTGTTT-2\n",
       ":   'CD8+/CD45RA+ Naive Cytotoxic'ATCGCAGAACTACG-1\n",
       ":   'CD4+/CD45RO+ Memory'GGCTACCTTCCTTA-8\n",
       ":   'CD56+ NK'AAGCCAACTGCTCC-5\n",
       ":   'CD8+ Cytotoxic T'GCACCTACGTCGTA-7\n",
       ":   'CD8+/CD45RA+ Naive Cytotoxic'GGTCTAGAGCTCCT-2\n",
       ":   'CD8+/CD45RA+ Naive Cytotoxic'ATGACGTGTCCAAG-8\n",
       ":   'CD56+ NK'TGGACTGATTGAGC-3\n",
       ":   'CD8+ Cytotoxic T'GCTAGATGTTGCAG-3\n",
       ":   'CD8+/CD45RA+ Naive Cytotoxic'CAGAGGGACGTAAC-6\n",
       ":   'CD14+ Monocyte'GGGATGGAAACAGA-7\n",
       ":   'CD8+ Cytotoxic T'AACAGAGACCAAGT-8\n",
       ":   'CD8+/CD45RA+ Naive Cytotoxic'GGTCTAGAGCTCCT-2\n",
       ":   'CD8+/CD45RA+ Naive Cytotoxic'GGGATGGAAACAGA-7\n",
       ":   'CD8+ Cytotoxic T'ACTCCTCTGACAGG-2\n",
       ":   'CD8+ Cytotoxic T'AAGCCAACTGCTCC-5\n",
       ":   'CD8+ Cytotoxic T'ATGCGATGTTCTTG-8\n",
       ":   'CD56+ NK'CCTCATCTTTGCGA-5\n",
       ":   'CD4+/CD25 T Reg'GGGATGGAAACAGA-7\n",
       ":   'CD8+ Cytotoxic T'CCACGGGAAGCACT-5\n",
       ":   'CD56+ NK'TTGGAGTGGGACTT-5\n",
       ":   'CD8+ Cytotoxic T'ACACGTGACCACAA-4\n",
       ":   'CD8+ Cytotoxic T'GGGATGGAAACAGA-7\n",
       ":   'CD8+ Cytotoxic T'TGTTAAGACTTATC-2\n",
       ":   'CD8+ Cytotoxic T'AAGAAGACTCGTTT-2\n",
       ":   'CD4+/CD25 T Reg'ATGACGTGTCCAAG-8\n",
       ":   'CD56+ NK'GGGATGGAAACAGA-7\n",
       ":   'CD8+ Cytotoxic T'GGGATGGAAACAGA-7\n",
       ":   'CD8+ Cytotoxic T'GGGATGGAAACAGA-7\n",
       ":   'CD8+ Cytotoxic T'GGGATGGAAACAGA-7\n",
       ":   'CD8+ Cytotoxic T'AGTAAGGAGACGTT-6\n",
       ":   'CD8+ Cytotoxic T'CAGCCTTGTCCGAA-3\n",
       ":   'CD8+ Cytotoxic T'CGTTAACTTTGTGG-8\n",
       ":   'CD4+/CD25 T Reg'GCTAGATGTTGCAG-3\n",
       ":   'CD8+/CD45RA+ Naive Cytotoxic'GGGATGGAAACAGA-7\n",
       ":   'CD8+ Cytotoxic T'GGGATGGAAACAGA-7\n",
       ":   'CD8+ Cytotoxic T'GCTAGATGTTGCAG-3\n",
       ":   'CD8+/CD45RA+ Naive Cytotoxic'AGGTGGGAGTCTAG-3\n",
       ":   'CD8+/CD45RA+ Naive Cytotoxic'TGTGAGACTTTCGT-3\n",
       ":   'CD8+/CD45RA+ Naive Cytotoxic'GGGATGGAAACAGA-7\n",
       ":   'CD8+ Cytotoxic T'TGGACTGATTGAGC-3\n",
       ":   'CD8+ Cytotoxic T'CCAGTCTGTGCCCT-7\n",
       ":   'CD19+ B'\n",
       "\n"
      ],
      "text/plain": [
       "              AAGTATACACTCTT-8               TGTATGCTTTGCAG-8 \n",
       "                   \"Dendritic\"              \"CD4+/CD25 T Reg\" \n",
       "              GGGATGGAAACAGA-7               TCCGAAGACGATAC-1 \n",
       "            \"CD8+ Cytotoxic T\"                     \"CD56+ NK\" \n",
       "              GGGATGGAAACAGA-7               CGTTAACTTTGTGG-8 \n",
       "            \"CD8+ Cytotoxic T\"              \"CD4+/CD25 T Reg\" \n",
       "              TGACCGCTCCCTCA-1               GCTAGATGTTGCAG-3 \n",
       "                       \"CD34+\" \"CD8+/CD45RA+ Naive Cytotoxic\" \n",
       "              GGGATGGAAACAGA-7               CAGTTTACACACGT-3 \n",
       "            \"CD8+ Cytotoxic T\"                    \"Dendritic\" \n",
       "              GGGATGGAAACAGA-7               GGTCTAGAGCTCCT-2 \n",
       "            \"CD8+ Cytotoxic T\" \"CD8+/CD45RA+ Naive Cytotoxic\" \n",
       "              CATGTTACGGAGGT-6               GGGATGGAAACAGA-7 \n",
       "             \"CD4+/CD25 T Reg\"             \"CD8+ Cytotoxic T\" \n",
       "              GCTAGATGTTGCAG-3               GGGATGGAAACAGA-7 \n",
       "\"CD8+/CD45RA+ Naive Cytotoxic\"             \"CD8+ Cytotoxic T\" \n",
       "              GAGGTACTGTGAGG-8               GGGATGGAAACAGA-7 \n",
       "            \"CD8+ Cytotoxic T\"             \"CD8+ Cytotoxic T\" \n",
       "              CCACTGTGGTCTGA-2               GGGATGGAAACAGA-7 \n",
       "         \"CD4+/CD45RO+ Memory\"             \"CD8+ Cytotoxic T\" \n",
       "              GATAGAGATGTCTT-2               CGTGCACTTTCTCA-7 \n",
       "            \"CD8+ Cytotoxic T\"                     \"CD56+ NK\" \n",
       "              GAACGGGAAGCATC-5               TGACCGCTATTCCT-3 \n",
       "                   \"Dendritic\"              \"CD4+/CD25 T Reg\" \n",
       "              GTGGATTGGCTGAT-6               GGGATGGAAACAGA-7 \n",
       "              \"CD14+ Monocyte\"             \"CD8+ Cytotoxic T\" \n",
       "              AACAGAGACCAAGT-8               ATCACTTGCTGTTT-2 \n",
       "\"CD8+/CD45RA+ Naive Cytotoxic\" \"CD8+/CD45RA+ Naive Cytotoxic\" \n",
       "              ATCGCAGAACTACG-1               GGCTACCTTCCTTA-8 \n",
       "         \"CD4+/CD45RO+ Memory\"                     \"CD56+ NK\" \n",
       "              AAGCCAACTGCTCC-5               GCACCTACGTCGTA-7 \n",
       "            \"CD8+ Cytotoxic T\" \"CD8+/CD45RA+ Naive Cytotoxic\" \n",
       "              GGTCTAGAGCTCCT-2               ATGACGTGTCCAAG-8 \n",
       "\"CD8+/CD45RA+ Naive Cytotoxic\"                     \"CD56+ NK\" \n",
       "              TGGACTGATTGAGC-3               GCTAGATGTTGCAG-3 \n",
       "            \"CD8+ Cytotoxic T\" \"CD8+/CD45RA+ Naive Cytotoxic\" \n",
       "              CAGAGGGACGTAAC-6               GGGATGGAAACAGA-7 \n",
       "              \"CD14+ Monocyte\"             \"CD8+ Cytotoxic T\" \n",
       "              AACAGAGACCAAGT-8               GGTCTAGAGCTCCT-2 \n",
       "\"CD8+/CD45RA+ Naive Cytotoxic\" \"CD8+/CD45RA+ Naive Cytotoxic\" \n",
       "              GGGATGGAAACAGA-7               ACTCCTCTGACAGG-2 \n",
       "            \"CD8+ Cytotoxic T\"             \"CD8+ Cytotoxic T\" \n",
       "              AAGCCAACTGCTCC-5               ATGCGATGTTCTTG-8 \n",
       "            \"CD8+ Cytotoxic T\"                     \"CD56+ NK\" \n",
       "              CCTCATCTTTGCGA-5               GGGATGGAAACAGA-7 \n",
       "             \"CD4+/CD25 T Reg\"             \"CD8+ Cytotoxic T\" \n",
       "              CCACGGGAAGCACT-5               TTGGAGTGGGACTT-5 \n",
       "                    \"CD56+ NK\"             \"CD8+ Cytotoxic T\" \n",
       "              ACACGTGACCACAA-4               GGGATGGAAACAGA-7 \n",
       "            \"CD8+ Cytotoxic T\"             \"CD8+ Cytotoxic T\" \n",
       "              TGTTAAGACTTATC-2               AAGAAGACTCGTTT-2 \n",
       "            \"CD8+ Cytotoxic T\"              \"CD4+/CD25 T Reg\" \n",
       "              ATGACGTGTCCAAG-8               GGGATGGAAACAGA-7 \n",
       "                    \"CD56+ NK\"             \"CD8+ Cytotoxic T\" \n",
       "              GGGATGGAAACAGA-7               GGGATGGAAACAGA-7 \n",
       "            \"CD8+ Cytotoxic T\"             \"CD8+ Cytotoxic T\" \n",
       "              GGGATGGAAACAGA-7               AGTAAGGAGACGTT-6 \n",
       "            \"CD8+ Cytotoxic T\"             \"CD8+ Cytotoxic T\" \n",
       "              CAGCCTTGTCCGAA-3               CGTTAACTTTGTGG-8 \n",
       "            \"CD8+ Cytotoxic T\"              \"CD4+/CD25 T Reg\" \n",
       "              GCTAGATGTTGCAG-3               GGGATGGAAACAGA-7 \n",
       "\"CD8+/CD45RA+ Naive Cytotoxic\"             \"CD8+ Cytotoxic T\" \n",
       "              GGGATGGAAACAGA-7               GCTAGATGTTGCAG-3 \n",
       "            \"CD8+ Cytotoxic T\" \"CD8+/CD45RA+ Naive Cytotoxic\" \n",
       "              AGGTGGGAGTCTAG-3               TGTGAGACTTTCGT-3 \n",
       "\"CD8+/CD45RA+ Naive Cytotoxic\" \"CD8+/CD45RA+ Naive Cytotoxic\" \n",
       "              GGGATGGAAACAGA-7               TGGACTGATTGAGC-3 \n",
       "            \"CD8+ Cytotoxic T\"             \"CD8+ Cytotoxic T\" \n",
       "              CCAGTCTGTGCCCT-7 \n",
       "                     \"CD19+ B\" "
      ]
     },
     "metadata": {},
     "output_type": "display_data"
    }
   ],
   "source": [
    "ref_cell_gs_prediction"
   ]
  },
  {
   "cell_type": "code",
   "execution_count": null,
   "metadata": {
    "vscode": {
     "languageId": "r"
    }
   },
   "outputs": [],
   "source": [
    "'CD19+ B''CD8+/CD45RA+ Naive Cytotoxic''CD8+/CD45RA+ Naive Cytotoxic''CD56+ NK''CD4+/CD45RO+ Memory''CD8+/CD45RA+ Naive Cytotoxic''CD34+''CD4+/CD45RA+/CD25- Naive T''CD8+ Cytotoxic T''Dendritic''CD8+/CD45RA+ Naive Cytotoxic''CD8+ Cytotoxic T''CD4+/CD45RO+ Memory''CD8+/CD45RA+ Naive Cytotoxic''CD8+/CD45RA+ Naive Cytotoxic''CD8+ Cytotoxic T''CD56+ NK''CD8+ Cytotoxic T''CD8+/CD45RA+ Naive Cytotoxic''CD4+/CD25 T Reg''CD8+ Cytotoxic T''CD56+ NK''CD14+ Monocyte''CD8+/CD45RA+ Naive Cytotoxic''Dendritic''CD8+ Cytotoxic T''CD8+/CD45RA+ Naive Cytotoxic''CD8+/CD45RA+ Naive Cytotoxic''CD19+ B''CD56+ NK''CD8+/CD45RA+ Naive Cytotoxic''CD8+/CD45RA+ Naive Cytotoxic''CD8+/CD45RA+ Naive Cytotoxic''CD56+ NK''CD8+ Cytotoxic T''CD8+/CD45RA+ Naive Cytotoxic''CD14+ Monocyte''CD4+/CD25 T Reg''CD8+/CD45RA+ Naive Cytotoxic''CD4+/CD25 T Reg''CD8+/CD45RA+ Naive Cytotoxic''CD4+/CD25 T Reg''CD8+/CD45RA+ Naive Cytotoxic''CD56+ NK''CD4+/CD45RA+/CD25- Naive T''CD8+ Cytotoxic T''CD8+ Cytotoxic T''CD56+ NK''CD8+ Cytotoxic T''CD8+/CD45RA+ Naive Cytotoxic''CD8+/CD45RA+ Naive Cytotoxic''CD4+/CD45RO+ Memory''CD56+ NK''CD8+ Cytotoxic T''CD4+/CD25 T Reg''CD8+ Cytotoxic T''CD8+ Cytotoxic T''CD8+ Cytotoxic T''CD8+ Cytotoxic T''CD4+/CD45RA+/CD25- Naive T''CD19+ B''CD4+/CD45RA+/CD25- Naive T''CD8+ Cytotoxic T''CD8+ Cytotoxic T''CD4+/CD25 T Reg''CD8+/CD45RA+ Naive Cytotoxic''CD4+/CD45RA+/CD25- Naive T''CD8+ Cytotoxic T''CD19+ B'"
   ]
  }
 ],
 "metadata": {
  "kernelspec": {
   "display_name": "R",
   "language": "R",
   "name": "ir"
  },
  "language_info": {
   "codemirror_mode": "r",
   "file_extension": ".r",
   "mimetype": "text/x-r-source",
   "name": "R",
   "pygments_lexer": "r",
   "version": "4.2.2"
  },
  "orig_nbformat": 4
 },
 "nbformat": 4,
 "nbformat_minor": 2
}
