{
 "cells": [
  {
   "cell_type": "code",
   "execution_count": 1,
   "metadata": {
    "vscode": {
     "languageId": "r"
    }
   },
   "outputs": [],
   "source": [
    "#Cellid\n",
    "\n",
    "#read data\n",
    "\n",
    "data=read.table(\"data/macparland/GSE115469_Data.csv\",header=TRUE,row.names=1,sep=\",\")\n",
    "\n",
    "data=t(data)\n",
    "#annotation=BaronMetaData"
   ]
  },
  {
   "cell_type": "code",
   "execution_count": 2,
   "metadata": {
    "vscode": {
     "languageId": "r"
    }
   },
   "outputs": [
    {
     "name": "stderr",
     "output_type": "stream",
     "text": [
      "Warning message in read.table(\"data/macparland/GSE115469_CellClusterType.txt\", header = TRUE, :\n",
      "“header and 'col.names' are of different lengths”\n"
     ]
    },
    {
     "data": {
      "text/html": [
       "<table class=\"dataframe\">\n",
       "<caption>A data.frame: 6 × 6</caption>\n",
       "<thead>\n",
       "\t<tr><th></th><th scope=col>CellName</th><th scope=col>Sample</th><th scope=col>Cell.</th><th scope=col>Cluster.</th><th scope=col>cell.type</th><th scope=col>celltype</th></tr>\n",
       "\t<tr><th></th><th scope=col>&lt;chr&gt;</th><th scope=col>&lt;chr&gt;</th><th scope=col>&lt;chr&gt;</th><th scope=col>&lt;int&gt;</th><th scope=col>&lt;chr&gt;</th><th scope=col>&lt;chr&gt;</th></tr>\n",
       "</thead>\n",
       "<tbody>\n",
       "\t<tr><th scope=row>1</th><td>P1TLH_AAACCTGAGCAGCCTC_1</td><td>P1TLH</td><td>AAACCTGAGCAGCCTC</td><td>12</td><td>Central_venous_LSECs       </td><td>Central_venous_LSECs       </td></tr>\n",
       "\t<tr><th scope=row>2</th><td>P1TLH_AAACCTGTCCTCATTA_1</td><td>P1TLH</td><td>AAACCTGTCCTCATTA</td><td>17</td><td>Cholangiocytes             </td><td>Cholangiocytes             </td></tr>\n",
       "\t<tr><th scope=row>3</th><td>P1TLH_AAACCTGTCTAAGCCA_1</td><td>P1TLH</td><td>AAACCTGTCTAAGCCA</td><td>12</td><td>Central_venous_LSECs       </td><td>Central_venous_LSECs       </td></tr>\n",
       "\t<tr><th scope=row>4</th><td>P1TLH_AAACGGGAGTAGGCCA_1</td><td>P1TLH</td><td>AAACGGGAGTAGGCCA</td><td>10</td><td>Non-inflammatory_Macrophage</td><td>Non-inflammatory_Macrophage</td></tr>\n",
       "\t<tr><th scope=row>5</th><td>P1TLH_AAACGGGGTTCGGGCT_1</td><td>P1TLH</td><td>AAACGGGGTTCGGGCT</td><td> 2</td><td>alpha-beta_T_Cells         </td><td>alpha-beta_T_Cells         </td></tr>\n",
       "\t<tr><th scope=row>6</th><td>P1TLH_AAAGCAACAGTAAGAT_1</td><td>P1TLH</td><td>AAAGCAACAGTAAGAT</td><td> 2</td><td>alpha-beta_T_Cells         </td><td>alpha-beta_T_Cells         </td></tr>\n",
       "</tbody>\n",
       "</table>\n"
      ],
      "text/latex": [
       "A data.frame: 6 × 6\n",
       "\\begin{tabular}{r|llllll}\n",
       "  & CellName & Sample & Cell. & Cluster. & cell.type & celltype\\\\\n",
       "  & <chr> & <chr> & <chr> & <int> & <chr> & <chr>\\\\\n",
       "\\hline\n",
       "\t1 & P1TLH\\_AAACCTGAGCAGCCTC\\_1 & P1TLH & AAACCTGAGCAGCCTC & 12 & Central\\_venous\\_LSECs        & Central\\_venous\\_LSECs       \\\\\n",
       "\t2 & P1TLH\\_AAACCTGTCCTCATTA\\_1 & P1TLH & AAACCTGTCCTCATTA & 17 & Cholangiocytes              & Cholangiocytes             \\\\\n",
       "\t3 & P1TLH\\_AAACCTGTCTAAGCCA\\_1 & P1TLH & AAACCTGTCTAAGCCA & 12 & Central\\_venous\\_LSECs        & Central\\_venous\\_LSECs       \\\\\n",
       "\t4 & P1TLH\\_AAACGGGAGTAGGCCA\\_1 & P1TLH & AAACGGGAGTAGGCCA & 10 & Non-inflammatory\\_Macrophage & Non-inflammatory\\_Macrophage\\\\\n",
       "\t5 & P1TLH\\_AAACGGGGTTCGGGCT\\_1 & P1TLH & AAACGGGGTTCGGGCT &  2 & alpha-beta\\_T\\_Cells          & alpha-beta\\_T\\_Cells         \\\\\n",
       "\t6 & P1TLH\\_AAAGCAACAGTAAGAT\\_1 & P1TLH & AAAGCAACAGTAAGAT &  2 & alpha-beta\\_T\\_Cells          & alpha-beta\\_T\\_Cells         \\\\\n",
       "\\end{tabular}\n"
      ],
      "text/markdown": [
       "\n",
       "A data.frame: 6 × 6\n",
       "\n",
       "| <!--/--> | CellName &lt;chr&gt; | Sample &lt;chr&gt; | Cell. &lt;chr&gt; | Cluster. &lt;int&gt; | cell.type &lt;chr&gt; | celltype &lt;chr&gt; |\n",
       "|---|---|---|---|---|---|---|\n",
       "| 1 | P1TLH_AAACCTGAGCAGCCTC_1 | P1TLH | AAACCTGAGCAGCCTC | 12 | Central_venous_LSECs        | Central_venous_LSECs        |\n",
       "| 2 | P1TLH_AAACCTGTCCTCATTA_1 | P1TLH | AAACCTGTCCTCATTA | 17 | Cholangiocytes              | Cholangiocytes              |\n",
       "| 3 | P1TLH_AAACCTGTCTAAGCCA_1 | P1TLH | AAACCTGTCTAAGCCA | 12 | Central_venous_LSECs        | Central_venous_LSECs        |\n",
       "| 4 | P1TLH_AAACGGGAGTAGGCCA_1 | P1TLH | AAACGGGAGTAGGCCA | 10 | Non-inflammatory_Macrophage | Non-inflammatory_Macrophage |\n",
       "| 5 | P1TLH_AAACGGGGTTCGGGCT_1 | P1TLH | AAACGGGGTTCGGGCT |  2 | alpha-beta_T_Cells          | alpha-beta_T_Cells          |\n",
       "| 6 | P1TLH_AAAGCAACAGTAAGAT_1 | P1TLH | AAAGCAACAGTAAGAT |  2 | alpha-beta_T_Cells          | alpha-beta_T_Cells          |\n",
       "\n"
      ],
      "text/plain": [
       "  CellName                 Sample Cell.            Cluster.\n",
       "1 P1TLH_AAACCTGAGCAGCCTC_1 P1TLH  AAACCTGAGCAGCCTC 12      \n",
       "2 P1TLH_AAACCTGTCCTCATTA_1 P1TLH  AAACCTGTCCTCATTA 17      \n",
       "3 P1TLH_AAACCTGTCTAAGCCA_1 P1TLH  AAACCTGTCTAAGCCA 12      \n",
       "4 P1TLH_AAACGGGAGTAGGCCA_1 P1TLH  AAACGGGAGTAGGCCA 10      \n",
       "5 P1TLH_AAACGGGGTTCGGGCT_1 P1TLH  AAACGGGGTTCGGGCT  2      \n",
       "6 P1TLH_AAAGCAACAGTAAGAT_1 P1TLH  AAAGCAACAGTAAGAT  2      \n",
       "  cell.type                   celltype                   \n",
       "1 Central_venous_LSECs        Central_venous_LSECs       \n",
       "2 Cholangiocytes              Cholangiocytes             \n",
       "3 Central_venous_LSECs        Central_venous_LSECs       \n",
       "4 Non-inflammatory_Macrophage Non-inflammatory_Macrophage\n",
       "5 alpha-beta_T_Cells          alpha-beta_T_Cells         \n",
       "6 alpha-beta_T_Cells          alpha-beta_T_Cells         "
      ]
     },
     "metadata": {},
     "output_type": "display_data"
    }
   ],
   "source": [
    "annotation=read.table(\"data/macparland/GSE115469_CellClusterType.txt\",header=TRUE,sep=\"\\t\",col.names=c(\"CellName\",\"Sample\",\"Cell#\",\"Cluster#\",\"cell.type\"))\n",
    "annotation$celltype=annotation$cell.type\n",
    "head(annotation)"
   ]
  },
  {
   "cell_type": "code",
   "execution_count": 4,
   "metadata": {
    "vscode": {
     "languageId": "r"
    }
   },
   "outputs": [],
   "source": [
    "extract_prediction_label = function(x){\n",
    "    y=c()\n",
    "    for (i in x){\n",
    "        y=c(y,i)\n",
    "    }\n",
    "    y\n",
    "    return(y)\n",
    "}\n",
    "\n",
    "\n",
    "\n",
    "calculate_test_accuracy <- function(true_labels, predicted_labels) {\n",
    "  if (length(true_labels) != length(predicted_labels)) {\n",
    "    stop(\"Input vectors must have the same length.\")\n",
    "  }\n",
    "  \n",
    "  correct_predictions <- sum(true_labels == predicted_labels)\n",
    "  total_samples <- length(true_labels)\n",
    "  \n",
    "  accuracy <- correct_predictions / total_samples\n",
    "  return(accuracy)\n",
    "}\n",
    "\n",
    "\n",
    "calculate_f1_score_multiclass <- function(true_labels, predicted_labels) {\n",
    "  if (length(true_labels) != length(predicted_labels)) {\n",
    "    stop(\"Input vectors must have the same length.\")\n",
    "  }\n",
    "  \n",
    "  # Get unique class labels\n",
    "  classes <- unique(c(true_labels, predicted_labels))\n",
    "  \n",
    "  # Initialize variables to store per-class statistics\n",
    "  precision <- numeric(length(classes))\n",
    "  recall <- numeric(length(classes))\n",
    "  f1_score <- numeric(length(classes))\n",
    "  \n",
    "  # Calculate precision, recall, and F1 score for each class\n",
    "  for (i in 1:length(classes)) {\n",
    "    class_label <- classes[i]\n",
    "    true_positive <- sum(predicted_labels == class_label & true_labels == class_label)\n",
    "    false_positive <- sum(predicted_labels == class_label & true_labels != class_label)\n",
    "    false_negative <- sum(predicted_labels != class_label & true_labels == class_label)\n",
    "    \n",
    "    precision[i] <- true_positive / (true_positive + false_positive)\n",
    "    recall[i] <- true_positive / (true_positive + false_negative)\n",
    "    \n",
    "    f1_score[i] <- 2 * (precision[i] * recall[i]) / (precision[i] + recall[i])\n",
    "  }\n",
    "  \n",
    "  # Calculate macro-averaged F1 score\n",
    "  macro_f1_score <- mean(f1_score, na.rm = TRUE)\n",
    "  \n",
    "  return(macro_f1_score)\n",
    "}\n",
    "\n",
    "\n"
   ]
  },
  {
   "cell_type": "code",
   "execution_count": 5,
   "metadata": {
    "vscode": {
     "languageId": "r"
    }
   },
   "outputs": [
    {
     "name": "stderr",
     "output_type": "stream",
     "text": [
      "Attaching SeuratObject\n",
      "\n",
      "Loading required package: SingleCellExperiment\n",
      "\n",
      "Loading required package: SummarizedExperiment\n",
      "\n",
      "Loading required package: MatrixGenerics\n",
      "\n",
      "Loading required package: matrixStats\n",
      "\n",
      "\n",
      "Attaching package: ‘MatrixGenerics’\n",
      "\n",
      "\n",
      "The following objects are masked from ‘package:matrixStats’:\n",
      "\n",
      "    colAlls, colAnyNAs, colAnys, colAvgsPerRowSet, colCollapse,\n",
      "    colCounts, colCummaxs, colCummins, colCumprods, colCumsums,\n",
      "    colDiffs, colIQRDiffs, colIQRs, colLogSumExps, colMadDiffs,\n",
      "    colMads, colMaxs, colMeans2, colMedians, colMins, colOrderStats,\n",
      "    colProds, colQuantiles, colRanges, colRanks, colSdDiffs, colSds,\n",
      "    colSums2, colTabulates, colVarDiffs, colVars, colWeightedMads,\n",
      "    colWeightedMeans, colWeightedMedians, colWeightedSds,\n",
      "    colWeightedVars, rowAlls, rowAnyNAs, rowAnys, rowAvgsPerColSet,\n",
      "    rowCollapse, rowCounts, rowCummaxs, rowCummins, rowCumprods,\n",
      "    rowCumsums, rowDiffs, rowIQRDiffs, rowIQRs, rowLogSumExps,\n",
      "    rowMadDiffs, rowMads, rowMaxs, rowMeans2, rowMedians, rowMins,\n",
      "    rowOrderStats, rowProds, rowQuantiles, rowRanges, rowRanks,\n",
      "    rowSdDiffs, rowSds, rowSums2, rowTabulates, rowVarDiffs, rowVars,\n",
      "    rowWeightedMads, rowWeightedMeans, rowWeightedMedians,\n",
      "    rowWeightedSds, rowWeightedVars\n",
      "\n",
      "\n",
      "Loading required package: GenomicRanges\n",
      "\n",
      "Loading required package: stats4\n",
      "\n",
      "Loading required package: BiocGenerics\n",
      "\n",
      "\n",
      "Attaching package: ‘BiocGenerics’\n",
      "\n",
      "\n",
      "The following objects are masked from ‘package:stats’:\n",
      "\n",
      "    IQR, mad, sd, var, xtabs\n",
      "\n",
      "\n",
      "The following objects are masked from ‘package:base’:\n",
      "\n",
      "    anyDuplicated, aperm, append, as.data.frame, basename, cbind,\n",
      "    colnames, dirname, do.call, duplicated, eval, evalq, Filter, Find,\n",
      "    get, grep, grepl, intersect, is.unsorted, lapply, Map, mapply,\n",
      "    match, mget, order, paste, pmax, pmax.int, pmin, pmin.int,\n",
      "    Position, rank, rbind, Reduce, rownames, sapply, setdiff, sort,\n",
      "    table, tapply, union, unique, unsplit, which.max, which.min\n",
      "\n",
      "\n",
      "Loading required package: S4Vectors\n",
      "\n",
      "\n",
      "Attaching package: ‘S4Vectors’\n",
      "\n",
      "\n",
      "The following objects are masked from ‘package:base’:\n",
      "\n",
      "    expand.grid, I, unname\n",
      "\n",
      "\n",
      "Loading required package: IRanges\n",
      "\n",
      "Loading required package: GenomeInfoDb\n",
      "\n",
      "Loading required package: Biobase\n",
      "\n",
      "Welcome to Bioconductor\n",
      "\n",
      "    Vignettes contain introductory material; view with\n",
      "    'browseVignettes()'. To cite Bioconductor, see\n",
      "    'citation(\"Biobase\")', and for packages 'citation(\"pkgname\")'.\n",
      "\n",
      "\n",
      "\n",
      "Attaching package: ‘Biobase’\n",
      "\n",
      "\n",
      "The following object is masked from ‘package:MatrixGenerics’:\n",
      "\n",
      "    rowMedians\n",
      "\n",
      "\n",
      "The following objects are masked from ‘package:matrixStats’:\n",
      "\n",
      "    anyMissing, rowMedians\n",
      "\n",
      "\n",
      "\n",
      "Attaching package: ‘SummarizedExperiment’\n",
      "\n",
      "\n",
      "The following object is masked from ‘package:SeuratObject’:\n",
      "\n",
      "    Assays\n",
      "\n",
      "\n",
      "The following object is masked from ‘package:Seurat’:\n",
      "\n",
      "    Assays\n",
      "\n",
      "\n",
      "Warning message:\n",
      "“replacing previous import ‘data.table::shift’ by ‘tictoc::shift’ when loading ‘CelliD’”\n",
      "── \u001b[1mAttaching core tidyverse packages\u001b[22m ──────────────────────── tidyverse 2.0.0 ──\n",
      "\u001b[32m✔\u001b[39m \u001b[34mdplyr    \u001b[39m 1.1.2     \u001b[32m✔\u001b[39m \u001b[34mreadr    \u001b[39m 2.1.4\n",
      "\u001b[32m✔\u001b[39m \u001b[34mforcats  \u001b[39m 1.0.0     \u001b[32m✔\u001b[39m \u001b[34mstringr  \u001b[39m 1.5.0\n",
      "\u001b[32m✔\u001b[39m \u001b[34mggplot2  \u001b[39m 3.4.2     \u001b[32m✔\u001b[39m \u001b[34mtibble   \u001b[39m 3.2.1\n",
      "\u001b[32m✔\u001b[39m \u001b[34mlubridate\u001b[39m 1.9.2     \u001b[32m✔\u001b[39m \u001b[34mtidyr    \u001b[39m 1.3.0\n",
      "\u001b[32m✔\u001b[39m \u001b[34mpurrr    \u001b[39m 1.0.1     \n",
      "── \u001b[1mConflicts\u001b[22m ────────────────────────────────────────── tidyverse_conflicts() ──\n",
      "\u001b[31m✖\u001b[39m \u001b[34mlubridate\u001b[39m::\u001b[32m%within%()\u001b[39m masks \u001b[34mIRanges\u001b[39m::%within%()\n",
      "\u001b[31m✖\u001b[39m \u001b[34mdplyr\u001b[39m::\u001b[32mcollapse()\u001b[39m     masks \u001b[34mIRanges\u001b[39m::collapse()\n",
      "\u001b[31m✖\u001b[39m \u001b[34mdplyr\u001b[39m::\u001b[32mcombine()\u001b[39m      masks \u001b[34mBiobase\u001b[39m::combine(), \u001b[34mBiocGenerics\u001b[39m::combine()\n",
      "\u001b[31m✖\u001b[39m \u001b[34mdplyr\u001b[39m::\u001b[32mcount()\u001b[39m        masks \u001b[34mmatrixStats\u001b[39m::count()\n",
      "\u001b[31m✖\u001b[39m \u001b[34mdplyr\u001b[39m::\u001b[32mdesc()\u001b[39m         masks \u001b[34mIRanges\u001b[39m::desc()\n",
      "\u001b[31m✖\u001b[39m \u001b[34mtidyr\u001b[39m::\u001b[32mexpand()\u001b[39m       masks \u001b[34mS4Vectors\u001b[39m::expand()\n",
      "\u001b[31m✖\u001b[39m \u001b[34mdplyr\u001b[39m::\u001b[32mfilter()\u001b[39m       masks \u001b[34mstats\u001b[39m::filter()\n",
      "\u001b[31m✖\u001b[39m \u001b[34mdplyr\u001b[39m::\u001b[32mfirst()\u001b[39m        masks \u001b[34mS4Vectors\u001b[39m::first()\n",
      "\u001b[31m✖\u001b[39m \u001b[34mdplyr\u001b[39m::\u001b[32mlag()\u001b[39m          masks \u001b[34mstats\u001b[39m::lag()\n",
      "\u001b[31m✖\u001b[39m \u001b[34mggplot2\u001b[39m::\u001b[32mPosition()\u001b[39m   masks \u001b[34mBiocGenerics\u001b[39m::Position(), \u001b[34mbase\u001b[39m::Position()\n",
      "\u001b[31m✖\u001b[39m \u001b[34mpurrr\u001b[39m::\u001b[32mreduce()\u001b[39m       masks \u001b[34mGenomicRanges\u001b[39m::reduce(), \u001b[34mIRanges\u001b[39m::reduce()\n",
      "\u001b[31m✖\u001b[39m \u001b[34mdplyr\u001b[39m::\u001b[32mrename()\u001b[39m       masks \u001b[34mS4Vectors\u001b[39m::rename()\n",
      "\u001b[31m✖\u001b[39m \u001b[34mlubridate\u001b[39m::\u001b[32msecond()\u001b[39m   masks \u001b[34mS4Vectors\u001b[39m::second()\n",
      "\u001b[31m✖\u001b[39m \u001b[34mlubridate\u001b[39m::\u001b[32msecond<-()\u001b[39m masks \u001b[34mS4Vectors\u001b[39m::second<-()\n",
      "\u001b[31m✖\u001b[39m \u001b[34mdplyr\u001b[39m::\u001b[32mslice()\u001b[39m        masks \u001b[34mIRanges\u001b[39m::slice()\n",
      "\u001b[36mℹ\u001b[39m Use the conflicted package (\u001b[3m\u001b[34m<http://conflicted.r-lib.org/>\u001b[39m\u001b[23m) to force all conflicts to become errors\n",
      "Warning message in split.default(sample(nrow(data)), 1:num_folds):\n",
      "“data length is not a multiple of split variable”\n",
      "Warning message:\n",
      "“Feature names cannot have underscores ('_'), replacing with dashes ('-')”\n",
      "Warning message:\n",
      "“The default method for RunUMAP has changed from calling Python UMAP via reticulate to the R-native UWOT using the cosine metric\n",
      "To use Python UMAP via reticulate, set umap.method to 'umap-learn' and metric to 'correlation'\n",
      "This message will be shown once per session”\n",
      "Warning message:\n",
      "“Feature names cannot have underscores ('_'), replacing with dashes ('-')”\n",
      "Computing Fuzzy Matrix\n",
      "\n"
     ]
    },
    {
     "name": "stdout",
     "output_type": "stream",
     "text": [
      "0.998 sec elapsed\n"
     ]
    },
    {
     "name": "stderr",
     "output_type": "stream",
     "text": [
      "Computing SVD\n",
      "\n"
     ]
    },
    {
     "name": "stdout",
     "output_type": "stream",
     "text": [
      "10.283 sec elapsed\n"
     ]
    },
    {
     "name": "stderr",
     "output_type": "stream",
     "text": [
      "Computing Coordinates\n",
      "\n"
     ]
    },
    {
     "name": "stdout",
     "output_type": "stream",
     "text": [
      "0.741 sec elapsed\n"
     ]
    },
    {
     "name": "stderr",
     "output_type": "stream",
     "text": [
      "Warning message in asMethod(object):\n",
      "“sparse->dense coercion: allocating vector of size 1.0 GiB”\n",
      "Computing Fuzzy Matrix\n",
      "\n"
     ]
    },
    {
     "name": "stdout",
     "output_type": "stream",
     "text": [
      "4.45 sec elapsed\n"
     ]
    },
    {
     "name": "stderr",
     "output_type": "stream",
     "text": [
      "Computing SVD\n",
      "\n"
     ]
    },
    {
     "name": "stdout",
     "output_type": "stream",
     "text": [
      "26.34 sec elapsed\n"
     ]
    },
    {
     "name": "stderr",
     "output_type": "stream",
     "text": [
      "Computing Coordinates\n",
      "\n"
     ]
    },
    {
     "name": "stdout",
     "output_type": "stream",
     "text": [
      "1.906 sec elapsed\n"
     ]
    },
    {
     "name": "stderr",
     "output_type": "stream",
     "text": [
      "\n",
      "calculating distance\n",
      "\n",
      "\n",
      "\n",
      "creating ranking\n",
      "\n",
      "\n",
      "\n",
      "creating geneset\n",
      "\n",
      "\n",
      "\n",
      "creating ranking\n",
      "\n",
      "\n",
      "\n",
      "calculating distance\n",
      "\n",
      "\n",
      "ranking genes\n",
      "\n",
      "6755 pathways kept for hypergeometric test out of 6755, 0 filtered as less than 10 features was present in the data\n",
      "\n",
      "\n",
      "calculating features overlap\n",
      "\n",
      "\n",
      "performing hypergeometric test\n",
      "\n",
      "\n"
     ]
    },
    {
     "name": "stdout",
     "output_type": "stream",
     "text": [
      "Fold 1 : Train samples = 6755 , Test samples = 1689 Accuracy: 0.8496152 f1 score: 0.84759 \n"
     ]
    },
    {
     "name": "stderr",
     "output_type": "stream",
     "text": [
      "Warning message:\n",
      "“Feature names cannot have underscores ('_'), replacing with dashes ('-')”\n",
      "Warning message:\n",
      "“Feature names cannot have underscores ('_'), replacing with dashes ('-')”\n",
      "Computing Fuzzy Matrix\n",
      "\n"
     ]
    },
    {
     "name": "stdout",
     "output_type": "stream",
     "text": [
      "0.73 sec elapsed\n"
     ]
    },
    {
     "name": "stderr",
     "output_type": "stream",
     "text": [
      "Computing SVD\n",
      "\n"
     ]
    },
    {
     "name": "stdout",
     "output_type": "stream",
     "text": [
      "9.448 sec elapsed\n"
     ]
    },
    {
     "name": "stderr",
     "output_type": "stream",
     "text": [
      "Computing Coordinates\n",
      "\n"
     ]
    },
    {
     "name": "stdout",
     "output_type": "stream",
     "text": [
      "0.393 sec elapsed\n"
     ]
    },
    {
     "name": "stderr",
     "output_type": "stream",
     "text": [
      "Warning message in asMethod(object):\n",
      "“sparse->dense coercion: allocating vector of size 1.0 GiB”\n",
      "Computing Fuzzy Matrix\n",
      "\n"
     ]
    },
    {
     "name": "stdout",
     "output_type": "stream",
     "text": [
      "3.948 sec elapsed\n"
     ]
    },
    {
     "name": "stderr",
     "output_type": "stream",
     "text": [
      "Computing SVD\n",
      "\n"
     ]
    },
    {
     "name": "stdout",
     "output_type": "stream",
     "text": [
      "31.179 sec elapsed\n"
     ]
    },
    {
     "name": "stderr",
     "output_type": "stream",
     "text": [
      "Computing Coordinates\n",
      "\n"
     ]
    },
    {
     "name": "stdout",
     "output_type": "stream",
     "text": [
      "1.681 sec elapsed\n"
     ]
    },
    {
     "name": "stderr",
     "output_type": "stream",
     "text": [
      "\n",
      "calculating distance\n",
      "\n",
      "\n",
      "\n",
      "creating ranking\n",
      "\n",
      "\n",
      "\n",
      "creating geneset\n",
      "\n",
      "\n",
      "\n",
      "creating ranking\n",
      "\n",
      "\n",
      "\n",
      "calculating distance\n",
      "\n",
      "\n",
      "ranking genes\n",
      "\n",
      "6755 pathways kept for hypergeometric test out of 6755, 0 filtered as less than 10 features was present in the data\n",
      "\n",
      "\n",
      "calculating features overlap\n",
      "\n",
      "\n",
      "performing hypergeometric test\n",
      "\n",
      "\n"
     ]
    },
    {
     "name": "stdout",
     "output_type": "stream",
     "text": [
      "Fold 2 : Train samples = 6755 , Test samples = 1689 Accuracy: 0.8342214 f1 score: 0.8608295 \n"
     ]
    },
    {
     "name": "stderr",
     "output_type": "stream",
     "text": [
      "Warning message:\n",
      "“Feature names cannot have underscores ('_'), replacing with dashes ('-')”\n",
      "Warning message:\n",
      "“Feature names cannot have underscores ('_'), replacing with dashes ('-')”\n",
      "Computing Fuzzy Matrix\n",
      "\n"
     ]
    },
    {
     "name": "stdout",
     "output_type": "stream",
     "text": [
      "0.73 sec elapsed\n"
     ]
    },
    {
     "name": "stderr",
     "output_type": "stream",
     "text": [
      "Computing SVD\n",
      "\n"
     ]
    },
    {
     "name": "stdout",
     "output_type": "stream",
     "text": [
      "10.421 sec elapsed\n"
     ]
    },
    {
     "name": "stderr",
     "output_type": "stream",
     "text": [
      "Computing Coordinates\n",
      "\n"
     ]
    },
    {
     "name": "stdout",
     "output_type": "stream",
     "text": [
      "0.308 sec elapsed\n"
     ]
    },
    {
     "name": "stderr",
     "output_type": "stream",
     "text": [
      "Warning message in asMethod(object):\n",
      "“sparse->dense coercion: allocating vector of size 1.0 GiB”\n",
      "Computing Fuzzy Matrix\n",
      "\n"
     ]
    },
    {
     "name": "stdout",
     "output_type": "stream",
     "text": [
      "4.739 sec elapsed\n"
     ]
    },
    {
     "name": "stderr",
     "output_type": "stream",
     "text": [
      "Computing SVD\n",
      "\n"
     ]
    },
    {
     "name": "stdout",
     "output_type": "stream",
     "text": [
      "24.255 sec elapsed\n"
     ]
    },
    {
     "name": "stderr",
     "output_type": "stream",
     "text": [
      "Computing Coordinates\n",
      "\n"
     ]
    },
    {
     "name": "stdout",
     "output_type": "stream",
     "text": [
      "1.881 sec elapsed\n"
     ]
    },
    {
     "name": "stderr",
     "output_type": "stream",
     "text": [
      "\n",
      "calculating distance\n",
      "\n",
      "\n",
      "\n",
      "creating ranking\n",
      "\n",
      "\n",
      "\n",
      "creating geneset\n",
      "\n",
      "\n",
      "\n",
      "creating ranking\n",
      "\n",
      "\n",
      "\n",
      "calculating distance\n",
      "\n",
      "\n",
      "ranking genes\n",
      "\n",
      "6755 pathways kept for hypergeometric test out of 6755, 0 filtered as less than 10 features was present in the data\n",
      "\n",
      "\n",
      "calculating features overlap\n",
      "\n",
      "\n",
      "performing hypergeometric test\n",
      "\n",
      "\n"
     ]
    },
    {
     "name": "stdout",
     "output_type": "stream",
     "text": [
      "Fold 3 : Train samples = 6755 , Test samples = 1689 Accuracy: 0.8448786 f1 score: 0.8623844 \n"
     ]
    },
    {
     "name": "stderr",
     "output_type": "stream",
     "text": [
      "Warning message:\n",
      "“Feature names cannot have underscores ('_'), replacing with dashes ('-')”\n",
      "Warning message:\n",
      "“Feature names cannot have underscores ('_'), replacing with dashes ('-')”\n",
      "Computing Fuzzy Matrix\n",
      "\n"
     ]
    },
    {
     "name": "stdout",
     "output_type": "stream",
     "text": [
      "0.799 sec elapsed\n"
     ]
    },
    {
     "name": "stderr",
     "output_type": "stream",
     "text": [
      "Computing SVD\n",
      "\n"
     ]
    },
    {
     "name": "stdout",
     "output_type": "stream",
     "text": [
      "9.754 sec elapsed\n"
     ]
    },
    {
     "name": "stderr",
     "output_type": "stream",
     "text": [
      "Computing Coordinates\n",
      "\n"
     ]
    },
    {
     "name": "stdout",
     "output_type": "stream",
     "text": [
      "0.36 sec elapsed\n"
     ]
    },
    {
     "name": "stderr",
     "output_type": "stream",
     "text": [
      "Warning message in asMethod(object):\n",
      "“sparse->dense coercion: allocating vector of size 1.0 GiB”\n",
      "Computing Fuzzy Matrix\n",
      "\n"
     ]
    },
    {
     "name": "stdout",
     "output_type": "stream",
     "text": [
      "4.341 sec elapsed\n"
     ]
    },
    {
     "name": "stderr",
     "output_type": "stream",
     "text": [
      "Computing SVD\n",
      "\n"
     ]
    },
    {
     "name": "stdout",
     "output_type": "stream",
     "text": [
      "29.385 sec elapsed\n"
     ]
    },
    {
     "name": "stderr",
     "output_type": "stream",
     "text": [
      "Computing Coordinates\n",
      "\n"
     ]
    },
    {
     "name": "stdout",
     "output_type": "stream",
     "text": [
      "1.998 sec elapsed\n"
     ]
    },
    {
     "name": "stderr",
     "output_type": "stream",
     "text": [
      "\n",
      "calculating distance\n",
      "\n",
      "\n",
      "\n",
      "creating ranking\n",
      "\n",
      "\n",
      "\n",
      "creating geneset\n",
      "\n",
      "\n",
      "\n",
      "creating ranking\n",
      "\n",
      "\n",
      "\n",
      "calculating distance\n",
      "\n",
      "\n",
      "ranking genes\n",
      "\n",
      "6755 pathways kept for hypergeometric test out of 6755, 0 filtered as less than 10 features was present in the data\n",
      "\n",
      "\n",
      "calculating features overlap\n",
      "\n",
      "\n",
      "performing hypergeometric test\n",
      "\n",
      "\n"
     ]
    },
    {
     "name": "stdout",
     "output_type": "stream",
     "text": [
      "Fold 4 : Train samples = 6755 , Test samples = 1689 Accuracy: 0.8531676 f1 score: 0.8665587 \n"
     ]
    },
    {
     "name": "stderr",
     "output_type": "stream",
     "text": [
      "Warning message:\n",
      "“Feature names cannot have underscores ('_'), replacing with dashes ('-')”\n",
      "Warning message:\n",
      "“Feature names cannot have underscores ('_'), replacing with dashes ('-')”\n",
      "Computing Fuzzy Matrix\n",
      "\n"
     ]
    },
    {
     "name": "stdout",
     "output_type": "stream",
     "text": [
      "0.72 sec elapsed\n"
     ]
    },
    {
     "name": "stderr",
     "output_type": "stream",
     "text": [
      "Computing SVD\n",
      "\n"
     ]
    },
    {
     "name": "stdout",
     "output_type": "stream",
     "text": [
      "9.052 sec elapsed\n"
     ]
    },
    {
     "name": "stderr",
     "output_type": "stream",
     "text": [
      "Computing Coordinates\n",
      "\n"
     ]
    },
    {
     "name": "stdout",
     "output_type": "stream",
     "text": [
      "0.279 sec elapsed\n"
     ]
    },
    {
     "name": "stderr",
     "output_type": "stream",
     "text": [
      "Warning message in asMethod(object):\n",
      "“sparse->dense coercion: allocating vector of size 1.0 GiB”\n",
      "Computing Fuzzy Matrix\n",
      "\n"
     ]
    },
    {
     "name": "stdout",
     "output_type": "stream",
     "text": [
      "4.134 sec elapsed\n"
     ]
    },
    {
     "name": "stderr",
     "output_type": "stream",
     "text": [
      "Computing SVD\n",
      "\n"
     ]
    },
    {
     "name": "stdout",
     "output_type": "stream",
     "text": [
      "29.92 sec elapsed\n"
     ]
    },
    {
     "name": "stderr",
     "output_type": "stream",
     "text": [
      "Computing Coordinates\n",
      "\n"
     ]
    },
    {
     "name": "stdout",
     "output_type": "stream",
     "text": [
      "1.918 sec elapsed\n"
     ]
    },
    {
     "name": "stderr",
     "output_type": "stream",
     "text": [
      "\n",
      "calculating distance\n",
      "\n",
      "\n",
      "\n",
      "creating ranking\n",
      "\n",
      "\n",
      "\n",
      "creating geneset\n",
      "\n",
      "\n",
      "\n",
      "creating ranking\n",
      "\n",
      "\n",
      "\n",
      "calculating distance\n",
      "\n",
      "\n",
      "ranking genes\n",
      "\n",
      "6756 pathways kept for hypergeometric test out of 6756, 0 filtered as less than 10 features was present in the data\n",
      "\n",
      "\n",
      "calculating features overlap\n",
      "\n",
      "\n",
      "performing hypergeometric test\n",
      "\n",
      "\n"
     ]
    },
    {
     "name": "stdout",
     "output_type": "stream",
     "text": [
      "Fold 5 : Train samples = 6756 , Test samples = 1688 Accuracy: 0.8299763 f1 score: 0.8615811 \n"
     ]
    }
   ],
   "source": [
    "library(Seurat)\n",
    "library(CelliD)\n",
    "library(tidyverse) # general purpose library for data handling\n",
    "library(ggpubr) #library for plotting\n",
    "\n",
    "set.seed(124)\n",
    "\n",
    "\n",
    "num_folds <- 5\n",
    "\n",
    "# Generate 5-fold cross-validation indices\n",
    "fold_indices <- split(sample(nrow(data)), 1:num_folds)\n",
    "\n",
    "# Perform 5-fold cross-validation\n",
    "for (i in 1:num_folds) {\n",
    "  # Get indices for the current fold\n",
    "  test_indices <- fold_indices[[i]]\n",
    "  train_indices <- unlist(fold_indices[-i])\n",
    "  \n",
    "  # Subset data and annotation based on indices\n",
    "  data_train <- data[train_indices, ]\n",
    "  anno_train <- annotation[train_indices, ]\n",
    "  \n",
    "  data_test <- data[test_indices, ]\n",
    "  anno_test <- annotation[test_indices, ]\n",
    "  \n",
    "  ref = CreateSeuratObject(counts = t(data_train))\n",
    "  ref <- NormalizeData(ref)\n",
    "  ref <- ScaleData(ref, verbose = FALSE)\n",
    "  ref =  FindVariableFeatures(ref, selection.method = \"vst\", nfeatures = 2000, verbose = FALSE)\n",
    "  ref <- RunPCA(ref, npcs = 30, verbose = FALSE)\n",
    "  ref <- RunUMAP(ref, reduction = \"pca\", dims = 1:30, verbose = FALSE)\n",
    "  \n",
    "  query = CreateSeuratObject(counts = t(data_test))\n",
    "  query <- NormalizeData(query)\n",
    "  query <- ScaleData(query, verbose = FALSE)\n",
    "  query =  FindVariableFeatures(query, selection.method = \"vst\", nfeatures = 2000, verbose = FALSE)\n",
    "  query <- RunPCA(query, npcs = 30, verbose = FALSE)\n",
    "  query <- RunUMAP(query, reduction = \"pca\", dims = 1:30, verbose = FALSE)\n",
    "  query <- RunMCA(query, nmcs = 50)\n",
    "\n",
    "  #cell match\n",
    "  ref=RunMCA(ref)\n",
    "  # Extracting per-cell gene signatures from the Baron dataset with CelliD(c)\n",
    "  ref_cell_gs <- GetCellGeneSet(ref, dims = 1:50, n.features = 200)\n",
    "\n",
    "  ref$celltype=anno_train$celltype\n",
    "\n",
    "\n",
    "  # Extracting per-group gene signatures from the Baron dataset with CelliD(g)\n",
    "  ref_group_gs <- GetGroupGeneSet(ref, dims = 1:50, n.features = 200, group.by = \"celltype\")\n",
    "  \n",
    "  \n",
    "  #query <- FindVariableFeatures(query)\n",
    "  #query <- ScaleData(query)\n",
    "  #query <- RunMCA(query, nmcs = 50)\n",
    "\n",
    "  #query <- RunPCA(query)\n",
    "  #query <- RunUMAP(query, dims = 1:30)\n",
    "  #query <- RunTSNE(query, dims = 1:30)\n",
    "  \n",
    "\n",
    "\n",
    "  HGT_ref_cell_gs <- RunCellHGT(query, pathways = ref_cell_gs, dims = 1:50)\n",
    "\n",
    "  ref_cell_gs_match <- rownames(HGT_ref_cell_gs)[apply(HGT_ref_cell_gs, 2, which.max)]\n",
    "  ref_cell_gs_prediction <- ref$celltype[ref_cell_gs_match]\n",
    "\n",
    "\n",
    "  predictions=extract_prediction_label(ref_cell_gs_prediction)\n",
    "  \n",
    "  acc=calculate_test_accuracy(anno_test$celltype,predictions)\n",
    "\n",
    "\n",
    "  f1_score = calculate_f1_score_multiclass(anno_test$celltype,predictions)\n",
    "\n",
    "\n",
    "  cat(\"Fold\", i, \": Train samples =\", nrow(data_train), \", Test samples =\", nrow(data_test), \"Accuracy:\", acc,\"f1 score:\",f1_score, \"\\n\")\n",
    "\n",
    "  \n",
    "  # Perform training and testing using data_train, anno_train, data_test, and anno_test\n",
    "}\n"
   ]
  },
  {
   "cell_type": "code",
   "execution_count": null,
   "metadata": {
    "vscode": {
     "languageId": "r"
    }
   },
   "outputs": [],
   "source": []
  }
 ],
 "metadata": {
  "kernelspec": {
   "display_name": "R",
   "language": "R",
   "name": "ir"
  },
  "language_info": {
   "codemirror_mode": "r",
   "file_extension": ".r",
   "mimetype": "text/x-r-source",
   "name": "R",
   "pygments_lexer": "r",
   "version": "4.2.2"
  },
  "orig_nbformat": 4
 },
 "nbformat": 4,
 "nbformat_minor": 2
}
