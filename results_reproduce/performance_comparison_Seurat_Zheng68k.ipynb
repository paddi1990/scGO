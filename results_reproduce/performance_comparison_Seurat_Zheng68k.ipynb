{
 "cells": [
  {
   "cell_type": "code",
   "execution_count": 1,
   "metadata": {
    "vscode": {
     "languageId": "r"
    }
   },
   "outputs": [],
   "source": [
    "#seurat cell type annotation, zheng68k\n",
    "#https://satijalab.org/seurat/articles/integration_mapping.html\n",
    "\n",
    "#split data to 4:1\n",
    "\n",
    "data=read.table(\"data/zheng68k/zheng68k.csv\",sep=\",\",header=T,row.names=1)\n",
    "\n"
   ]
  },
  {
   "cell_type": "code",
   "execution_count": 3,
   "metadata": {
    "vscode": {
     "languageId": "r"
    }
   },
   "outputs": [
    {
     "data": {
      "text/html": [
       "<table class=\"dataframe\">\n",
       "<caption>A data.frame: 6 × 4</caption>\n",
       "<thead>\n",
       "\t<tr><th></th><th scope=col>TSNE.1</th><th scope=col>TSNE.2</th><th scope=col>barcodes</th><th scope=col>celltype</th></tr>\n",
       "\t<tr><th></th><th scope=col>&lt;dbl&gt;</th><th scope=col>&lt;dbl&gt;</th><th scope=col>&lt;chr&gt;</th><th scope=col>&lt;chr&gt;</th></tr>\n",
       "</thead>\n",
       "<tbody>\n",
       "\t<tr><th scope=row>1</th><td>  7.565540</td><td>  0.4413703</td><td>AAACATACACCCAA-1</td><td>CD8+ Cytotoxic T            </td></tr>\n",
       "\t<tr><th scope=row>2</th><td>  2.552626</td><td>-25.7866723</td><td>AAACATACCCCTCA-1</td><td>CD8+/CD45RA+ Naive Cytotoxic</td></tr>\n",
       "\t<tr><th scope=row>3</th><td> -5.771831</td><td> 11.8308460</td><td>AAACATACCGGAGA-1</td><td>CD4+/CD45RO+ Memory         </td></tr>\n",
       "\t<tr><th scope=row>4</th><td>  1.762556</td><td> 25.9793459</td><td>AAACATACTAACCG-1</td><td>CD19+ B                     </td></tr>\n",
       "\t<tr><th scope=row>5</th><td>-16.793856</td><td>-16.5899699</td><td>AAACATACTCTTCA-1</td><td>CD4+/CD25 T Reg             </td></tr>\n",
       "\t<tr><th scope=row>6</th><td>-15.339791</td><td>-11.0882635</td><td>AAACATACTGGATC-1</td><td>CD4+/CD25 T Reg             </td></tr>\n",
       "</tbody>\n",
       "</table>\n"
      ],
      "text/latex": [
       "A data.frame: 6 × 4\n",
       "\\begin{tabular}{r|llll}\n",
       "  & TSNE.1 & TSNE.2 & barcodes & celltype\\\\\n",
       "  & <dbl> & <dbl> & <chr> & <chr>\\\\\n",
       "\\hline\n",
       "\t1 &   7.565540 &   0.4413703 & AAACATACACCCAA-1 & CD8+ Cytotoxic T            \\\\\n",
       "\t2 &   2.552626 & -25.7866723 & AAACATACCCCTCA-1 & CD8+/CD45RA+ Naive Cytotoxic\\\\\n",
       "\t3 &  -5.771831 &  11.8308460 & AAACATACCGGAGA-1 & CD4+/CD45RO+ Memory         \\\\\n",
       "\t4 &   1.762556 &  25.9793459 & AAACATACTAACCG-1 & CD19+ B                     \\\\\n",
       "\t5 & -16.793856 & -16.5899699 & AAACATACTCTTCA-1 & CD4+/CD25 T Reg             \\\\\n",
       "\t6 & -15.339791 & -11.0882635 & AAACATACTGGATC-1 & CD4+/CD25 T Reg             \\\\\n",
       "\\end{tabular}\n"
      ],
      "text/markdown": [
       "\n",
       "A data.frame: 6 × 4\n",
       "\n",
       "| <!--/--> | TSNE.1 &lt;dbl&gt; | TSNE.2 &lt;dbl&gt; | barcodes &lt;chr&gt; | celltype &lt;chr&gt; |\n",
       "|---|---|---|---|---|\n",
       "| 1 |   7.565540 |   0.4413703 | AAACATACACCCAA-1 | CD8+ Cytotoxic T             |\n",
       "| 2 |   2.552626 | -25.7866723 | AAACATACCCCTCA-1 | CD8+/CD45RA+ Naive Cytotoxic |\n",
       "| 3 |  -5.771831 |  11.8308460 | AAACATACCGGAGA-1 | CD4+/CD45RO+ Memory          |\n",
       "| 4 |   1.762556 |  25.9793459 | AAACATACTAACCG-1 | CD19+ B                      |\n",
       "| 5 | -16.793856 | -16.5899699 | AAACATACTCTTCA-1 | CD4+/CD25 T Reg              |\n",
       "| 6 | -15.339791 | -11.0882635 | AAACATACTGGATC-1 | CD4+/CD25 T Reg              |\n",
       "\n"
      ],
      "text/plain": [
       "  TSNE.1     TSNE.2      barcodes         celltype                    \n",
       "1   7.565540   0.4413703 AAACATACACCCAA-1 CD8+ Cytotoxic T            \n",
       "2   2.552626 -25.7866723 AAACATACCCCTCA-1 CD8+/CD45RA+ Naive Cytotoxic\n",
       "3  -5.771831  11.8308460 AAACATACCGGAGA-1 CD4+/CD45RO+ Memory         \n",
       "4   1.762556  25.9793459 AAACATACTAACCG-1 CD19+ B                     \n",
       "5 -16.793856 -16.5899699 AAACATACTCTTCA-1 CD4+/CD25 T Reg             \n",
       "6 -15.339791 -11.0882635 AAACATACTGGATC-1 CD4+/CD25 T Reg             "
      ]
     },
     "metadata": {},
     "output_type": "display_data"
    }
   ],
   "source": [
    "annotation=read.table(\"data/zheng68k/68k_pbmc_barcodes_annotation.tsv.txt\",header=TRUE,sep=\"\\t\")\n",
    "\n",
    "head(annotation)\n"
   ]
  },
  {
   "cell_type": "code",
   "execution_count": 4,
   "metadata": {
    "vscode": {
     "languageId": "r"
    }
   },
   "outputs": [],
   "source": [
    "data=data[1:10000,]\n",
    "annotation=annotation[1:10000,]"
   ]
  },
  {
   "cell_type": "code",
   "execution_count": 4,
   "metadata": {
    "vscode": {
     "languageId": "r"
    }
   },
   "outputs": [],
   "source": [
    "extract_prediction_label = function(x){\n",
    "    y=c()\n",
    "    for (i in x){\n",
    "        y=c(y,i)\n",
    "    }\n",
    "    y\n",
    "    return(y)\n",
    "}\n",
    "\n",
    "\n",
    "\n",
    "calculate_test_accuracy <- function(true_labels, predicted_labels) {\n",
    "  if (length(true_labels) != length(predicted_labels)) {\n",
    "    stop(\"Input vectors must have the same length.\")\n",
    "  }\n",
    "  \n",
    "  correct_predictions <- sum(true_labels == predicted_labels)\n",
    "  total_samples <- length(true_labels)\n",
    "  \n",
    "  accuracy <- correct_predictions / total_samples\n",
    "  return(accuracy)\n",
    "}\n",
    "\n",
    "\n",
    "calculate_f1_score_multiclass <- function(true_labels, predicted_labels) {\n",
    "  if (length(true_labels) != length(predicted_labels)) {\n",
    "    stop(\"Input vectors must have the same length.\")\n",
    "  }\n",
    "  \n",
    "  # Get unique class labels\n",
    "  classes <- unique(c(true_labels, predicted_labels))\n",
    "  \n",
    "  # Initialize variables to store per-class statistics\n",
    "  precision <- numeric(length(classes))\n",
    "  recall <- numeric(length(classes))\n",
    "  f1_score <- numeric(length(classes))\n",
    "  \n",
    "  # Calculate precision, recall, and F1 score for each class\n",
    "  for (i in 1:length(classes)) {\n",
    "    class_label <- classes[i]\n",
    "    true_positive <- sum(predicted_labels == class_label & true_labels == class_label)\n",
    "    false_positive <- sum(predicted_labels == class_label & true_labels != class_label)\n",
    "    false_negative <- sum(predicted_labels != class_label & true_labels == class_label)\n",
    "    \n",
    "    precision[i] <- true_positive / (true_positive + false_positive)\n",
    "    recall[i] <- true_positive / (true_positive + false_negative)\n",
    "    \n",
    "    f1_score[i] <- 2 * (precision[i] * recall[i]) / (precision[i] + recall[i])\n",
    "  }\n",
    "  \n",
    "  # Calculate macro-averaged F1 score\n",
    "  macro_f1_score <- mean(f1_score, na.rm = TRUE)\n",
    "  \n",
    "  return(macro_f1_score)\n",
    "}\n",
    "\n",
    "\n"
   ]
  },
  {
   "cell_type": "code",
   "execution_count": 5,
   "metadata": {
    "vscode": {
     "languageId": "r"
    }
   },
   "outputs": [
    {
     "name": "stderr",
     "output_type": "stream",
     "text": [
      "Attaching SeuratObject\n",
      "\n",
      "Warning message in split.default(sample(nrow(data)), 1:num_folds):\n",
      "“data length is not a multiple of split variable”\n",
      "Warning message:\n",
      "“Feature names cannot have underscores ('_'), replacing with dashes ('-')”\n",
      "Warning message:\n",
      "“The default method for RunUMAP has changed from calling Python UMAP via reticulate to the R-native UWOT using the cosine metric\n",
      "To use Python UMAP via reticulate, set umap.method to 'umap-learn' and metric to 'correlation'\n",
      "This message will be shown once per session”\n",
      "Warning message:\n",
      "“Feature names cannot have underscores ('_'), replacing with dashes ('-')”\n",
      "Projecting cell embeddings\n",
      "\n",
      "Finding neighborhoods\n",
      "\n",
      "Finding anchors\n",
      "\n",
      "\tFound 39279 anchors\n",
      "\n",
      "Filtering anchors\n",
      "\n",
      "\tRetained 9339 anchors\n",
      "\n",
      "Finding integration vectors\n",
      "\n",
      "Finding integration vector weights\n",
      "\n",
      "Predicting cell labels\n",
      "\n"
     ]
    },
    {
     "name": "stdout",
     "output_type": "stream",
     "text": [
      "Fold 1 : Train samples = 54863 , Test samples = 13716 Accuracy: 0.6560951 f1 score: 0.657397 \n"
     ]
    },
    {
     "name": "stderr",
     "output_type": "stream",
     "text": [
      "Warning message:\n",
      "“Feature names cannot have underscores ('_'), replacing with dashes ('-')”\n",
      "Warning message:\n",
      "“Feature names cannot have underscores ('_'), replacing with dashes ('-')”\n",
      "Projecting cell embeddings\n",
      "\n",
      "Finding neighborhoods\n",
      "\n",
      "Finding anchors\n",
      "\n",
      "\tFound 39542 anchors\n",
      "\n",
      "Filtering anchors\n",
      "\n",
      "\tRetained 9593 anchors\n",
      "\n",
      "Finding integration vectors\n",
      "\n",
      "Finding integration vector weights\n",
      "\n",
      "Predicting cell labels\n",
      "\n"
     ]
    },
    {
     "name": "stdout",
     "output_type": "stream",
     "text": [
      "Fold 2 : Train samples = 54863 , Test samples = 13716 Accuracy: 0.6508457 f1 score: 0.5947865 \n"
     ]
    },
    {
     "name": "stderr",
     "output_type": "stream",
     "text": [
      "Warning message:\n",
      "“Feature names cannot have underscores ('_'), replacing with dashes ('-')”\n",
      "Warning message:\n",
      "“Feature names cannot have underscores ('_'), replacing with dashes ('-')”\n",
      "Projecting cell embeddings\n",
      "\n",
      "Finding neighborhoods\n",
      "\n",
      "Finding anchors\n",
      "\n",
      "\tFound 39278 anchors\n",
      "\n",
      "Filtering anchors\n",
      "\n",
      "\tRetained 9504 anchors\n",
      "\n",
      "Finding integration vectors\n",
      "\n",
      "Finding integration vector weights\n",
      "\n",
      "Predicting cell labels\n",
      "\n"
     ]
    },
    {
     "name": "stdout",
     "output_type": "stream",
     "text": [
      "Fold 3 : Train samples = 54863 , Test samples = 13716 Accuracy: 0.6546369 f1 score: 0.66632 \n"
     ]
    },
    {
     "name": "stderr",
     "output_type": "stream",
     "text": [
      "Warning message:\n",
      "“Feature names cannot have underscores ('_'), replacing with dashes ('-')”\n",
      "Warning message:\n",
      "“Feature names cannot have underscores ('_'), replacing with dashes ('-')”\n",
      "Projecting cell embeddings\n",
      "\n",
      "Finding neighborhoods\n",
      "\n",
      "Finding anchors\n",
      "\n",
      "\tFound 39545 anchors\n",
      "\n",
      "Filtering anchors\n",
      "\n",
      "\tRetained 9361 anchors\n",
      "\n",
      "Finding integration vectors\n",
      "\n",
      "Finding integration vector weights\n",
      "\n",
      "Predicting cell labels\n",
      "\n"
     ]
    },
    {
     "name": "stdout",
     "output_type": "stream",
     "text": [
      "Fold 4 : Train samples = 54863 , Test samples = 13716 Accuracy: 0.664844 f1 score: 0.5986189 \n"
     ]
    },
    {
     "name": "stderr",
     "output_type": "stream",
     "text": [
      "Warning message:\n",
      "“Feature names cannot have underscores ('_'), replacing with dashes ('-')”\n",
      "Warning message:\n",
      "“Feature names cannot have underscores ('_'), replacing with dashes ('-')”\n",
      "Projecting cell embeddings\n",
      "\n",
      "Finding neighborhoods\n",
      "\n",
      "Finding anchors\n",
      "\n",
      "\tFound 39549 anchors\n",
      "\n",
      "Filtering anchors\n",
      "\n",
      "\tRetained 9502 anchors\n",
      "\n",
      "Finding integration vectors\n",
      "\n",
      "Finding integration vector weights\n",
      "\n",
      "Predicting cell labels\n",
      "\n"
     ]
    },
    {
     "name": "stdout",
     "output_type": "stream",
     "text": [
      "Fold 5 : Train samples = 54864 , Test samples = 13715 Accuracy: 0.6623405 f1 score: 0.598051 \n"
     ]
    }
   ],
   "source": [
    "library(Seurat)\n",
    "\n",
    "set.seed(124)\n",
    "\n",
    "\n",
    "num_folds <- 5\n",
    "\n",
    "# Generate 5-fold cross-validation indices\n",
    "fold_indices <- split(sample(nrow(data)), 1:num_folds)\n",
    "\n",
    "# Perform 5-fold cross-validation\n",
    "for (i in 1:num_folds) {\n",
    "  # Get indices for the current fold\n",
    "  test_indices <- fold_indices[[i]]\n",
    "  train_indices <- unlist(fold_indices[-i])\n",
    "  \n",
    "  # Subset data and annotation based on indices\n",
    "  data_train <- data[train_indices, ]\n",
    "  anno_train <- annotation[train_indices, ]\n",
    "  \n",
    "  data_test <- data[test_indices, ]\n",
    "  anno_test <- annotation[test_indices, ]\n",
    "  \n",
    "    \n",
    "  ref = CreateSeuratObject(counts = t(data_train))\n",
    "  ref <- ScaleData(ref, verbose = FALSE)\n",
    "  ref =  FindVariableFeatures(ref, selection.method = \"vst\", nfeatures = 2000, verbose = FALSE)\n",
    "  ref <- RunPCA(ref, npcs = 30, verbose = FALSE)\n",
    "  ref <- RunUMAP(ref, reduction = \"pca\", dims = 1:30, verbose = FALSE)\n",
    "\n",
    "  query = CreateSeuratObject(counts = t(data_test))\n",
    "  query <- ScaleData(query, verbose = FALSE)\n",
    "  query =  FindVariableFeatures(query, selection.method = \"vst\", nfeatures = 2000, verbose = FALSE)\n",
    "  query <- RunPCA(query, npcs = 30, verbose = FALSE)\n",
    "  query <- RunUMAP(query, reduction = \"pca\", dims = 1:30, verbose = FALSE)\n",
    "\n",
    "  ref$celltype=anno_train$celltype\n",
    "  query$celltype=anno_test$celltype\n",
    "\n",
    "\n",
    "  ref.anchors <- FindTransferAnchors(reference = ref, query = query, dims = 1:30, reference.reduction = \"pca\")\n",
    "  predictions <- TransferData(anchorset = ref.anchors, refdata = ref$celltype,\n",
    "      dims = 1:30)\n",
    "  query <- AddMetaData(query, metadata = predictions)\n",
    "  \n",
    "  predictions = query$predicted.id\n",
    "\n",
    "\n",
    "\n",
    "  acc=calculate_test_accuracy(anno_test$celltype,predictions)\n",
    "\n",
    "\n",
    "  f1_score = calculate_f1_score_multiclass(anno_test$celltype,predictions)\n",
    "\n",
    "\n",
    "  cat(\"Fold\", i, \": Train samples =\", nrow(data_train), \", Test samples =\", nrow(data_test), \"Accuracy:\", acc,\"f1 score:\",f1_score, \"\\n\")\n",
    "\n",
    "  \n",
    "  # Perform training and testing using data_train, anno_train, data_test, and anno_test\n",
    "}\n"
   ]
  },
  {
   "cell_type": "code",
   "execution_count": null,
   "metadata": {
    "vscode": {
     "languageId": "r"
    }
   },
   "outputs": [],
   "source": []
  },
  {
   "cell_type": "code",
   "execution_count": null,
   "metadata": {
    "vscode": {
     "languageId": "r"
    }
   },
   "outputs": [],
   "source": []
  },
  {
   "cell_type": "code",
   "execution_count": null,
   "metadata": {
    "vscode": {
     "languageId": "r"
    }
   },
   "outputs": [],
   "source": []
  },
  {
   "cell_type": "code",
   "execution_count": null,
   "metadata": {
    "vscode": {
     "languageId": "r"
    }
   },
   "outputs": [],
   "source": []
  },
  {
   "cell_type": "code",
   "execution_count": null,
   "metadata": {
    "vscode": {
     "languageId": "r"
    }
   },
   "outputs": [],
   "source": []
  },
  {
   "cell_type": "code",
   "execution_count": null,
   "metadata": {
    "vscode": {
     "languageId": "r"
    }
   },
   "outputs": [],
   "source": []
  },
  {
   "cell_type": "code",
   "execution_count": 27,
   "metadata": {
    "vscode": {
     "languageId": "r"
    }
   },
   "outputs": [],
   "source": [
    "set.seed(123)\n",
    "train <- sample(1:nrow(data), 0.999*nrow(data))\n",
    "test <- setdiff(1:nrow(data), train)\n",
    "\n",
    "#train\n",
    "data_train <- data[train,]\n",
    "anno_train <- annotation[train,]\n",
    "\n",
    "#test\n",
    "data_test <- data[test,]\n",
    "anno_test <- annotation[test,]"
   ]
  },
  {
   "cell_type": "code",
   "execution_count": 28,
   "metadata": {
    "vscode": {
     "languageId": "r"
    }
   },
   "outputs": [
    {
     "name": "stderr",
     "output_type": "stream",
     "text": [
      "Warning message:\n",
      "“Feature names cannot have underscores ('_'), replacing with dashes ('-')”\n"
     ]
    }
   ],
   "source": [
    "library(Seurat)\n",
    " \n",
    "ref = CreateSeuratObject(counts = t(data_train))\n",
    "\n",
    "ref <- ScaleData(ref, verbose = FALSE)\n",
    "ref =  FindVariableFeatures(ref, selection.method = \"vst\", nfeatures = 2000, verbose = FALSE)\n",
    "\n",
    "ref <- RunPCA(ref, npcs = 30, verbose = FALSE)\n",
    "ref <- RunUMAP(ref, reduction = \"pca\", dims = 1:30, verbose = FALSE)"
   ]
  },
  {
   "cell_type": "code",
   "execution_count": 30,
   "metadata": {
    "vscode": {
     "languageId": "r"
    }
   },
   "outputs": [
    {
     "name": "stderr",
     "output_type": "stream",
     "text": [
      "Warning message:\n",
      "“Feature names cannot have underscores ('_'), replacing with dashes ('-')”\n",
      "Warning message in simpleLoess(y, x, w, span, degree = degree, parametric = parametric, :\n",
      "“at  -1.8561”\n",
      "Warning message in simpleLoess(y, x, w, span, degree = degree, parametric = parametric, :\n",
      "“radius  0.00029837”\n",
      "Warning message in simpleLoess(y, x, w, span, degree = degree, parametric = parametric, :\n",
      "“all data on boundary of neighborhood. make span bigger”\n",
      "Warning message in simpleLoess(y, x, w, span, degree = degree, parametric = parametric, :\n",
      "“pseudoinverse used at -1.8561”\n",
      "Warning message in simpleLoess(y, x, w, span, degree = degree, parametric = parametric, :\n",
      "“neighborhood radius 0.017273”\n",
      "Warning message in simpleLoess(y, x, w, span, degree = degree, parametric = parametric, :\n",
      "“reciprocal condition number  1”\n",
      "Warning message in simpleLoess(y, x, w, span, degree = degree, parametric = parametric, :\n",
      "“There are other near singularities as well. 0.090619”\n",
      "Warning message in simpleLoess(y, x, w, span, degree = degree, parametric = parametric, :\n",
      "“zero-width neighborhood. make span bigger”\n"
     ]
    }
   ],
   "source": [
    "query = CreateSeuratObject(counts = t(data_test))\n",
    "\n",
    "query <- ScaleData(query, verbose = FALSE)\n",
    "query =  FindVariableFeatures(query, selection.method = \"vst\", nfeatures = 2000, verbose = FALSE)\n",
    "\n",
    "query <- RunPCA(query, npcs = 30, verbose = FALSE)\n",
    "query <- RunUMAP(query, reduction = \"pca\", dims = 1:30, verbose = FALSE)\n"
   ]
  },
  {
   "cell_type": "code",
   "execution_count": 31,
   "metadata": {
    "vscode": {
     "languageId": "r"
    }
   },
   "outputs": [],
   "source": [
    "ref$celltype=anno_train$celltype\n",
    "query$celltype=anno_test$celltype"
   ]
  },
  {
   "cell_type": "code",
   "execution_count": 32,
   "metadata": {
    "vscode": {
     "languageId": "r"
    }
   },
   "outputs": [
    {
     "name": "stderr",
     "output_type": "stream",
     "text": [
      "Warning message:\n",
      "“k.filter is larger than the number of cells present in the query.\n",
      "Continuing without anchor filtering.”\n"
     ]
    },
    {
     "name": "stderr",
     "output_type": "stream",
     "text": [
      "Projecting cell embeddings\n",
      "\n",
      "Finding neighborhoods\n",
      "\n",
      "Finding anchors\n",
      "\n",
      "\tFound 345 anchors\n",
      "\n",
      "Finding integration vectors\n",
      "\n",
      "Finding integration vector weights\n",
      "\n",
      "Predicting cell labels\n",
      "\n"
     ]
    }
   ],
   "source": [
    "ref.anchors <- FindTransferAnchors(reference = ref, query = query, dims = 1:30, reference.reduction = \"pca\")\n",
    "predictions <- TransferData(anchorset = ref.anchors, refdata = ref$celltype,\n",
    "    dims = 1:30)\n",
    "query <- AddMetaData(query, metadata = predictions)"
   ]
  },
  {
   "cell_type": "code",
   "execution_count": 37,
   "metadata": {
    "vscode": {
     "languageId": "r"
    }
   },
   "outputs": [
    {
     "name": "stdout",
     "output_type": "stream",
     "text": [
      "\n",
      "FALSE  TRUE \n",
      "   28    41 \n"
     ]
    },
    {
     "data": {
      "text/html": [
       "1"
      ],
      "text/latex": [
       "1"
      ],
      "text/markdown": [
       "1"
      ],
      "text/plain": [
       "[1] 1"
      ]
     },
     "metadata": {},
     "output_type": "display_data"
    }
   ],
   "source": [
    "a=1\n",
    "query$prediction.match <- query$predicted.id == query$celltype\n",
    "print(table(query$prediction.match))\n",
    "a"
   ]
  },
  {
   "cell_type": "code",
   "execution_count": null,
   "metadata": {
    "vscode": {
     "languageId": "r"
    }
   },
   "outputs": [],
   "source": []
  },
  {
   "cell_type": "code",
   "execution_count": 40,
   "metadata": {
    "vscode": {
     "languageId": "r"
    }
   },
   "outputs": [
    {
     "name": "stderr",
     "output_type": "stream",
     "text": [
      "Warning message in split.default(sample(nrow(data)), 1:num_folds):\n",
      "“data length is not a multiple of split variable”\n"
     ]
    },
    {
     "name": "stderr",
     "output_type": "stream",
     "text": [
      "Warning message:\n",
      "“Feature names cannot have underscores ('_'), replacing with dashes ('-')”\n",
      "Warning message:\n",
      "“Feature names cannot have underscores ('_'), replacing with dashes ('-')”\n",
      "Warning message in simpleLoess(y, x, w, span, degree = degree, parametric = parametric, :\n",
      "“pseudoinverse used at -2.8585”\n",
      "Warning message in simpleLoess(y, x, w, span, degree = degree, parametric = parametric, :\n",
      "“neighborhood radius 0.49932”\n",
      "Warning message in simpleLoess(y, x, w, span, degree = degree, parametric = parametric, :\n",
      "“reciprocal condition number  5.704e-16”\n",
      "Warning message in simpleLoess(y, x, w, span, degree = degree, parametric = parametric, :\n",
      "“There are other near singularities as well. 0.090619”\n",
      "Projecting cell embeddings\n",
      "\n",
      "Finding neighborhoods\n",
      "\n",
      "Finding anchors\n",
      "\n",
      "\tFound 3289 anchors\n",
      "\n",
      "Filtering anchors\n",
      "\n",
      "\tRetained 2583 anchors\n",
      "\n",
      "Finding integration vectors\n",
      "\n",
      "Finding integration vector weights\n",
      "\n",
      "Predicting cell labels\n",
      "\n"
     ]
    },
    {
     "name": "stdout",
     "output_type": "stream",
     "text": [
      "\n",
      "FALSE  TRUE \n",
      "  219   467 \n",
      "Fold 1 : Train samples = 67893 , Test samples = 686 \n"
     ]
    },
    {
     "name": "stderr",
     "output_type": "stream",
     "text": [
      "Warning message:\n",
      "“Feature names cannot have underscores ('_'), replacing with dashes ('-')”\n",
      "Warning message:\n",
      "“Feature names cannot have underscores ('_'), replacing with dashes ('-')”\n",
      "Warning message in simpleLoess(y, x, w, span, degree = degree, parametric = parametric, :\n",
      "“pseudoinverse used at -2.8585”\n",
      "Warning message in simpleLoess(y, x, w, span, degree = degree, parametric = parametric, :\n",
      "“neighborhood radius 0.49931”\n",
      "Warning message in simpleLoess(y, x, w, span, degree = degree, parametric = parametric, :\n",
      "“reciprocal condition number  4.7026e-16”\n",
      "Warning message in simpleLoess(y, x, w, span, degree = degree, parametric = parametric, :\n",
      "“There are other near singularities as well. 0.090619”\n",
      "Projecting cell embeddings\n",
      "\n",
      "Finding neighborhoods\n",
      "\n",
      "Finding anchors\n",
      "\n",
      "\tFound 3313 anchors\n",
      "\n",
      "Filtering anchors\n",
      "\n",
      "\tRetained 2649 anchors\n",
      "\n",
      "Finding integration vectors\n",
      "\n",
      "Finding integration vector weights\n",
      "\n",
      "Predicting cell labels\n",
      "\n"
     ]
    },
    {
     "name": "stdout",
     "output_type": "stream",
     "text": [
      "\n",
      "FALSE  TRUE \n",
      "  238   448 \n",
      "Fold 2 : Train samples = 67893 , Test samples = 686 \n"
     ]
    },
    {
     "name": "stderr",
     "output_type": "stream",
     "text": [
      "Warning message:\n",
      "“Feature names cannot have underscores ('_'), replacing with dashes ('-')”\n",
      "Warning message:\n",
      "“Feature names cannot have underscores ('_'), replacing with dashes ('-')”\n",
      "Warning message in simpleLoess(y, x, w, span, degree = degree, parametric = parametric, :\n",
      "“pseudoinverse used at -2.5353”\n",
      "Warning message in simpleLoess(y, x, w, span, degree = degree, parametric = parametric, :\n",
      "“neighborhood radius 0.30103”\n",
      "Warning message in simpleLoess(y, x, w, span, degree = degree, parametric = parametric, :\n",
      "“reciprocal condition number  2.567e-16”\n",
      "Projecting cell embeddings\n",
      "\n",
      "Finding neighborhoods\n",
      "\n",
      "Finding anchors\n",
      "\n",
      "\tFound 3297 anchors\n",
      "\n",
      "Filtering anchors\n",
      "\n",
      "\tRetained 2591 anchors\n",
      "\n",
      "Finding integration vectors\n",
      "\n",
      "Finding integration vector weights\n",
      "\n",
      "Predicting cell labels\n",
      "\n"
     ]
    },
    {
     "name": "stdout",
     "output_type": "stream",
     "text": [
      "\n",
      "FALSE  TRUE \n",
      "  251   435 \n",
      "Fold 3 : Train samples = 67893 , Test samples = 686 \n"
     ]
    },
    {
     "name": "stderr",
     "output_type": "stream",
     "text": [
      "Warning message:\n",
      "“Feature names cannot have underscores ('_'), replacing with dashes ('-')”\n",
      "Warning message:\n",
      "“Feature names cannot have underscores ('_'), replacing with dashes ('-')”\n",
      "Warning message in simpleLoess(y, x, w, span, degree = degree, parametric = parametric, :\n",
      "“pseudoinverse used at -2.5353”\n",
      "Warning message in simpleLoess(y, x, w, span, degree = degree, parametric = parametric, :\n",
      "“neighborhood radius 0.30103”\n",
      "Warning message in simpleLoess(y, x, w, span, degree = degree, parametric = parametric, :\n",
      "“reciprocal condition number  1.4552e-16”\n",
      "Projecting cell embeddings\n",
      "\n",
      "Finding neighborhoods\n",
      "\n",
      "Finding anchors\n",
      "\n",
      "\tFound 3323 anchors\n",
      "\n",
      "Filtering anchors\n",
      "\n",
      "\tRetained 2649 anchors\n",
      "\n",
      "Finding integration vectors\n",
      "\n",
      "Finding integration vector weights\n",
      "\n",
      "Predicting cell labels\n",
      "\n"
     ]
    },
    {
     "name": "stdout",
     "output_type": "stream",
     "text": [
      "\n",
      "FALSE  TRUE \n",
      "  233   453 \n",
      "Fold 4 : Train samples = 67893 , Test samples = 686 \n"
     ]
    },
    {
     "name": "stderr",
     "output_type": "stream",
     "text": [
      "Warning message:\n",
      "“Feature names cannot have underscores ('_'), replacing with dashes ('-')”\n",
      "Warning message:\n",
      "“Feature names cannot have underscores ('_'), replacing with dashes ('-')”\n",
      "Warning message in simpleLoess(y, x, w, span, degree = degree, parametric = parametric, :\n",
      "“pseudoinverse used at -2.8585”\n",
      "Warning message in simpleLoess(y, x, w, span, degree = degree, parametric = parametric, :\n",
      "“neighborhood radius 0.4993”\n",
      "Warning message in simpleLoess(y, x, w, span, degree = degree, parametric = parametric, :\n",
      "“reciprocal condition number  7.2207e-16”\n",
      "Warning message in simpleLoess(y, x, w, span, degree = degree, parametric = parametric, :\n",
      "“There are other near singularities as well. 0.090619”\n",
      "Projecting cell embeddings\n",
      "\n",
      "Finding neighborhoods\n",
      "\n",
      "Finding anchors\n",
      "\n",
      "\tFound 3278 anchors\n",
      "\n",
      "Filtering anchors\n",
      "\n",
      "\tRetained 2562 anchors\n",
      "\n",
      "Finding integration vectors\n",
      "\n",
      "Finding integration vector weights\n",
      "\n",
      "Predicting cell labels\n",
      "\n"
     ]
    },
    {
     "name": "stdout",
     "output_type": "stream",
     "text": [
      "\n",
      "FALSE  TRUE \n",
      "  247   439 \n",
      "Fold 5 : Train samples = 67893 , Test samples = 686 \n"
     ]
    },
    {
     "name": "stderr",
     "output_type": "stream",
     "text": [
      "Warning message:\n",
      "“Feature names cannot have underscores ('_'), replacing with dashes ('-')”\n",
      "Warning message:\n",
      "“Feature names cannot have underscores ('_'), replacing with dashes ('-')”\n",
      "Warning message in simpleLoess(y, x, w, span, degree = degree, parametric = parametric, :\n",
      "“pseudoinverse used at -2.8585”\n",
      "Warning message in simpleLoess(y, x, w, span, degree = degree, parametric = parametric, :\n",
      "“neighborhood radius 0.49934”\n",
      "Warning message in simpleLoess(y, x, w, span, degree = degree, parametric = parametric, :\n",
      "“reciprocal condition number  5.7692e-16”\n",
      "Warning message in simpleLoess(y, x, w, span, degree = degree, parametric = parametric, :\n",
      "“There are other near singularities as well. 0.090619”\n",
      "Projecting cell embeddings\n",
      "\n",
      "Finding neighborhoods\n",
      "\n",
      "Finding anchors\n",
      "\n",
      "\tFound 3329 anchors\n",
      "\n",
      "Filtering anchors\n",
      "\n"
     ]
    }
   ],
   "source": [
    "library(Seurat)\n",
    "set.seed(123)\n",
    "\n",
    "# Number of folds\n",
    "num_folds <- 100\n",
    "\n",
    "# Generate 5-fold cross-validation indices\n",
    "fold_indices <- split(sample(nrow(data)), 1:num_folds)\n",
    "\n",
    "# Perform 5-fold cross-validation\n",
    "for (i in 1:num_folds) {\n",
    "  # Get indices for the current fold\n",
    "  test_indices <- fold_indices[[i]]\n",
    "  train_indices <- unlist(fold_indices[-i])\n",
    "  \n",
    "  # Subset data and annotation based on indices\n",
    "  data_train <- data[train_indices, ]\n",
    "  anno_train <- annotation[train_indices, ]\n",
    "  \n",
    "  data_test <- data[test_indices, ]\n",
    "  anno_test <- annotation[test_indices, ]\n",
    "  \n",
    "  \n",
    "  ref = CreateSeuratObject(counts = t(data_train))\n",
    "  ref <- ScaleData(ref, verbose = FALSE)\n",
    "  ref =  FindVariableFeatures(ref, selection.method = \"vst\", nfeatures = 2000, verbose = FALSE)\n",
    "  ref <- RunPCA(ref, npcs = 30, verbose = FALSE)\n",
    "  ref <- RunUMAP(ref, reduction = \"pca\", dims = 1:30, verbose = FALSE)\n",
    "\n",
    "  query = CreateSeuratObject(counts = t(data_test))\n",
    "  query <- ScaleData(query, verbose = FALSE)\n",
    "  query =  FindVariableFeatures(query, selection.method = \"vst\", nfeatures = 2000, verbose = FALSE)\n",
    "  query <- RunPCA(query, npcs = 30, verbose = FALSE)\n",
    "  query <- RunUMAP(query, reduction = \"pca\", dims = 1:30, verbose = FALSE)\n",
    "  \n",
    "  ref$celltype=anno_train$celltype\n",
    "  query$celltype=anno_test$celltype\n",
    "\n",
    "  ref.anchors <- FindTransferAnchors(reference = ref, query = query, dims = 1:30, reference.reduction = \"pca\")\n",
    "  predictions <- TransferData(anchorset = ref.anchors, refdata = ref$celltype,dims = 1:30)\n",
    "  query <- AddMetaData(query, metadata = predictions)\n",
    "\n",
    "  query$prediction.match <- query$predicted.id == query$celltype\n",
    "  print(table(query$prediction.match))\n",
    "\n",
    "  cat(\"Fold\", i, \": Train samples =\", nrow(data_train), \", Test samples =\", nrow(data_test), \"\\n\")\n",
    "\n",
    "  \n",
    "  # Perform training and testing using data_train, anno_train, data_test, and anno_test\n",
    "}\n"
   ]
  },
  {
   "cell_type": "code",
   "execution_count": 26,
   "metadata": {
    "vscode": {
     "languageId": "r"
    }
   },
   "outputs": [
    {
     "ename": "ERROR",
     "evalue": "Error: Cannot find 'prediction.match' in this Seurat object\n",
     "output_type": "error",
     "traceback": [
      "Error: Cannot find 'prediction.match' in this Seurat object\nTraceback:\n",
      "1. query$prediction.match",
      "2. `$.Seurat`(query, prediction.match)",
      "3. x[[i, drop = TRUE]]",
      "4. `[[.Seurat`(x, i, drop = TRUE)",
      "5. stop(\"Cannot find '\", i, \"' in this Seurat object\", call. = FALSE)"
     ]
    }
   ],
   "source": [
    "query$prediction.match"
   ]
  },
  {
   "cell_type": "code",
   "execution_count": null,
   "metadata": {
    "vscode": {
     "languageId": "r"
    }
   },
   "outputs": [],
   "source": []
  },
  {
   "cell_type": "code",
   "execution_count": null,
   "metadata": {
    "vscode": {
     "languageId": "r"
    }
   },
   "outputs": [],
   "source": []
  },
  {
   "cell_type": "code",
   "execution_count": null,
   "metadata": {
    "vscode": {
     "languageId": "r"
    }
   },
   "outputs": [],
   "source": []
  },
  {
   "cell_type": "code",
   "execution_count": null,
   "metadata": {
    "vscode": {
     "languageId": "r"
    }
   },
   "outputs": [],
   "source": []
  },
  {
   "cell_type": "code",
   "execution_count": null,
   "metadata": {
    "vscode": {
     "languageId": "r"
    }
   },
   "outputs": [],
   "source": []
  },
  {
   "cell_type": "code",
   "execution_count": null,
   "metadata": {
    "vscode": {
     "languageId": "r"
    }
   },
   "outputs": [],
   "source": []
  },
  {
   "cell_type": "code",
   "execution_count": 5,
   "metadata": {
    "vscode": {
     "languageId": "r"
    }
   },
   "outputs": [
    {
     "name": "stderr",
     "output_type": "stream",
     "text": [
      "── \u001b[1mInstalled datasets\u001b[22m ───────────────────────────────────── SeuratData v0.2.2 ──\n",
      "\n",
      "\u001b[32m✔\u001b[39m \u001b[34mifnb        \u001b[39m 3.1.0                    \u001b[32m✔\u001b[39m \u001b[34mpbmc3k      \u001b[39m 3.1.4\n",
      "\u001b[32m✔\u001b[39m \u001b[34mpanc8       \u001b[39m 3.0.2                    \u001b[32m✔\u001b[39m \u001b[34mpbmcMultiome\u001b[39m 0.1.4\n",
      "\n",
      "\n",
      "────────────────────────────────────── Key ─────────────────────────────────────\n",
      "\n",
      "\u001b[32m✔\u001b[39m Dataset loaded successfully\n",
      "\u001b[33m❯\u001b[39m Dataset built with a newer version of Seurat than installed\n",
      "\u001b[31m❓\u001b[39m Unknown version of Seurat installed\n",
      "\n",
      "\n"
     ]
    }
   ],
   "source": [
    "library(Seurat)\n",
    "library(SeuratData)\n",
    "\n"
   ]
  },
  {
   "cell_type": "code",
   "execution_count": 41,
   "metadata": {
    "vscode": {
     "languageId": "r"
    }
   },
   "outputs": [],
   "source": [
    "data(\"pbmc3k\")"
   ]
  },
  {
   "cell_type": "code",
   "execution_count": 47,
   "metadata": {
    "vscode": {
     "languageId": "r"
    }
   },
   "outputs": [],
   "source": [
    "pbmc3k = NormalizeData(pbmc3k,verbose=FALSE)\n",
    "\n",
    "pbmc3k = FindVariableFeatures(pbmc3k, selection.method = \"vst\", nfeatures = 2000,        verbose = FALSE)"
   ]
  },
  {
   "cell_type": "code",
   "execution_count": null,
   "metadata": {
    "vscode": {
     "languageId": "r"
    }
   },
   "outputs": [],
   "source": []
  },
  {
   "cell_type": "code",
   "execution_count": 6,
   "metadata": {
    "vscode": {
     "languageId": "r"
    }
   },
   "outputs": [],
   "source": [
    "data(\"panc8\")\n",
    "pancreas.list <- SplitObject(panc8, split.by = \"tech\")\n",
    "pancreas.list <- pancreas.list[c(\"celseq\", \"celseq2\", \"fluidigmc1\", \"smartseq2\")]"
   ]
  },
  {
   "cell_type": "code",
   "execution_count": 7,
   "metadata": {
    "vscode": {
     "languageId": "r"
    }
   },
   "outputs": [],
   "source": [
    "for (i in 1:length(pancreas.list)) {\n",
    "    pancreas.list[[i]] <- NormalizeData(pancreas.list[[i]], verbose = FALSE)\n",
    "    pancreas.list[[i]] <- FindVariableFeatures(pancreas.list[[i]], selection.method = \"vst\", nfeatures = 2000,\n",
    "        verbose = FALSE)\n",
    "}"
   ]
  },
  {
   "cell_type": "code",
   "execution_count": 9,
   "metadata": {
    "vscode": {
     "languageId": "r"
    }
   },
   "outputs": [
    {
     "name": "stderr",
     "output_type": "stream",
     "text": [
      "Computing 2000 integration features\n",
      "\n",
      "Scaling features for provided objects\n",
      "\n",
      "Finding all pairwise anchors\n",
      "\n",
      "Running CCA\n",
      "\n",
      "Merging objects\n",
      "\n",
      "Finding neighborhoods\n",
      "\n",
      "Finding anchors\n",
      "\n",
      "\tFound 3514 anchors\n",
      "\n",
      "Filtering anchors\n",
      "\n",
      "\tRetained 2753 anchors\n",
      "\n",
      "Running CCA\n",
      "\n",
      "Merging objects\n",
      "\n",
      "Finding neighborhoods\n",
      "\n",
      "Finding anchors\n",
      "\n",
      "\tFound 3499 anchors\n",
      "\n",
      "Filtering anchors\n",
      "\n",
      "\tRetained 2718 anchors\n",
      "\n",
      "Running CCA\n",
      "\n",
      "Merging objects\n",
      "\n",
      "Finding neighborhoods\n",
      "\n",
      "Finding anchors\n",
      "\n",
      "\tFound 6174 anchors\n",
      "\n",
      "Filtering anchors\n",
      "\n",
      "\tRetained 4540 anchors\n",
      "\n"
     ]
    }
   ],
   "source": [
    "reference.list <- pancreas.list[c(\"celseq\", \"celseq2\", \"smartseq2\")]\n",
    "pancreas.anchors <- FindIntegrationAnchors(object.list = reference.list, dims = 1:30)"
   ]
  },
  {
   "cell_type": "code",
   "execution_count": 10,
   "metadata": {
    "vscode": {
     "languageId": "r"
    }
   },
   "outputs": [
    {
     "name": "stderr",
     "output_type": "stream",
     "text": [
      "Merging dataset 1 into 2\n",
      "\n",
      "Extracting anchors for merged samples\n",
      "\n",
      "Finding integration vectors\n",
      "\n",
      "Finding integration vector weights\n",
      "\n",
      "Integrating data\n",
      "\n",
      "Merging dataset 3 into 2 1\n",
      "\n",
      "Extracting anchors for merged samples\n",
      "\n",
      "Finding integration vectors\n",
      "\n",
      "Finding integration vector weights\n",
      "\n",
      "Integrating data\n",
      "\n"
     ]
    }
   ],
   "source": [
    "pancreas.integrated <- IntegrateData(anchorset = pancreas.anchors, dims = 1:30)"
   ]
  },
  {
   "cell_type": "code",
   "execution_count": 11,
   "metadata": {
    "vscode": {
     "languageId": "r"
    }
   },
   "outputs": [
    {
     "name": "stderr",
     "output_type": "stream",
     "text": [
      "\n",
      "Attaching package: ‘patchwork’\n",
      "\n",
      "\n",
      "The following object is masked from ‘package:cowplot’:\n",
      "\n",
      "    align_plots\n",
      "\n",
      "\n",
      "Warning message:\n",
      "“The default method for RunUMAP has changed from calling Python UMAP via reticulate to the R-native UWOT using the cosine metric\n",
      "To use Python UMAP via reticulate, set umap.method to 'umap-learn' and metric to 'correlation'\n",
      "This message will be shown once per session”\n"
     ]
    },
    {
     "data": {
      "image/png": "[encoded data removed]",
      "text/plain": [
       "plot without title"
      ]
     },
     "metadata": {
      "image/png": {
       "height": 420,
       "width": 420
      }
     },
     "output_type": "display_data"
    }
   ],
   "source": [
    "library(ggplot2)\n",
    "library(cowplot)\n",
    "library(patchwork)\n",
    "# switch to integrated assay. The variable features of this assay are automatically set during\n",
    "# IntegrateData\n",
    "DefaultAssay(pancreas.integrated) <- \"integrated\"\n",
    "# Run the standard workflow for visualization and clustering\n",
    "pancreas.integrated <- ScaleData(pancreas.integrated, verbose = FALSE)\n",
    "pancreas.integrated <- RunPCA(pancreas.integrated, npcs = 30, verbose = FALSE)\n",
    "pancreas.integrated <- RunUMAP(pancreas.integrated, reduction = \"pca\", dims = 1:30, verbose = FALSE)\n",
    "p1 <- DimPlot(pancreas.integrated, reduction = \"umap\", group.by = \"tech\")\n",
    "p2 <- DimPlot(pancreas.integrated, reduction = \"umap\", group.by = \"celltype\", label = TRUE, repel = TRUE) +\n",
    "    NoLegend()\n",
    "p1 + p2"
   ]
  },
  {
   "cell_type": "code",
   "execution_count": 59,
   "metadata": {
    "vscode": {
     "languageId": "r"
    }
   },
   "outputs": [
    {
     "data": {
      "image/png": "[encoded data removed]",
      "text/plain": [
       "plot without title"
      ]
     },
     "metadata": {
      "image/png": {
       "height": 420,
       "width": 420
      }
     },
     "output_type": "display_data"
    }
   ],
   "source": [
    "library(ggplot2)\n",
    "library(cowplot)\n",
    "library(patchwork)\n",
    "# switch to integrated assay. The variable features of this assay are automatically set during\n",
    "# IntegrateData\n",
    "#DefaultAssay(pbmc3k) <- \"RNA\"\n",
    "# Run the standard workflow for visualization and clustering\n",
    "pbmc3k <- ScaleData(pbmc3k.final, verbose = FALSE)\n",
    "pbmc3k <- RunPCA(pbmc3k, npcs = 30, verbose = FALSE)\n",
    "pbmc3k <- RunUMAP(pbmc3k, reduction = \"pca\", dims = 1:30, verbose = FALSE)\n",
    "p1 <- DimPlot(pbmc3k, reduction = \"umap\")\n",
    "p2 <- DimPlot(pbmc3k, reduction = \"umap\") +\n",
    "    NoLegend()\n",
    "p1 "
   ]
  },
  {
   "cell_type": "code",
   "execution_count": 64,
   "metadata": {
    "vscode": {
     "languageId": "r"
    }
   },
   "outputs": [
    {
     "data": {
      "text/plain": [
       "An object of class Seurat \n",
       "13714 features across 2638 samples within 1 assay \n",
       "Active assay: RNA (13714 features, 2000 variable features)\n",
       " 2 dimensional reductions calculated: pca, umap"
      ]
     },
     "metadata": {},
     "output_type": "display_data"
    },
    {
     "name": "stderr",
     "output_type": "stream",
     "text": [
      "Projecting cell embeddings\n",
      "\n",
      "Finding neighborhoods\n",
      "\n",
      "Finding anchors\n",
      "\n",
      "\tFound 2541 anchors\n",
      "\n",
      "Filtering anchors\n",
      "\n",
      "\tRetained 263 anchors\n",
      "\n",
      "Finding integration vectors\n",
      "\n",
      "Finding integration vector weights\n",
      "\n",
      "Predicting cell labels\n",
      "\n"
     ]
    }
   ],
   "source": [
    "pbmc3k\n",
    "pancreas.query <- data\n",
    "pancreas.anchors <- FindTransferAnchors(reference = pbmc3k, query = pancreas.query,\n",
    "    dims = 1:30, reference.reduction = \"pca\")\n",
    "predictions <- TransferData(anchorset = pancreas.anchors, refdata = pbmc3k$seurat_annotations,\n",
    "    dims = 1:30)\n",
    "pancreas.query <- AddMetaData(pancreas.query, metadata = predictions)"
   ]
  },
  {
   "cell_type": "code",
   "execution_count": 12,
   "metadata": {
    "vscode": {
     "languageId": "r"
    }
   },
   "outputs": [
    {
     "name": "stderr",
     "output_type": "stream",
     "text": [
      "Projecting cell embeddings\n",
      "\n",
      "Finding neighborhoods\n",
      "\n",
      "Finding anchors\n",
      "\n",
      "\tFound 919 anchors\n",
      "\n",
      "Filtering anchors\n",
      "\n",
      "\tRetained 842 anchors\n",
      "\n",
      "Finding integration vectors\n",
      "\n",
      "Finding integration vector weights\n",
      "\n",
      "Predicting cell labels\n",
      "\n"
     ]
    }
   ],
   "source": [
    "pancreas.query <- data\n",
    "pancreas.anchors <- FindTransferAnchors(reference = pancreas.integrated, query = pancreas.query,\n",
    "    dims = 1:30, reference.reduction = \"pca\")\n",
    "predictions <- TransferData(anchorset = pancreas.anchors, refdata = pancreas.integrated$celltype,\n",
    "    dims = 1:30)\n",
    "pancreas.query <- AddMetaData(pancreas.query, metadata = predictions)"
   ]
  },
  {
   "cell_type": "code",
   "execution_count": 68,
   "metadata": {
    "vscode": {
     "languageId": "r"
    }
   },
   "outputs": [
    {
     "name": "stdout",
     "output_type": "stream",
     "text": [
      "Formal class 'Seurat' [package \"SeuratObject\"] with 13 slots\n",
      "  ..@ assays      :List of 1\n",
      "  .. ..$ RNA:Formal class 'Assay' [package \"SeuratObject\"] with 8 slots\n",
      "  .. .. .. ..@ counts       :Formal class 'dgCMatrix' [package \"Matrix\"] with 6 slots\n",
      "  .. .. .. .. .. ..@ i       : int [1:37323295] 53 70 81 166 178 229 316 383 415 492 ...\n",
      "  .. .. .. .. .. ..@ p       : int [1:68580] 0 498 970 1512 1861 2307 2783 3305 4230 4719 ...\n",
      "  .. .. .. .. .. ..@ Dim     : int [1:2] 32738 68579\n",
      "  .. .. .. .. .. ..@ Dimnames:List of 2\n",
      "  .. .. .. .. .. .. ..$ : chr [1:32738] \"MIR1302.10\" \"FAM138A\" \"OR4F5\" \"RP11.34P13.7\" ...\n",
      "  .. .. .. .. .. .. ..$ : chr [1:68579] \"AAACATACACCCAA-1\" \"AAACATACCCCTCA-1\" \"AAACATACCGGAGA-1\" \"AAACATACTAACCG-1\" ...\n",
      "  .. .. .. .. .. ..@ x       : num [1:37323295] 1 1 1 1 3 1 1 1 1 10 ...\n",
      "  .. .. .. .. .. ..@ factors : list()\n",
      "  .. .. .. ..@ data         :Formal class 'dgCMatrix' [package \"Matrix\"] with 6 slots\n",
      "  .. .. .. .. .. ..@ i       : int [1:37323295] 53 70 81 166 178 229 316 383 415 492 ...\n",
      "  .. .. .. .. .. ..@ p       : int [1:68580] 0 498 970 1512 1861 2307 2783 3305 4230 4719 ...\n",
      "  .. .. .. .. .. ..@ Dim     : int [1:2] 32738 68579\n",
      "  .. .. .. .. .. ..@ Dimnames:List of 2\n",
      "  .. .. .. .. .. .. ..$ : chr [1:32738] \"MIR1302.10\" \"FAM138A\" \"OR4F5\" \"RP11.34P13.7\" ...\n",
      "  .. .. .. .. .. .. ..$ : chr [1:68579] \"AAACATACACCCAA-1\" \"AAACATACCCCTCA-1\" \"AAACATACCGGAGA-1\" \"AAACATACTAACCG-1\" ...\n",
      "  .. .. .. .. .. ..@ x       : num [1:37323295] 1 1 1 1 3 1 1 1 1 10 ...\n",
      "  .. .. .. .. .. ..@ factors : list()\n",
      "  .. .. .. ..@ scale.data   : num[0 , 0 ] \n",
      "  .. .. .. ..@ key          : chr \"rna_\"\n",
      "  .. .. .. ..@ assay.orig   : NULL\n",
      "  .. .. .. ..@ var.features : logi(0) \n",
      "  .. .. .. ..@ meta.features:'data.frame':\t32738 obs. of  0 variables\n",
      "  .. .. .. ..@ misc         : list()\n",
      "  ..@ meta.data   :'data.frame':\t68579 obs. of  14 variables:\n",
      "  .. ..$ orig.ident                   : Factor w/ 1 level \"SeuratProject\": 1 1 1 1 1 1 1 1 1 1 ...\n",
      "  .. ..$ nCount_RNA                   : num [1:68579] 1216 1265 1322 854 1252 ...\n",
      "  .. ..$ nFeature_RNA                 : int [1:68579] 498 472 542 349 446 476 522 925 489 554 ...\n",
      "  .. ..$ predicted.id                 : chr [1:68579] \"B\" \"B\" \"CD14+ Mono\" \"B\" ...\n",
      "  .. ..$ prediction.score.Memory.CD4.T: num [1:68579] 0.06647 0.0719 0.14903 0.00457 0.05301 ...\n",
      "  .. ..$ prediction.score.B           : num [1:68579] 0.341 0.447 0.121 0.755 0.381 ...\n",
      "  .. ..$ prediction.score.CD14..Mono  : num [1:68579] 0.112 0.269 0.327 0.186 0.382 ...\n",
      "  .. ..$ prediction.score.NK          : num [1:68579] 0.0279 0 0 0 0 ...\n",
      "  .. ..$ prediction.score.CD8.T       : num [1:68579] 0.249 0.0449 0.1826 0 0.0255 ...\n",
      "  .. ..$ prediction.score.Naive.CD4.T : num [1:68579] 0.2036 0.1562 0.2097 0.0544 0.1451 ...\n",
      "  .. ..$ prediction.score.FCGR3A..Mono: num [1:68579] 0 0.0114 0.0101 0 0.0133 ...\n",
      "  .. ..$ prediction.score.DC          : num [1:68579] 0 0 0 0 0 0 0 0 0 0 ...\n",
      "  .. ..$ prediction.score.Platelet    : num [1:68579] 0 0 0 0 0 0 0 0 0 0 ...\n",
      "  .. ..$ prediction.score.max         : num [1:68579] 0.341 0.447 0.327 0.755 0.382 ...\n",
      "  ..@ active.assay: chr \"RNA\"\n",
      "  ..@ active.ident: Factor w/ 1 level \"SeuratProject\": 1 1 1 1 1 1 1 1 1 1 ...\n",
      "  .. ..- attr(*, \"names\")= chr [1:68579] \"AAACATACACCCAA-1\" \"AAACATACCCCTCA-1\" \"AAACATACCGGAGA-1\" \"AAACATACTAACCG-1\" ...\n",
      "  ..@ graphs      : list()\n",
      "  ..@ neighbors   : list()\n",
      "  ..@ reductions  : list()\n",
      "  ..@ images      : list()\n",
      "  ..@ project.name: chr \"SeuratProject\"\n",
      "  ..@ misc        : list()\n",
      "  ..@ version     :Classes 'package_version', 'numeric_version'  hidden list of 1\n",
      "  .. ..$ : int [1:3] 4 1 3\n",
      "  ..@ commands    : list()\n",
      "  ..@ tools       : list()\n"
     ]
    }
   ],
   "source": [
    "str(pancreas.query)"
   ]
  },
  {
   "cell_type": "code",
   "execution_count": 65,
   "metadata": {
    "vscode": {
     "languageId": "r"
    }
   },
   "outputs": [
    {
     "ename": "ERROR",
     "evalue": "Error: Cannot find 'celltype' in this Seurat object\n",
     "output_type": "error",
     "traceback": [
      "Error: Cannot find 'celltype' in this Seurat object\nTraceback:\n",
      "1. pancreas.query$celltype",
      "2. `$.Seurat`(pancreas.query, celltype)",
      "3. x[[i, drop = TRUE]]",
      "4. `[[.Seurat`(x, i, drop = TRUE)",
      "5. stop(\"Cannot find '\", i, \"' in this Seurat object\", call. = FALSE)"
     ]
    }
   ],
   "source": [
    "pancreas.query$prediction.match <- pancreas.query$predicted.id == pancreas.query$celltype\n",
    "table(pancreas.query$prediction.match)"
   ]
  },
  {
   "cell_type": "code",
   "execution_count": 14,
   "metadata": {
    "vscode": {
     "languageId": "r"
    }
   },
   "outputs": [
    {
     "data": {
      "text/plain": [
       "\n",
       "            acinar activated_stellate              alpha               beta \n",
       "                22                 17                253                256 \n",
       "             delta             ductal        endothelial              gamma \n",
       "                22                 30                 12                 18 \n",
       "        macrophage               mast            schwann \n",
       "                 1                  2                  5 "
      ]
     },
     "metadata": {},
     "output_type": "display_data"
    }
   ],
   "source": [
    "table(pancreas.query$predicted.id)"
   ]
  },
  {
   "cell_type": "code",
   "execution_count": 15,
   "metadata": {
    "vscode": {
     "languageId": "r"
    }
   },
   "outputs": [
    {
     "name": "stderr",
     "output_type": "stream",
     "text": [
      "Warning message:\n",
      "“\u001b[1m\u001b[22mGroups with fewer than two data points have been dropped.”\n",
      "Warning message:\n",
      "“\u001b[1m\u001b[22mGroups with fewer than two data points have been dropped.”\n",
      "Warning message:\n",
      "“\u001b[1m\u001b[22mGroups with fewer than two data points have been dropped.”\n",
      "Warning message:\n",
      "“\u001b[1m\u001b[22mGroups with fewer than two data points have been dropped.”\n",
      "Warning message:\n",
      "“\u001b[1m\u001b[22mGroups with fewer than two data points have been dropped.”\n",
      "Warning message:\n",
      "“\u001b[1m\u001b[22mGroups with fewer than two data points have been dropped.”\n"
     ]
    },
    {
     "data": {
      "image/png": "[encoded data removed]",
      "text/plain": [
       "plot without title"
      ]
     },
     "metadata": {
      "image/png": {
       "height": 420,
       "width": 420
      }
     },
     "output_type": "display_data"
    }
   ],
   "source": [
    "VlnPlot(pancreas.query, c(\"REG1A\", \"PPY\", \"SST\", \"GHRL\", \"VWF\", \"SOX10\"), group.by = \"predicted.id\")"
   ]
  },
  {
   "cell_type": "code",
   "execution_count": 6,
   "metadata": {
    "vscode": {
     "languageId": "r"
    }
   },
   "outputs": [
    {
     "name": "stderr",
     "output_type": "stream",
     "text": [
      "snapshotDate(): 2022-10-31\n",
      "\n",
      "see ?scRNAseq and browseVignettes('scRNAseq') for documentation\n",
      "\n",
      "loading from cache\n",
      "\n",
      "snapshotDate(): 2022-10-31\n",
      "\n",
      "loading from cache\n",
      "\n",
      "require(\"ensembldb\")\n",
      "\n",
      "Warning message:\n",
      "\"Unable to map 1655 of 23536 requested IDs.\"\n"
     ]
    },
    {
     "data": {
      "text/plain": [
       "class: SingleCellExperiment \n",
       "dim: 21817 1915 \n",
       "metadata(0):\n",
       "assays(1): counts\n",
       "rownames(21817): ENSMUSG00000109644 ENSMUSG00000007777 ...\n",
       "  ENSMUSG00000055670 ENSMUSG00000039068\n",
       "rowData names(3): symbol chr originalName\n",
       "colnames(1915): JC4_349_HSC_FE_S13_ JC4_350_HSC_FE_S13_ ...\n",
       "  JC48P6_1203_HSC_FE_S8_ JC48P6_1204_HSC_FE_S8_\n",
       "colData names(2): sample protocol\n",
       "reducedDimNames(0):\n",
       "mainExpName: NULL\n",
       "altExpNames(0):"
      ]
     },
     "metadata": {},
     "output_type": "display_data"
    }
   ],
   "source": [
    "#singleR\n",
    "\n",
    "library(scRNAseq)\n",
    "sce <- GrunHSCData(ensembl=TRUE)\n",
    "sce\n"
   ]
  },
  {
   "cell_type": "code",
   "execution_count": 7,
   "metadata": {
    "vscode": {
     "languageId": "r"
    }
   },
   "outputs": [
    {
     "data": {
      "text/plain": [
       "NULL"
      ]
     },
     "metadata": {},
     "output_type": "display_data"
    }
   ],
   "source": [
    "sce$counts"
   ]
  },
  {
   "cell_type": "code",
   "execution_count": null,
   "metadata": {
    "vscode": {
     "languageId": "r"
    }
   },
   "outputs": [],
   "source": []
  },
  {
   "cell_type": "code",
   "execution_count": 8,
   "metadata": {
    "vscode": {
     "languageId": "r"
    }
   },
   "outputs": [
    {
     "name": "stdout",
     "output_type": "stream",
     "text": [
      "Formal class 'SingleCellExperiment' [package \"SingleCellExperiment\"] with 9 slots\n",
      "  ..@ int_elementMetadata:Formal class 'DFrame' [package \"S4Vectors\"] with 6 slots\n",
      "  .. .. ..@ rownames       : NULL\n",
      "  .. .. ..@ nrows          : int 21817\n",
      "  .. .. ..@ elementType    : chr \"ANY\"\n",
      "  .. .. ..@ elementMetadata: NULL\n",
      "  .. .. ..@ metadata       : list()\n",
      "  .. .. ..@ listData       :List of 1\n",
      "  .. .. .. ..$ rowPairs:Formal class 'DFrame' [package \"S4Vectors\"] with 6 slots\n",
      "  .. .. .. .. .. ..@ rownames       : NULL\n",
      "  .. .. .. .. .. ..@ nrows          : int 21817\n",
      "  .. .. .. .. .. ..@ elementType    : chr \"ANY\"\n",
      "  .. .. .. .. .. ..@ elementMetadata: NULL\n",
      "  .. .. .. .. .. ..@ metadata       : list()\n",
      "  .. .. .. .. .. ..@ listData       : Named list()\n",
      "  ..@ int_colData        :Formal class 'DFrame' [package \"S4Vectors\"] with 6 slots\n",
      "  .. .. ..@ rownames       : NULL\n",
      "  .. .. ..@ nrows          : int 1915\n",
      "  .. .. ..@ elementType    : chr \"ANY\"\n",
      "  .. .. ..@ elementMetadata: NULL\n",
      "  .. .. ..@ metadata       : list()\n",
      "  .. .. ..@ listData       :List of 3\n",
      "  .. .. .. ..$ reducedDims:Formal class 'DFrame' [package \"S4Vectors\"] with 6 slots\n",
      "  .. .. .. .. .. ..@ rownames       : NULL\n",
      "  .. .. .. .. .. ..@ nrows          : int 1915\n",
      "  .. .. .. .. .. ..@ elementType    : chr \"ANY\"\n",
      "  .. .. .. .. .. ..@ elementMetadata: NULL\n",
      "  .. .. .. .. .. ..@ metadata       : list()\n",
      "  .. .. .. .. .. ..@ listData       : Named list()\n",
      "  .. .. .. ..$ altExps    :Formal class 'DFrame' [package \"S4Vectors\"] with 6 slots\n",
      "  .. .. .. .. .. ..@ rownames       : NULL\n",
      "  .. .. .. .. .. ..@ nrows          : int 1915\n",
      "  .. .. .. .. .. ..@ elementType    : chr \"ANY\"\n",
      "  .. .. .. .. .. ..@ elementMetadata: NULL\n",
      "  .. .. .. .. .. ..@ metadata       : list()\n",
      "  .. .. .. .. .. ..@ listData       : Named list()\n",
      "  .. .. .. ..$ colPairs   :Formal class 'DFrame' [package \"S4Vectors\"] with 6 slots\n",
      "  .. .. .. .. .. ..@ rownames       : NULL\n",
      "  .. .. .. .. .. ..@ nrows          : int 1915\n",
      "  .. .. .. .. .. ..@ elementType    : chr \"ANY\"\n",
      "  .. .. .. .. .. ..@ elementMetadata: NULL\n",
      "  .. .. .. .. .. ..@ metadata       : list()\n",
      "  .. .. .. .. .. ..@ listData       : Named list()\n",
      "  ..@ int_metadata       :List of 1\n",
      "  .. ..$ version:Classes 'package_version', 'numeric_version'  hidden list of 1\n",
      "  .. .. ..$ : int [1:3] 1 20 1\n",
      "  ..@ rowRanges          :Formal class 'GRanges' [package \"GenomicRanges\"] with 7 slots\n",
      "  .. .. ..@ seqnames       :Formal class 'Rle' [package \"S4Vectors\"] with 4 slots\n",
      "  .. .. .. .. ..@ values         : Factor w/ 118 levels \"1\",\"10\",\"11\",..: 17 3 8 16 13 18 12 15 16 15 ...\n",
      "  .. .. .. .. ..@ lengths        : int [1:17373] 1 4 1 1 1 1 1 1 1 1 ...\n",
      "  .. .. .. .. ..@ elementMetadata: NULL\n",
      "  .. .. .. .. ..@ metadata       : list()\n",
      "  .. .. ..@ ranges         :Formal class 'IRanges' [package \"IRanges\"] with 6 slots\n",
      "  .. .. .. .. ..@ start          : int [1:21817] 45567794 51685386 120348678 23564961 70235206 31947050 72347317 138210716 77517056 163644850 ...\n",
      "  .. .. .. .. ..@ width          : int [1:21817] 7534 3489 2513 68679 2709 1445 5832 29690 6843 952 ...\n",
      "  .. .. .. .. ..@ NAMES          : chr [1:21817] \"ENSMUSG00000109644\" \"ENSMUSG00000007777\" \"ENSMUSG00000043644\" \"ENSMUSG00000042208\" ...\n",
      "  .. .. .. .. ..@ elementType    : chr \"ANY\"\n",
      "  .. .. .. .. ..@ elementMetadata: NULL\n",
      "  .. .. .. .. ..@ metadata       : list()\n",
      "  .. .. ..@ strand         :Formal class 'Rle' [package \"S4Vectors\"] with 4 slots\n",
      "  .. .. .. .. ..@ values         : Factor w/ 3 levels \"+\",\"-\",\"*\": 2 1 2 1 2 1 2 1 2 1 ...\n",
      "  .. .. .. .. ..@ lengths        : int [1:10328] 2 1 3 1 1 3 1 2 1 1 ...\n",
      "  .. .. .. .. ..@ elementMetadata: NULL\n",
      "  .. .. .. .. ..@ metadata       : list()\n",
      "  .. .. ..@ seqinfo        :Formal class 'Seqinfo' [package \"GenomeInfoDb\"] with 4 slots\n",
      "  .. .. .. .. ..@ seqnames   : chr [1:118] \"1\" \"10\" \"11\" \"12\" ...\n",
      "  .. .. .. .. ..@ seqlengths : int [1:118] 195471971 130694993 122082543 120129022 120421639 124902244 104043685 98207768 94987271 90702639 ...\n",
      "  .. .. .. .. ..@ is_circular: logi [1:118] FALSE FALSE FALSE FALSE FALSE FALSE ...\n",
      "  .. .. .. .. ..@ genome     : chr [1:118] \"GRCm38\" \"GRCm38\" \"GRCm38\" \"GRCm38\" ...\n",
      "  .. .. ..@ elementMetadata:Formal class 'DFrame' [package \"S4Vectors\"] with 6 slots\n",
      "  .. .. .. .. ..@ rownames       : NULL\n",
      "  .. .. .. .. ..@ nrows          : int 21817\n",
      "  .. .. .. .. ..@ elementType    : chr \"ANY\"\n",
      "  .. .. .. .. ..@ elementMetadata: NULL\n",
      "  .. .. .. .. ..@ metadata       : list()\n",
      "  .. .. .. .. ..@ listData       :List of 3\n",
      "  .. .. .. .. .. ..$ symbol      : chr [1:21817] \"0610005C13Rik\" \"0610009B22Rik\" \"0610009L18Rik\" \"0610010F05Rik\" ...\n",
      "  .. .. .. .. .. ..$ chr         : chr [1:21817] \"chr7\" \"chr11\" \"chr11\" \"chr11\" ...\n",
      "  .. .. .. .. .. ..$ originalName: chr [1:21817] \"0610005C13Rik__chr7\" \"0610009B22Rik__chr11\" \"0610009L18Rik__chr11\" \"0610010F05Rik__chr11\" ...\n",
      "  .. .. ..@ elementType    : chr \"ANY\"\n",
      "  .. .. ..@ metadata       : list()\n",
      "  ..@ colData            :Formal class 'DFrame' [package \"S4Vectors\"] with 6 slots\n",
      "  .. .. ..@ rownames       : chr [1:1915] \"JC4_349_HSC_FE_S13_\" \"JC4_350_HSC_FE_S13_\" \"JC4_351_HSC_FE_S13_\" \"JC4_352_HSC_FE_S13_\" ...\n",
      "  .. .. ..@ nrows          : int 1915\n",
      "  .. .. ..@ elementType    : chr \"ANY\"\n",
      "  .. .. ..@ elementMetadata: NULL\n",
      "  .. .. ..@ metadata       : list()\n",
      "  .. .. ..@ listData       :List of 2\n",
      "  .. .. .. ..$ sample  : chr [1:1915] \"JC4\" \"JC4\" \"JC4\" \"JC4\" ...\n",
      "  .. .. .. ..$ protocol: chr [1:1915] \"sorted hematopoietic stem cells\" \"sorted hematopoietic stem cells\" \"sorted hematopoietic stem cells\" \"sorted hematopoietic stem cells\" ...\n",
      "  ..@ assays             :Formal class 'SimpleAssays' [package \"SummarizedExperiment\"] with 1 slot\n",
      "  .. .. ..@ data:Formal class 'SimpleList' [package \"S4Vectors\"] with 4 slots\n",
      "  .. .. .. .. ..@ listData       :List of 1\n",
      "  .. .. .. .. .. ..$ counts:Formal class 'dgCMatrix' [package \"Matrix\"] with 6 slots\n",
      "  .. .. .. .. .. .. .. ..@ i       : int [1:1359108] 1995 2524 4393 4452 5118 5127 6228 6350 9041 9709 ...\n",
      "  .. .. .. .. .. .. .. ..@ p       : int [1:1916] 0 26 48 61 93 109 129 148 253 261 ...\n",
      "  .. .. .. .. .. .. .. ..@ Dim     : int [1:2] 21817 1915\n",
      "  .. .. .. .. .. .. .. ..@ Dimnames:List of 2\n",
      "  .. .. .. .. .. .. .. .. ..$ : chr [1:21817] \"0610005C13Rik__chr7\" \"0610009B22Rik__chr11\" \"0610009L18Rik__chr11\" \"0610010F05Rik__chr11\" ...\n",
      "  .. .. .. .. .. .. .. .. ..$ : chr [1:1915] \"JC4_349_HSC_FE_S13_\" \"JC4_350_HSC_FE_S13_\" \"JC4_351_HSC_FE_S13_\" \"JC4_352_HSC_FE_S13_\" ...\n",
      "  .. .. .. .. .. .. .. ..@ x       : num [1:1359108] 1 1 4.03 1 1 ...\n",
      "  .. .. .. .. .. .. .. ..@ factors : list()\n",
      "  .. .. .. .. ..@ elementType    : chr \"ANY\"\n",
      "  .. .. .. .. ..@ elementMetadata: NULL\n",
      "  .. .. .. .. ..@ metadata       : list()\n",
      "  ..@ NAMES              : NULL\n",
      "  ..@ elementMetadata    :Formal class 'DFrame' [package \"S4Vectors\"] with 6 slots\n",
      "  .. .. ..@ rownames       : NULL\n",
      "  .. .. ..@ nrows          : int 21817\n",
      "  .. .. ..@ elementType    : chr \"ANY\"\n",
      "  .. .. ..@ elementMetadata: NULL\n",
      "  .. .. ..@ metadata       : list()\n",
      "  .. .. ..@ listData       : Named list()\n",
      "  ..@ metadata           : list()\n"
     ]
    }
   ],
   "source": [
    "str(sce)"
   ]
  },
  {
   "cell_type": "code",
   "execution_count": 9,
   "metadata": {
    "vscode": {
     "languageId": "r"
    }
   },
   "outputs": [
    {
     "name": "stderr",
     "output_type": "stream",
     "text": [
      "\n",
      "Attaching package: 'celldex'\n",
      "\n",
      "\n",
      "The following objects are masked from 'package:SingleR':\n",
      "\n",
      "    BlueprintEncodeData, DatabaseImmuneCellExpressionData,\n",
      "    HumanPrimaryCellAtlasData, ImmGenData, MonacoImmuneData,\n",
      "    MouseRNAseqData, NovershternHematopoieticData\n",
      "\n",
      "\n"
     ]
    },
    {
     "name": "stderr",
     "output_type": "stream",
     "text": [
      "snapshotDate(): 2022-10-31\n",
      "\n",
      "see ?celldex and browseVignettes('celldex') for documentation\n",
      "\n",
      "loading from cache\n",
      "\n",
      "see ?celldex and browseVignettes('celldex') for documentation\n",
      "\n",
      "loading from cache\n",
      "\n",
      "snapshotDate(): 2022-10-31\n",
      "\n",
      "loading from cache\n",
      "\n",
      "Warning message:\n",
      "\"Unable to map 782 of 22134 requested IDs.\"\n"
     ]
    },
    {
     "data": {
      "text/plain": [
       "class: SummarizedExperiment \n",
       "dim: 21352 830 \n",
       "metadata(0):\n",
       "assays(1): logcounts\n",
       "rownames(21352): ENSMUSG00000079681 ENSMUSG00000066372 ...\n",
       "  ENSMUSG00000034640 ENSMUSG00000036940\n",
       "rowData names(0):\n",
       "colnames(830):\n",
       "  GSM1136119_EA07068_260297_MOGENE-1_0-ST-V1_MF.11C-11B+.LU_1.CEL\n",
       "  GSM1136120_EA07068_260298_MOGENE-1_0-ST-V1_MF.11C-11B+.LU_2.CEL ...\n",
       "  GSM920654_EA07068_201214_MOGENE-1_0-ST-V1_TGD.VG4+24ALO.E17.TH_1.CEL\n",
       "  GSM920655_EA07068_201215_MOGENE-1_0-ST-V1_TGD.VG4+24ALO.E17.TH_2.CEL\n",
       "colData names(3): label.main label.fine label.ont"
      ]
     },
     "metadata": {},
     "output_type": "display_data"
    }
   ],
   "source": [
    "library(celldex)\n",
    "immgen <- ImmGenData(ensembl=TRUE)\n",
    "immgen"
   ]
  },
  {
   "cell_type": "code",
   "execution_count": null,
   "metadata": {
    "vscode": {
     "languageId": "r"
    }
   },
   "outputs": [],
   "source": []
  },
  {
   "cell_type": "code",
   "execution_count": null,
   "metadata": {
    "vscode": {
     "languageId": "r"
    }
   },
   "outputs": [],
   "source": []
  },
  {
   "cell_type": "code",
   "execution_count": null,
   "metadata": {
    "vscode": {
     "languageId": "r"
    }
   },
   "outputs": [],
   "source": []
  },
  {
   "cell_type": "code",
   "execution_count": null,
   "metadata": {
    "vscode": {
     "languageId": "r"
    }
   },
   "outputs": [],
   "source": []
  },
  {
   "cell_type": "code",
   "execution_count": null,
   "metadata": {
    "vscode": {
     "languageId": "r"
    }
   },
   "outputs": [],
   "source": []
  },
  {
   "cell_type": "code",
   "execution_count": null,
   "metadata": {
    "vscode": {
     "languageId": "r"
    }
   },
   "outputs": [],
   "source": []
  },
  {
   "cell_type": "code",
   "execution_count": null,
   "metadata": {
    "vscode": {
     "languageId": "r"
    }
   },
   "outputs": [],
   "source": []
  },
  {
   "cell_type": "code",
   "execution_count": null,
   "metadata": {
    "vscode": {
     "languageId": "r"
    }
   },
   "outputs": [],
   "source": []
  },
  {
   "cell_type": "code",
   "execution_count": null,
   "metadata": {
    "vscode": {
     "languageId": "r"
    }
   },
   "outputs": [],
   "source": []
  },
  {
   "cell_type": "code",
   "execution_count": null,
   "metadata": {
    "vscode": {
     "languageId": "r"
    }
   },
   "outputs": [],
   "source": []
  },
  {
   "cell_type": "code",
   "execution_count": null,
   "metadata": {
    "vscode": {
     "languageId": "r"
    }
   },
   "outputs": [],
   "source": []
  },
  {
   "cell_type": "code",
   "execution_count": null,
   "metadata": {
    "vscode": {
     "languageId": "r"
    }
   },
   "outputs": [],
   "source": []
  },
  {
   "cell_type": "code",
   "execution_count": null,
   "metadata": {
    "vscode": {
     "languageId": "r"
    }
   },
   "outputs": [],
   "source": []
  },
  {
   "cell_type": "code",
   "execution_count": null,
   "metadata": {
    "vscode": {
     "languageId": "r"
    }
   },
   "outputs": [],
   "source": []
  },
  {
   "cell_type": "code",
   "execution_count": null,
   "metadata": {
    "vscode": {
     "languageId": "r"
    }
   },
   "outputs": [],
   "source": []
  },
  {
   "cell_type": "code",
   "execution_count": null,
   "metadata": {
    "vscode": {
     "languageId": "r"
    }
   },
   "outputs": [],
   "source": []
  }
 ],
 "metadata": {
  "kernelspec": {
   "display_name": "R",
   "language": "R",
   "name": "ir"
  },
  "language_info": {
   "codemirror_mode": "r",
   "file_extension": ".r",
   "mimetype": "text/x-r-source",
   "name": "R",
   "pygments_lexer": "r",
   "version": "4.2.2"
  },
  "orig_nbformat": 4
 },
 "nbformat": 4,
 "nbformat_minor": 2
}
