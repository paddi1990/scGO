{
 "cells": [
  {
   "cell_type": "code",
   "execution_count": 5,
   "metadata": {
    "vscode": {
     "languageId": "r"
    }
   },
   "outputs": [],
   "source": [
    "#Seurat\n",
    "\n",
    "#read data\n",
    "\n",
    "data=read.table(\"data/macparland/GSE115469_Data.csv\",header=TRUE,row.names=1,sep=\",\")\n",
    "\n",
    "data=t(data)\n",
    "#annotation=BaronMetaData"
   ]
  },
  {
   "cell_type": "code",
   "execution_count": 17,
   "metadata": {
    "vscode": {
     "languageId": "r"
    }
   },
   "outputs": [
    {
     "name": "stderr",
     "output_type": "stream",
     "text": [
      "Warning message in read.table(\"data/macparland/GSE115469_CellClusterType.txt\", header = TRUE, :\n",
      "“header and 'col.names' are of different lengths”\n"
     ]
    },
    {
     "data": {
      "text/html": [
       "<table class=\"dataframe\">\n",
       "<caption>A data.frame: 6 × 5</caption>\n",
       "<thead>\n",
       "\t<tr><th></th><th scope=col>CellName</th><th scope=col>Sample</th><th scope=col>Cell.</th><th scope=col>Cluster.</th><th scope=col>cell.type</th></tr>\n",
       "\t<tr><th></th><th scope=col>&lt;chr&gt;</th><th scope=col>&lt;chr&gt;</th><th scope=col>&lt;chr&gt;</th><th scope=col>&lt;int&gt;</th><th scope=col>&lt;chr&gt;</th></tr>\n",
       "</thead>\n",
       "<tbody>\n",
       "\t<tr><th scope=row>1</th><td>P1TLH_AAACCTGAGCAGCCTC_1</td><td>P1TLH</td><td>AAACCTGAGCAGCCTC</td><td>12</td><td>Central_venous_LSECs       </td></tr>\n",
       "\t<tr><th scope=row>2</th><td>P1TLH_AAACCTGTCCTCATTA_1</td><td>P1TLH</td><td>AAACCTGTCCTCATTA</td><td>17</td><td>Cholangiocytes             </td></tr>\n",
       "\t<tr><th scope=row>3</th><td>P1TLH_AAACCTGTCTAAGCCA_1</td><td>P1TLH</td><td>AAACCTGTCTAAGCCA</td><td>12</td><td>Central_venous_LSECs       </td></tr>\n",
       "\t<tr><th scope=row>4</th><td>P1TLH_AAACGGGAGTAGGCCA_1</td><td>P1TLH</td><td>AAACGGGAGTAGGCCA</td><td>10</td><td>Non-inflammatory_Macrophage</td></tr>\n",
       "\t<tr><th scope=row>5</th><td>P1TLH_AAACGGGGTTCGGGCT_1</td><td>P1TLH</td><td>AAACGGGGTTCGGGCT</td><td> 2</td><td>alpha-beta_T_Cells         </td></tr>\n",
       "\t<tr><th scope=row>6</th><td>P1TLH_AAAGCAACAGTAAGAT_1</td><td>P1TLH</td><td>AAAGCAACAGTAAGAT</td><td> 2</td><td>alpha-beta_T_Cells         </td></tr>\n",
       "</tbody>\n",
       "</table>\n"
      ],
      "text/latex": [
       "A data.frame: 6 × 5\n",
       "\\begin{tabular}{r|lllll}\n",
       "  & CellName & Sample & Cell. & Cluster. & cell.type\\\\\n",
       "  & <chr> & <chr> & <chr> & <int> & <chr>\\\\\n",
       "\\hline\n",
       "\t1 & P1TLH\\_AAACCTGAGCAGCCTC\\_1 & P1TLH & AAACCTGAGCAGCCTC & 12 & Central\\_venous\\_LSECs       \\\\\n",
       "\t2 & P1TLH\\_AAACCTGTCCTCATTA\\_1 & P1TLH & AAACCTGTCCTCATTA & 17 & Cholangiocytes             \\\\\n",
       "\t3 & P1TLH\\_AAACCTGTCTAAGCCA\\_1 & P1TLH & AAACCTGTCTAAGCCA & 12 & Central\\_venous\\_LSECs       \\\\\n",
       "\t4 & P1TLH\\_AAACGGGAGTAGGCCA\\_1 & P1TLH & AAACGGGAGTAGGCCA & 10 & Non-inflammatory\\_Macrophage\\\\\n",
       "\t5 & P1TLH\\_AAACGGGGTTCGGGCT\\_1 & P1TLH & AAACGGGGTTCGGGCT &  2 & alpha-beta\\_T\\_Cells         \\\\\n",
       "\t6 & P1TLH\\_AAAGCAACAGTAAGAT\\_1 & P1TLH & AAAGCAACAGTAAGAT &  2 & alpha-beta\\_T\\_Cells         \\\\\n",
       "\\end{tabular}\n"
      ],
      "text/markdown": [
       "\n",
       "A data.frame: 6 × 5\n",
       "\n",
       "| <!--/--> | CellName &lt;chr&gt; | Sample &lt;chr&gt; | Cell. &lt;chr&gt; | Cluster. &lt;int&gt; | cell.type &lt;chr&gt; |\n",
       "|---|---|---|---|---|---|\n",
       "| 1 | P1TLH_AAACCTGAGCAGCCTC_1 | P1TLH | AAACCTGAGCAGCCTC | 12 | Central_venous_LSECs        |\n",
       "| 2 | P1TLH_AAACCTGTCCTCATTA_1 | P1TLH | AAACCTGTCCTCATTA | 17 | Cholangiocytes              |\n",
       "| 3 | P1TLH_AAACCTGTCTAAGCCA_1 | P1TLH | AAACCTGTCTAAGCCA | 12 | Central_venous_LSECs        |\n",
       "| 4 | P1TLH_AAACGGGAGTAGGCCA_1 | P1TLH | AAACGGGAGTAGGCCA | 10 | Non-inflammatory_Macrophage |\n",
       "| 5 | P1TLH_AAACGGGGTTCGGGCT_1 | P1TLH | AAACGGGGTTCGGGCT |  2 | alpha-beta_T_Cells          |\n",
       "| 6 | P1TLH_AAAGCAACAGTAAGAT_1 | P1TLH | AAAGCAACAGTAAGAT |  2 | alpha-beta_T_Cells          |\n",
       "\n"
      ],
      "text/plain": [
       "  CellName                 Sample Cell.            Cluster.\n",
       "1 P1TLH_AAACCTGAGCAGCCTC_1 P1TLH  AAACCTGAGCAGCCTC 12      \n",
       "2 P1TLH_AAACCTGTCCTCATTA_1 P1TLH  AAACCTGTCCTCATTA 17      \n",
       "3 P1TLH_AAACCTGTCTAAGCCA_1 P1TLH  AAACCTGTCTAAGCCA 12      \n",
       "4 P1TLH_AAACGGGAGTAGGCCA_1 P1TLH  AAACGGGAGTAGGCCA 10      \n",
       "5 P1TLH_AAACGGGGTTCGGGCT_1 P1TLH  AAACGGGGTTCGGGCT  2      \n",
       "6 P1TLH_AAAGCAACAGTAAGAT_1 P1TLH  AAAGCAACAGTAAGAT  2      \n",
       "  cell.type                  \n",
       "1 Central_venous_LSECs       \n",
       "2 Cholangiocytes             \n",
       "3 Central_venous_LSECs       \n",
       "4 Non-inflammatory_Macrophage\n",
       "5 alpha-beta_T_Cells         \n",
       "6 alpha-beta_T_Cells         "
      ]
     },
     "metadata": {},
     "output_type": "display_data"
    }
   ],
   "source": [
    "annotation=read.table(\"data/macparland/GSE115469_CellClusterType.txt\",header=TRUE,sep=\"\\t\",col.names=c(\"CellName\",\"Sample\",\"Cell#\",\"Cluster#\",\"cell.type\"))\n",
    "\n",
    "head(annotation)"
   ]
  },
  {
   "cell_type": "code",
   "execution_count": 18,
   "metadata": {
    "vscode": {
     "languageId": "r"
    }
   },
   "outputs": [],
   "source": [
    "extract_prediction_label = function(x){\n",
    "    y=c()\n",
    "    for (i in x){\n",
    "        y=c(y,i)\n",
    "    }\n",
    "    y\n",
    "    return(y)\n",
    "}\n",
    "\n",
    "\n",
    "\n",
    "calculate_test_accuracy <- function(true_labels, predicted_labels) {\n",
    "  if (length(true_labels) != length(predicted_labels)) {\n",
    "    stop(\"Input vectors must have the same length.\")\n",
    "  }\n",
    "  \n",
    "  correct_predictions <- sum(true_labels == predicted_labels)\n",
    "  total_samples <- length(true_labels)\n",
    "  \n",
    "  accuracy <- correct_predictions / total_samples\n",
    "  return(accuracy)\n",
    "}\n",
    "\n",
    "\n",
    "calculate_f1_score_multiclass <- function(true_labels, predicted_labels) {\n",
    "  if (length(true_labels) != length(predicted_labels)) {\n",
    "    stop(\"Input vectors must have the same length.\")\n",
    "  }\n",
    "  \n",
    "  # Get unique class labels\n",
    "  classes <- unique(c(true_labels, predicted_labels))\n",
    "  \n",
    "  # Initialize variables to store per-class statistics\n",
    "  precision <- numeric(length(classes))\n",
    "  recall <- numeric(length(classes))\n",
    "  f1_score <- numeric(length(classes))\n",
    "  \n",
    "  # Calculate precision, recall, and F1 score for each class\n",
    "  for (i in 1:length(classes)) {\n",
    "    class_label <- classes[i]\n",
    "    true_positive <- sum(predicted_labels == class_label & true_labels == class_label)\n",
    "    false_positive <- sum(predicted_labels == class_label & true_labels != class_label)\n",
    "    false_negative <- sum(predicted_labels != class_label & true_labels == class_label)\n",
    "    \n",
    "    precision[i] <- true_positive / (true_positive + false_positive)\n",
    "    recall[i] <- true_positive / (true_positive + false_negative)\n",
    "    \n",
    "    f1_score[i] <- 2 * (precision[i] * recall[i]) / (precision[i] + recall[i])\n",
    "  }\n",
    "  \n",
    "  # Calculate macro-averaged F1 score\n",
    "  macro_f1_score <- mean(f1_score, na.rm = TRUE)\n",
    "  \n",
    "  return(macro_f1_score)\n",
    "}\n",
    "\n",
    "\n"
   ]
  },
  {
   "cell_type": "code",
   "execution_count": 19,
   "metadata": {
    "vscode": {
     "languageId": "r"
    }
   },
   "outputs": [
    {
     "name": "stderr",
     "output_type": "stream",
     "text": [
      "Warning message in split.default(sample(nrow(data)), 1:num_folds):\n",
      "“data length is not a multiple of split variable”\n"
     ]
    },
    {
     "name": "stderr",
     "output_type": "stream",
     "text": [
      "Warning message:\n",
      "“Feature names cannot have underscores ('_'), replacing with dashes ('-')”\n",
      "Warning message:\n",
      "“Feature names cannot have underscores ('_'), replacing with dashes ('-')”\n",
      "Projecting cell embeddings\n",
      "\n",
      "Finding neighborhoods\n",
      "\n",
      "Finding anchors\n",
      "\n",
      "\tFound 5853 anchors\n",
      "\n",
      "Filtering anchors\n",
      "\n",
      "\tRetained 5555 anchors\n",
      "\n",
      "Finding integration vectors\n",
      "\n",
      "Finding integration vector weights\n",
      "\n",
      "Predicting cell labels\n",
      "\n"
     ]
    },
    {
     "name": "stdout",
     "output_type": "stream",
     "text": [
      "Fold 1 : Train samples = 6755 , Test samples = 1689 Accuracy: 0.9319124 f1 score: 0.9359022 \n"
     ]
    },
    {
     "name": "stderr",
     "output_type": "stream",
     "text": [
      "Warning message:\n",
      "“Feature names cannot have underscores ('_'), replacing with dashes ('-')”\n",
      "Warning message:\n",
      "“Feature names cannot have underscores ('_'), replacing with dashes ('-')”\n",
      "Projecting cell embeddings\n",
      "\n",
      "Finding neighborhoods\n",
      "\n",
      "Finding anchors\n",
      "\n",
      "\tFound 6039 anchors\n",
      "\n",
      "Filtering anchors\n",
      "\n",
      "\tRetained 5737 anchors\n",
      "\n",
      "Finding integration vectors\n",
      "\n",
      "Finding integration vector weights\n",
      "\n",
      "Predicting cell labels\n",
      "\n"
     ]
    },
    {
     "name": "stdout",
     "output_type": "stream",
     "text": [
      "Fold 2 : Train samples = 6755 , Test samples = 1689 Accuracy: 0.9354648 f1 score: 0.9389903 \n"
     ]
    },
    {
     "name": "stderr",
     "output_type": "stream",
     "text": [
      "Warning message:\n",
      "“Feature names cannot have underscores ('_'), replacing with dashes ('-')”\n",
      "Warning message:\n",
      "“Feature names cannot have underscores ('_'), replacing with dashes ('-')”\n",
      "Projecting cell embeddings\n",
      "\n",
      "Finding neighborhoods\n",
      "\n",
      "Finding anchors\n",
      "\n",
      "\tFound 6044 anchors\n",
      "\n",
      "Filtering anchors\n",
      "\n",
      "\tRetained 5707 anchors\n",
      "\n",
      "Finding integration vectors\n",
      "\n",
      "Finding integration vector weights\n",
      "\n",
      "Predicting cell labels\n",
      "\n"
     ]
    },
    {
     "name": "stdout",
     "output_type": "stream",
     "text": [
      "Fold 3 : Train samples = 6755 , Test samples = 1689 Accuracy: 0.9390172 f1 score: 0.9389848 \n"
     ]
    },
    {
     "name": "stderr",
     "output_type": "stream",
     "text": [
      "Warning message:\n",
      "“Feature names cannot have underscores ('_'), replacing with dashes ('-')”\n",
      "Warning message:\n",
      "“Feature names cannot have underscores ('_'), replacing with dashes ('-')”\n",
      "Projecting cell embeddings\n",
      "\n",
      "Finding neighborhoods\n",
      "\n",
      "Finding anchors\n",
      "\n",
      "\tFound 6006 anchors\n",
      "\n",
      "Filtering anchors\n",
      "\n",
      "\tRetained 5672 anchors\n",
      "\n",
      "Finding integration vectors\n",
      "\n",
      "Finding integration vector weights\n",
      "\n",
      "Predicting cell labels\n",
      "\n"
     ]
    },
    {
     "name": "stdout",
     "output_type": "stream",
     "text": [
      "Fold 4 : Train samples = 6755 , Test samples = 1689 Accuracy: 0.9396092 f1 score: 0.9256665 \n"
     ]
    },
    {
     "name": "stderr",
     "output_type": "stream",
     "text": [
      "Warning message:\n",
      "“Feature names cannot have underscores ('_'), replacing with dashes ('-')”\n",
      "Warning message:\n",
      "“Feature names cannot have underscores ('_'), replacing with dashes ('-')”\n",
      "Projecting cell embeddings\n",
      "\n",
      "Finding neighborhoods\n",
      "\n",
      "Finding anchors\n",
      "\n",
      "\tFound 6037 anchors\n",
      "\n",
      "Filtering anchors\n",
      "\n",
      "\tRetained 5710 anchors\n",
      "\n",
      "Finding integration vectors\n",
      "\n",
      "Finding integration vector weights\n",
      "\n",
      "Predicting cell labels\n",
      "\n"
     ]
    },
    {
     "name": "stdout",
     "output_type": "stream",
     "text": [
      "Fold 5 : Train samples = 6756 , Test samples = 1688 Accuracy: 0.9354265 f1 score: 0.9384966 \n"
     ]
    }
   ],
   "source": [
    "library(Seurat)\n",
    "\n",
    "set.seed(124)\n",
    "\n",
    "\n",
    "num_folds <- 5\n",
    "\n",
    "# Generate 5-fold cross-validation indices\n",
    "fold_indices <- split(sample(nrow(data)), 1:num_folds)\n",
    "\n",
    "# Perform 5-fold cross-validation\n",
    "for (i in 1:num_folds) {\n",
    "  # Get indices for the current fold\n",
    "  test_indices <- fold_indices[[i]]\n",
    "  train_indices <- unlist(fold_indices[-i])\n",
    "  \n",
    "  # Subset data and annotation based on indices\n",
    "  data_train <- data[train_indices, ]\n",
    "  anno_train <- annotation[train_indices, ]\n",
    "  \n",
    "  data_test <- data[test_indices, ]\n",
    "  anno_test <- annotation[test_indices, ]\n",
    "  \n",
    "    \n",
    "  ref = CreateSeuratObject(counts = t(data_train))\n",
    "  ref <- ScaleData(ref, verbose = FALSE)\n",
    "  ref =  FindVariableFeatures(ref, selection.method = \"vst\", nfeatures = 2000, verbose = FALSE)\n",
    "  ref <- RunPCA(ref, npcs = 30, verbose = FALSE)\n",
    "  ref <- RunUMAP(ref, reduction = \"pca\", dims = 1:30, verbose = FALSE)\n",
    "\n",
    "  query = CreateSeuratObject(counts = t(data_test))\n",
    "  query <- ScaleData(query, verbose = FALSE)\n",
    "  query =  FindVariableFeatures(query, selection.method = \"vst\", nfeatures = 2000, verbose = FALSE)\n",
    "  query <- RunPCA(query, npcs = 30, verbose = FALSE)\n",
    "  query <- RunUMAP(query, reduction = \"pca\", dims = 1:30, verbose = FALSE)\n",
    "\n",
    "  ref$celltype=anno_train$cell.type\n",
    "  query$celltype=anno_test$cell.type\n",
    "\n",
    "\n",
    "  ref.anchors <- FindTransferAnchors(reference = ref, query = query, dims = 1:30, reference.reduction = \"pca\")\n",
    "  predictions <- TransferData(anchorset = ref.anchors, refdata = ref$celltype,\n",
    "      dims = 1:30)\n",
    "  query <- AddMetaData(query, metadata = predictions)\n",
    "  \n",
    "  predictions = query$predicted.id\n",
    "\n",
    "\n",
    "\n",
    "  acc=calculate_test_accuracy(anno_test$cell.type,predictions)\n",
    "\n",
    "\n",
    "  f1_score = calculate_f1_score_multiclass(anno_test$cell.type,predictions)\n",
    "\n",
    "\n",
    "  cat(\"Fold\", i, \": Train samples =\", nrow(data_train), \", Test samples =\", nrow(data_test), \"Accuracy:\", acc,\"f1 score:\",f1_score, \"\\n\")\n",
    "\n",
    "  \n",
    "  # Perform training and testing using data_train, anno_train, data_test, and anno_test\n",
    "}\n"
   ]
  },
  {
   "cell_type": "code",
   "execution_count": null,
   "metadata": {
    "vscode": {
     "languageId": "r"
    }
   },
   "outputs": [],
   "source": []
  }
 ],
 "metadata": {
  "kernelspec": {
   "display_name": "R",
   "language": "R",
   "name": "ir"
  },
  "language_info": {
   "codemirror_mode": "r",
   "file_extension": ".r",
   "mimetype": "text/x-r-source",
   "name": "R",
   "pygments_lexer": "r",
   "version": "4.2.2"
  },
  "orig_nbformat": 4
 },
 "nbformat": 4,
 "nbformat_minor": 2
}
