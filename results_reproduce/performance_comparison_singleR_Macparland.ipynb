{
 "cells": [
  {
   "cell_type": "code",
   "execution_count": 1,
   "metadata": {
    "vscode": {
     "languageId": "r"
    }
   },
   "outputs": [],
   "source": [
    "#Seurat\n",
    "\n",
    "#read data\n",
    "\n",
    "data=read.table(\"data/macparland/GSE115469_Data.csv\",header=TRUE,row.names=1,sep=\",\")\n",
    "\n",
    "data=t(data)\n",
    "#annotation=BaronMetaData"
   ]
  },
  {
   "cell_type": "code",
   "execution_count": 7,
   "metadata": {
    "vscode": {
     "languageId": "r"
    }
   },
   "outputs": [
    {
     "name": "stderr",
     "output_type": "stream",
     "text": [
      "Warning message in read.table(\"data/macparland/GSE115469_CellClusterType.txt\", header = TRUE, :\n",
      "“header and 'col.names' are of different lengths”\n"
     ]
    },
    {
     "data": {
      "text/html": [
       "<table class=\"dataframe\">\n",
       "<caption>A data.frame: 6 × 6</caption>\n",
       "<thead>\n",
       "\t<tr><th></th><th scope=col>CellName</th><th scope=col>Sample</th><th scope=col>Cell.</th><th scope=col>Cluster.</th><th scope=col>cell.type</th><th scope=col>celltype</th></tr>\n",
       "\t<tr><th></th><th scope=col>&lt;chr&gt;</th><th scope=col>&lt;chr&gt;</th><th scope=col>&lt;chr&gt;</th><th scope=col>&lt;int&gt;</th><th scope=col>&lt;chr&gt;</th><th scope=col>&lt;chr&gt;</th></tr>\n",
       "</thead>\n",
       "<tbody>\n",
       "\t<tr><th scope=row>1</th><td>P1TLH_AAACCTGAGCAGCCTC_1</td><td>P1TLH</td><td>AAACCTGAGCAGCCTC</td><td>12</td><td>Central_venous_LSECs       </td><td>Central_venous_LSECs       </td></tr>\n",
       "\t<tr><th scope=row>2</th><td>P1TLH_AAACCTGTCCTCATTA_1</td><td>P1TLH</td><td>AAACCTGTCCTCATTA</td><td>17</td><td>Cholangiocytes             </td><td>Cholangiocytes             </td></tr>\n",
       "\t<tr><th scope=row>3</th><td>P1TLH_AAACCTGTCTAAGCCA_1</td><td>P1TLH</td><td>AAACCTGTCTAAGCCA</td><td>12</td><td>Central_venous_LSECs       </td><td>Central_venous_LSECs       </td></tr>\n",
       "\t<tr><th scope=row>4</th><td>P1TLH_AAACGGGAGTAGGCCA_1</td><td>P1TLH</td><td>AAACGGGAGTAGGCCA</td><td>10</td><td>Non-inflammatory_Macrophage</td><td>Non-inflammatory_Macrophage</td></tr>\n",
       "\t<tr><th scope=row>5</th><td>P1TLH_AAACGGGGTTCGGGCT_1</td><td>P1TLH</td><td>AAACGGGGTTCGGGCT</td><td> 2</td><td>alpha-beta_T_Cells         </td><td>alpha-beta_T_Cells         </td></tr>\n",
       "\t<tr><th scope=row>6</th><td>P1TLH_AAAGCAACAGTAAGAT_1</td><td>P1TLH</td><td>AAAGCAACAGTAAGAT</td><td> 2</td><td>alpha-beta_T_Cells         </td><td>alpha-beta_T_Cells         </td></tr>\n",
       "</tbody>\n",
       "</table>\n"
      ],
      "text/latex": [
       "A data.frame: 6 × 6\n",
       "\\begin{tabular}{r|llllll}\n",
       "  & CellName & Sample & Cell. & Cluster. & cell.type & celltype\\\\\n",
       "  & <chr> & <chr> & <chr> & <int> & <chr> & <chr>\\\\\n",
       "\\hline\n",
       "\t1 & P1TLH\\_AAACCTGAGCAGCCTC\\_1 & P1TLH & AAACCTGAGCAGCCTC & 12 & Central\\_venous\\_LSECs        & Central\\_venous\\_LSECs       \\\\\n",
       "\t2 & P1TLH\\_AAACCTGTCCTCATTA\\_1 & P1TLH & AAACCTGTCCTCATTA & 17 & Cholangiocytes              & Cholangiocytes             \\\\\n",
       "\t3 & P1TLH\\_AAACCTGTCTAAGCCA\\_1 & P1TLH & AAACCTGTCTAAGCCA & 12 & Central\\_venous\\_LSECs        & Central\\_venous\\_LSECs       \\\\\n",
       "\t4 & P1TLH\\_AAACGGGAGTAGGCCA\\_1 & P1TLH & AAACGGGAGTAGGCCA & 10 & Non-inflammatory\\_Macrophage & Non-inflammatory\\_Macrophage\\\\\n",
       "\t5 & P1TLH\\_AAACGGGGTTCGGGCT\\_1 & P1TLH & AAACGGGGTTCGGGCT &  2 & alpha-beta\\_T\\_Cells          & alpha-beta\\_T\\_Cells         \\\\\n",
       "\t6 & P1TLH\\_AAAGCAACAGTAAGAT\\_1 & P1TLH & AAAGCAACAGTAAGAT &  2 & alpha-beta\\_T\\_Cells          & alpha-beta\\_T\\_Cells         \\\\\n",
       "\\end{tabular}\n"
      ],
      "text/markdown": [
       "\n",
       "A data.frame: 6 × 6\n",
       "\n",
       "| <!--/--> | CellName &lt;chr&gt; | Sample &lt;chr&gt; | Cell. &lt;chr&gt; | Cluster. &lt;int&gt; | cell.type &lt;chr&gt; | celltype &lt;chr&gt; |\n",
       "|---|---|---|---|---|---|---|\n",
       "| 1 | P1TLH_AAACCTGAGCAGCCTC_1 | P1TLH | AAACCTGAGCAGCCTC | 12 | Central_venous_LSECs        | Central_venous_LSECs        |\n",
       "| 2 | P1TLH_AAACCTGTCCTCATTA_1 | P1TLH | AAACCTGTCCTCATTA | 17 | Cholangiocytes              | Cholangiocytes              |\n",
       "| 3 | P1TLH_AAACCTGTCTAAGCCA_1 | P1TLH | AAACCTGTCTAAGCCA | 12 | Central_venous_LSECs        | Central_venous_LSECs        |\n",
       "| 4 | P1TLH_AAACGGGAGTAGGCCA_1 | P1TLH | AAACGGGAGTAGGCCA | 10 | Non-inflammatory_Macrophage | Non-inflammatory_Macrophage |\n",
       "| 5 | P1TLH_AAACGGGGTTCGGGCT_1 | P1TLH | AAACGGGGTTCGGGCT |  2 | alpha-beta_T_Cells          | alpha-beta_T_Cells          |\n",
       "| 6 | P1TLH_AAAGCAACAGTAAGAT_1 | P1TLH | AAAGCAACAGTAAGAT |  2 | alpha-beta_T_Cells          | alpha-beta_T_Cells          |\n",
       "\n"
      ],
      "text/plain": [
       "  CellName                 Sample Cell.            Cluster.\n",
       "1 P1TLH_AAACCTGAGCAGCCTC_1 P1TLH  AAACCTGAGCAGCCTC 12      \n",
       "2 P1TLH_AAACCTGTCCTCATTA_1 P1TLH  AAACCTGTCCTCATTA 17      \n",
       "3 P1TLH_AAACCTGTCTAAGCCA_1 P1TLH  AAACCTGTCTAAGCCA 12      \n",
       "4 P1TLH_AAACGGGAGTAGGCCA_1 P1TLH  AAACGGGAGTAGGCCA 10      \n",
       "5 P1TLH_AAACGGGGTTCGGGCT_1 P1TLH  AAACGGGGTTCGGGCT  2      \n",
       "6 P1TLH_AAAGCAACAGTAAGAT_1 P1TLH  AAAGCAACAGTAAGAT  2      \n",
       "  cell.type                   celltype                   \n",
       "1 Central_venous_LSECs        Central_venous_LSECs       \n",
       "2 Cholangiocytes              Cholangiocytes             \n",
       "3 Central_venous_LSECs        Central_venous_LSECs       \n",
       "4 Non-inflammatory_Macrophage Non-inflammatory_Macrophage\n",
       "5 alpha-beta_T_Cells          alpha-beta_T_Cells         \n",
       "6 alpha-beta_T_Cells          alpha-beta_T_Cells         "
      ]
     },
     "metadata": {},
     "output_type": "display_data"
    }
   ],
   "source": [
    "annotation=read.table(\"data/macparland/GSE115469_CellClusterType.txt\",header=TRUE,sep=\"\\t\",col.names=c(\"CellName\",\"Sample\",\"Cell#\",\"Cluster#\",\"cell.type\"))\n",
    "annotation$celltype=annotation$cell.type\n",
    "head(annotation)"
   ]
  },
  {
   "cell_type": "code",
   "execution_count": 3,
   "metadata": {
    "vscode": {
     "languageId": "r"
    }
   },
   "outputs": [],
   "source": [
    "extract_prediction_label = function(x){\n",
    "    y=c()\n",
    "    for (i in x){\n",
    "        y=c(y,i)\n",
    "    }\n",
    "    y\n",
    "    return(y)\n",
    "}\n",
    "\n",
    "\n",
    "\n",
    "calculate_test_accuracy <- function(true_labels, predicted_labels) {\n",
    "  if (length(true_labels) != length(predicted_labels)) {\n",
    "    stop(\"Input vectors must have the same length.\")\n",
    "  }\n",
    "  \n",
    "  correct_predictions <- sum(true_labels == predicted_labels)\n",
    "  total_samples <- length(true_labels)\n",
    "  \n",
    "  accuracy <- correct_predictions / total_samples\n",
    "  return(accuracy)\n",
    "}\n",
    "\n",
    "\n",
    "calculate_f1_score_multiclass <- function(true_labels, predicted_labels) {\n",
    "  if (length(true_labels) != length(predicted_labels)) {\n",
    "    stop(\"Input vectors must have the same length.\")\n",
    "  }\n",
    "  \n",
    "  # Get unique class labels\n",
    "  classes <- unique(c(true_labels, predicted_labels))\n",
    "  \n",
    "  # Initialize variables to store per-class statistics\n",
    "  precision <- numeric(length(classes))\n",
    "  recall <- numeric(length(classes))\n",
    "  f1_score <- numeric(length(classes))\n",
    "  \n",
    "  # Calculate precision, recall, and F1 score for each class\n",
    "  for (i in 1:length(classes)) {\n",
    "    class_label <- classes[i]\n",
    "    true_positive <- sum(predicted_labels == class_label & true_labels == class_label)\n",
    "    false_positive <- sum(predicted_labels == class_label & true_labels != class_label)\n",
    "    false_negative <- sum(predicted_labels != class_label & true_labels == class_label)\n",
    "    \n",
    "    precision[i] <- true_positive / (true_positive + false_positive)\n",
    "    recall[i] <- true_positive / (true_positive + false_negative)\n",
    "    \n",
    "    f1_score[i] <- 2 * (precision[i] * recall[i]) / (precision[i] + recall[i])\n",
    "  }\n",
    "  \n",
    "  # Calculate macro-averaged F1 score\n",
    "  macro_f1_score <- mean(f1_score, na.rm = TRUE)\n",
    "  \n",
    "  return(macro_f1_score)\n",
    "}\n",
    "\n",
    "\n"
   ]
  },
  {
   "cell_type": "code",
   "execution_count": 8,
   "metadata": {
    "vscode": {
     "languageId": "r"
    }
   },
   "outputs": [
    {
     "name": "stderr",
     "output_type": "stream",
     "text": [
      "Warning message in split.default(sample(nrow(data)), 1:num_folds):\n",
      "“data length is not a multiple of split variable”\n"
     ]
    },
    {
     "name": "stderr",
     "output_type": "stream",
     "text": [
      "Warning message:\n",
      "“useNames = NA is deprecated. Instead, specify either useNames = TRUE or useNames = TRUE.”\n",
      "Warning message:\n",
      "“useNames = NA is deprecated. Instead, specify either useNames = TRUE or useNames = TRUE.”\n",
      "Warning message:\n",
      "“useNames = NA is deprecated. Instead, specify either useNames = TRUE or useNames = TRUE.”\n",
      "Warning message:\n",
      "“useNames = NA is deprecated. Instead, specify either useNames = TRUE or useNames = TRUE.”\n",
      "Warning message:\n",
      "“useNames = NA is deprecated. Instead, specify either useNames = TRUE or useNames = TRUE.”\n",
      "Warning message:\n",
      "“useNames = NA is deprecated. Instead, specify either useNames = TRUE or useNames = TRUE.”\n",
      "Warning message:\n",
      "“useNames = NA is deprecated. Instead, specify either useNames = TRUE or useNames = TRUE.”\n",
      "Warning message:\n",
      "“useNames = NA is deprecated. Instead, specify either useNames = TRUE or useNames = TRUE.”\n",
      "Warning message:\n",
      "“useNames = NA is deprecated. Instead, specify either useNames = TRUE or useNames = TRUE.”\n",
      "Warning message:\n",
      "“useNames = NA is deprecated. Instead, specify either useNames = TRUE or useNames = TRUE.”\n",
      "Warning message:\n",
      "“useNames = NA is deprecated. Instead, specify either useNames = TRUE or useNames = TRUE.”\n",
      "Warning message:\n",
      "“useNames = NA is deprecated. Instead, specify either useNames = TRUE or useNames = TRUE.”\n",
      "Warning message:\n",
      "“useNames = NA is deprecated. Instead, specify either useNames = TRUE or useNames = TRUE.”\n",
      "Warning message:\n",
      "“useNames = NA is deprecated. Instead, specify either useNames = TRUE or useNames = TRUE.”\n",
      "Warning message:\n",
      "“useNames = NA is deprecated. Instead, specify either useNames = TRUE or useNames = TRUE.”\n",
      "Warning message:\n",
      "“useNames = NA is deprecated. Instead, specify either useNames = TRUE or useNames = TRUE.”\n",
      "Warning message:\n",
      "“useNames = NA is deprecated. Instead, specify either useNames = TRUE or useNames = TRUE.”\n",
      "Warning message:\n",
      "“useNames = NA is deprecated. Instead, specify either useNames = TRUE or useNames = TRUE.”\n",
      "Warning message:\n",
      "“useNames = NA is deprecated. Instead, specify either useNames = TRUE or useNames = TRUE.”\n",
      "Warning message:\n",
      "“useNames = NA is deprecated. Instead, specify either useNames = TRUE or useNames = TRUE.”\n",
      "Warning message:\n",
      "“useNames = NA is deprecated. Instead, specify either useNames = TRUE or useNames = TRUE.”\n"
     ]
    },
    {
     "name": "stdout",
     "output_type": "stream",
     "text": [
      "Fold 1 : Train samples = 6755 , Test samples = 1689 Accuracy: 0.8952043 F1 score: 0.8927278 \n"
     ]
    },
    {
     "name": "stderr",
     "output_type": "stream",
     "text": [
      "Warning message:\n",
      "“useNames = NA is deprecated. Instead, specify either useNames = TRUE or useNames = TRUE.”\n",
      "Warning message:\n",
      "“useNames = NA is deprecated. Instead, specify either useNames = TRUE or useNames = TRUE.”\n",
      "Warning message:\n",
      "“useNames = NA is deprecated. Instead, specify either useNames = TRUE or useNames = TRUE.”\n",
      "Warning message:\n",
      "“useNames = NA is deprecated. Instead, specify either useNames = TRUE or useNames = TRUE.”\n",
      "Warning message:\n",
      "“useNames = NA is deprecated. Instead, specify either useNames = TRUE or useNames = TRUE.”\n",
      "Warning message:\n",
      "“useNames = NA is deprecated. Instead, specify either useNames = TRUE or useNames = TRUE.”\n",
      "Warning message:\n",
      "“useNames = NA is deprecated. Instead, specify either useNames = TRUE or useNames = TRUE.”\n",
      "Warning message:\n",
      "“useNames = NA is deprecated. Instead, specify either useNames = TRUE or useNames = TRUE.”\n",
      "Warning message:\n",
      "“useNames = NA is deprecated. Instead, specify either useNames = TRUE or useNames = TRUE.”\n",
      "Warning message:\n",
      "“useNames = NA is deprecated. Instead, specify either useNames = TRUE or useNames = TRUE.”\n",
      "Warning message:\n",
      "“useNames = NA is deprecated. Instead, specify either useNames = TRUE or useNames = TRUE.”\n",
      "Warning message:\n",
      "“useNames = NA is deprecated. Instead, specify either useNames = TRUE or useNames = TRUE.”\n",
      "Warning message:\n",
      "“useNames = NA is deprecated. Instead, specify either useNames = TRUE or useNames = TRUE.”\n",
      "Warning message:\n",
      "“useNames = NA is deprecated. Instead, specify either useNames = TRUE or useNames = TRUE.”\n",
      "Warning message:\n",
      "“useNames = NA is deprecated. Instead, specify either useNames = TRUE or useNames = TRUE.”\n",
      "Warning message:\n",
      "“useNames = NA is deprecated. Instead, specify either useNames = TRUE or useNames = TRUE.”\n",
      "Warning message:\n",
      "“useNames = NA is deprecated. Instead, specify either useNames = TRUE or useNames = TRUE.”\n",
      "Warning message:\n",
      "“useNames = NA is deprecated. Instead, specify either useNames = TRUE or useNames = TRUE.”\n",
      "Warning message:\n",
      "“useNames = NA is deprecated. Instead, specify either useNames = TRUE or useNames = TRUE.”\n",
      "Warning message:\n",
      "“useNames = NA is deprecated. Instead, specify either useNames = TRUE or useNames = TRUE.”\n",
      "Warning message:\n",
      "“useNames = NA is deprecated. Instead, specify either useNames = TRUE or useNames = TRUE.”\n"
     ]
    },
    {
     "name": "stdout",
     "output_type": "stream",
     "text": [
      "Fold 2 : Train samples = 6755 , Test samples = 1689 Accuracy: 0.8827709 F1 score: 0.8991104 \n"
     ]
    },
    {
     "name": "stderr",
     "output_type": "stream",
     "text": [
      "Warning message:\n",
      "“useNames = NA is deprecated. Instead, specify either useNames = TRUE or useNames = TRUE.”\n",
      "Warning message:\n",
      "“useNames = NA is deprecated. Instead, specify either useNames = TRUE or useNames = TRUE.”\n",
      "Warning message:\n",
      "“useNames = NA is deprecated. Instead, specify either useNames = TRUE or useNames = TRUE.”\n",
      "Warning message:\n",
      "“useNames = NA is deprecated. Instead, specify either useNames = TRUE or useNames = TRUE.”\n",
      "Warning message:\n",
      "“useNames = NA is deprecated. Instead, specify either useNames = TRUE or useNames = TRUE.”\n",
      "Warning message:\n",
      "“useNames = NA is deprecated. Instead, specify either useNames = TRUE or useNames = TRUE.”\n",
      "Warning message:\n",
      "“useNames = NA is deprecated. Instead, specify either useNames = TRUE or useNames = TRUE.”\n",
      "Warning message:\n",
      "“useNames = NA is deprecated. Instead, specify either useNames = TRUE or useNames = TRUE.”\n",
      "Warning message:\n",
      "“useNames = NA is deprecated. Instead, specify either useNames = TRUE or useNames = TRUE.”\n",
      "Warning message:\n",
      "“useNames = NA is deprecated. Instead, specify either useNames = TRUE or useNames = TRUE.”\n",
      "Warning message:\n",
      "“useNames = NA is deprecated. Instead, specify either useNames = TRUE or useNames = TRUE.”\n",
      "Warning message:\n",
      "“useNames = NA is deprecated. Instead, specify either useNames = TRUE or useNames = TRUE.”\n",
      "Warning message:\n",
      "“useNames = NA is deprecated. Instead, specify either useNames = TRUE or useNames = TRUE.”\n",
      "Warning message:\n",
      "“useNames = NA is deprecated. Instead, specify either useNames = TRUE or useNames = TRUE.”\n",
      "Warning message:\n",
      "“useNames = NA is deprecated. Instead, specify either useNames = TRUE or useNames = TRUE.”\n",
      "Warning message:\n",
      "“useNames = NA is deprecated. Instead, specify either useNames = TRUE or useNames = TRUE.”\n",
      "Warning message:\n",
      "“useNames = NA is deprecated. Instead, specify either useNames = TRUE or useNames = TRUE.”\n",
      "Warning message:\n",
      "“useNames = NA is deprecated. Instead, specify either useNames = TRUE or useNames = TRUE.”\n",
      "Warning message:\n",
      "“useNames = NA is deprecated. Instead, specify either useNames = TRUE or useNames = TRUE.”\n",
      "Warning message:\n",
      "“useNames = NA is deprecated. Instead, specify either useNames = TRUE or useNames = TRUE.”\n",
      "Warning message:\n",
      "“useNames = NA is deprecated. Instead, specify either useNames = TRUE or useNames = TRUE.”\n"
     ]
    },
    {
     "name": "stdout",
     "output_type": "stream",
     "text": [
      "Fold 3 : Train samples = 6755 , Test samples = 1689 Accuracy: 0.8792185 F1 score: 0.9031491 \n"
     ]
    },
    {
     "name": "stderr",
     "output_type": "stream",
     "text": [
      "Warning message:\n",
      "“useNames = NA is deprecated. Instead, specify either useNames = TRUE or useNames = TRUE.”\n",
      "Warning message:\n",
      "“useNames = NA is deprecated. Instead, specify either useNames = TRUE or useNames = TRUE.”\n",
      "Warning message:\n",
      "“useNames = NA is deprecated. Instead, specify either useNames = TRUE or useNames = TRUE.”\n",
      "Warning message:\n",
      "“useNames = NA is deprecated. Instead, specify either useNames = TRUE or useNames = TRUE.”\n",
      "Warning message:\n",
      "“useNames = NA is deprecated. Instead, specify either useNames = TRUE or useNames = TRUE.”\n",
      "Warning message:\n",
      "“useNames = NA is deprecated. Instead, specify either useNames = TRUE or useNames = TRUE.”\n",
      "Warning message:\n",
      "“useNames = NA is deprecated. Instead, specify either useNames = TRUE or useNames = TRUE.”\n",
      "Warning message:\n",
      "“useNames = NA is deprecated. Instead, specify either useNames = TRUE or useNames = TRUE.”\n",
      "Warning message:\n",
      "“useNames = NA is deprecated. Instead, specify either useNames = TRUE or useNames = TRUE.”\n",
      "Warning message:\n",
      "“useNames = NA is deprecated. Instead, specify either useNames = TRUE or useNames = TRUE.”\n",
      "Warning message:\n",
      "“useNames = NA is deprecated. Instead, specify either useNames = TRUE or useNames = TRUE.”\n",
      "Warning message:\n",
      "“useNames = NA is deprecated. Instead, specify either useNames = TRUE or useNames = TRUE.”\n",
      "Warning message:\n",
      "“useNames = NA is deprecated. Instead, specify either useNames = TRUE or useNames = TRUE.”\n",
      "Warning message:\n",
      "“useNames = NA is deprecated. Instead, specify either useNames = TRUE or useNames = TRUE.”\n",
      "Warning message:\n",
      "“useNames = NA is deprecated. Instead, specify either useNames = TRUE or useNames = TRUE.”\n",
      "Warning message:\n",
      "“useNames = NA is deprecated. Instead, specify either useNames = TRUE or useNames = TRUE.”\n",
      "Warning message:\n",
      "“useNames = NA is deprecated. Instead, specify either useNames = TRUE or useNames = TRUE.”\n",
      "Warning message:\n",
      "“useNames = NA is deprecated. Instead, specify either useNames = TRUE or useNames = TRUE.”\n",
      "Warning message:\n",
      "“useNames = NA is deprecated. Instead, specify either useNames = TRUE or useNames = TRUE.”\n",
      "Warning message:\n",
      "“useNames = NA is deprecated. Instead, specify either useNames = TRUE or useNames = TRUE.”\n",
      "Warning message:\n",
      "“useNames = NA is deprecated. Instead, specify either useNames = TRUE or useNames = TRUE.”\n"
     ]
    },
    {
     "name": "stdout",
     "output_type": "stream",
     "text": [
      "Fold 4 : Train samples = 6755 , Test samples = 1689 Accuracy: 0.8963884 F1 score: 0.9091631 \n"
     ]
    },
    {
     "name": "stderr",
     "output_type": "stream",
     "text": [
      "Warning message:\n",
      "“useNames = NA is deprecated. Instead, specify either useNames = TRUE or useNames = TRUE.”\n",
      "Warning message:\n",
      "“useNames = NA is deprecated. Instead, specify either useNames = TRUE or useNames = TRUE.”\n",
      "Warning message:\n",
      "“useNames = NA is deprecated. Instead, specify either useNames = TRUE or useNames = TRUE.”\n",
      "Warning message:\n",
      "“useNames = NA is deprecated. Instead, specify either useNames = TRUE or useNames = TRUE.”\n",
      "Warning message:\n",
      "“useNames = NA is deprecated. Instead, specify either useNames = TRUE or useNames = TRUE.”\n",
      "Warning message:\n",
      "“useNames = NA is deprecated. Instead, specify either useNames = TRUE or useNames = TRUE.”\n",
      "Warning message:\n",
      "“useNames = NA is deprecated. Instead, specify either useNames = TRUE or useNames = TRUE.”\n",
      "Warning message:\n",
      "“useNames = NA is deprecated. Instead, specify either useNames = TRUE or useNames = TRUE.”\n",
      "Warning message:\n",
      "“useNames = NA is deprecated. Instead, specify either useNames = TRUE or useNames = TRUE.”\n",
      "Warning message:\n",
      "“useNames = NA is deprecated. Instead, specify either useNames = TRUE or useNames = TRUE.”\n",
      "Warning message:\n",
      "“useNames = NA is deprecated. Instead, specify either useNames = TRUE or useNames = TRUE.”\n",
      "Warning message:\n",
      "“useNames = NA is deprecated. Instead, specify either useNames = TRUE or useNames = TRUE.”\n",
      "Warning message:\n",
      "“useNames = NA is deprecated. Instead, specify either useNames = TRUE or useNames = TRUE.”\n",
      "Warning message:\n",
      "“useNames = NA is deprecated. Instead, specify either useNames = TRUE or useNames = TRUE.”\n",
      "Warning message:\n",
      "“useNames = NA is deprecated. Instead, specify either useNames = TRUE or useNames = TRUE.”\n",
      "Warning message:\n",
      "“useNames = NA is deprecated. Instead, specify either useNames = TRUE or useNames = TRUE.”\n",
      "Warning message:\n",
      "“useNames = NA is deprecated. Instead, specify either useNames = TRUE or useNames = TRUE.”\n",
      "Warning message:\n",
      "“useNames = NA is deprecated. Instead, specify either useNames = TRUE or useNames = TRUE.”\n",
      "Warning message:\n",
      "“useNames = NA is deprecated. Instead, specify either useNames = TRUE or useNames = TRUE.”\n",
      "Warning message:\n",
      "“useNames = NA is deprecated. Instead, specify either useNames = TRUE or useNames = TRUE.”\n",
      "Warning message:\n",
      "“useNames = NA is deprecated. Instead, specify either useNames = TRUE or useNames = TRUE.”\n"
     ]
    },
    {
     "name": "stdout",
     "output_type": "stream",
     "text": [
      "Fold 5 : Train samples = 6756 , Test samples = 1688 Accuracy: 0.8898104 F1 score: 0.9132577 \n"
     ]
    }
   ],
   "source": [
    "#5-fold validation\n",
    "library(SingleCellExperiment)\n",
    "library(SingleR)\n",
    "\n",
    "set.seed(123)\n",
    "\n",
    "# Number of folds\n",
    "num_folds <- 5\n",
    "\n",
    "# Generate 5-fold cross-validation indices\n",
    "fold_indices <- split(sample(nrow(data)), 1:num_folds)\n",
    "\n",
    "# Perform 5-fold cross-validation\n",
    "for (i in 1:num_folds) {\n",
    "  # Get indices for the current fold\n",
    "  test_indices <- fold_indices[[i]]\n",
    "  train_indices <- unlist(fold_indices[-i])\n",
    "  \n",
    "  # Subset data and annotation based on indices\n",
    "  data_train <- data[train_indices, ]\n",
    "  anno_train <- annotation[train_indices, ]\n",
    "  \n",
    "  data_test <- data[test_indices, ]\n",
    "  anno_test <- annotation[test_indices, ]\n",
    "  \n",
    "  \n",
    "  \n",
    "  counts_train=t(data_train)\n",
    "  sce_train <- SingleCellExperiment(list(logcounts = as.matrix(counts_train)))\n",
    "\n",
    "  sce_train$celltype <- as.factor(anno_train$celltype)\n",
    "\n",
    "  counts_test=t(data_test)\n",
    "  sce_test <- SingleCellExperiment(list(counts = as.matrix(counts_test)))\n",
    "\n",
    "\n",
    "\n",
    "  pred <- SingleR(test = sce_test, ref = sce_train, labels = sce_train$celltype, assay.type.test=1)\n",
    "  \n",
    "  acc = calculate_test_accuracy(pred$labels,anno_test$celltype)\n",
    "  f1_score = calculate_f1_score_multiclass(pred$labels,anno_test$celltype)\n",
    "\n",
    "  cat(\"Fold\", i, \": Train samples =\", nrow(data_train), \", Test samples =\", nrow(data_test), \"Accuracy:\", acc,\"F1 score:\", f1_score, \"\\n\")\n",
    "\n",
    "  \n",
    "  # Perform training and testing using data_train, anno_train, data_test, and anno_test\n",
    "}\n"
   ]
  },
  {
   "cell_type": "code",
   "execution_count": null,
   "metadata": {
    "vscode": {
     "languageId": "r"
    }
   },
   "outputs": [],
   "source": []
  }
 ],
 "metadata": {
  "kernelspec": {
   "display_name": "R",
   "language": "R",
   "name": "ir"
  },
  "language_info": {
   "codemirror_mode": "r",
   "file_extension": ".r",
   "mimetype": "text/x-r-source",
   "name": "R",
   "pygments_lexer": "r",
   "version": "4.2.2"
  },
  "orig_nbformat": 4
 },
 "nbformat": 4,
 "nbformat_minor": 2
}
