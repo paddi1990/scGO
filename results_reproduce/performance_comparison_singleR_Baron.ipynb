{
 "cells": [
  {
   "cell_type": "code",
   "execution_count": 4,
   "metadata": {
    "vscode": {
     "languageId": "r"
    }
   },
   "outputs": [
    {
     "name": "stderr",
     "output_type": "stream",
     "text": [
      "Warning message in asMethod(object):\n",
      "“sparse->dense coercion: allocating vector of size 1.3 GiB”\n"
     ]
    }
   ],
   "source": [
    "\n",
    "\n",
    "#read data\n",
    "\n",
    "BaronMatrix   <- readRDS(url(\"https://storage.googleapis.com/cellid-cbl/BaronMatrix.rds\"))\n",
    "BaronMetaData <- readRDS(url(\"https://storage.googleapis.com/cellid-cbl/BaronMetaData.rds\"))\n",
    "\n",
    "data=t(as.matrix(BaronMatrix))\n",
    "annotation=BaronMetaData\n",
    "\n",
    "annotation$celltype=annotation$cell.type"
   ]
  },
  {
   "cell_type": "code",
   "execution_count": 2,
   "metadata": {
    "vscode": {
     "languageId": "r"
    }
   },
   "outputs": [],
   "source": [
    "extract_prediction_label = function(x){\n",
    "    y=c()\n",
    "    for (i in x){\n",
    "        y=c(y,i)\n",
    "    }\n",
    "    y\n",
    "    return(y)\n",
    "}\n",
    "\n",
    "\n",
    "\n",
    "calculate_test_accuracy <- function(true_labels, predicted_labels) {\n",
    "  if (length(true_labels) != length(predicted_labels)) {\n",
    "    stop(\"Input vectors must have the same length.\")\n",
    "  }\n",
    "  \n",
    "  correct_predictions <- sum(true_labels == predicted_labels)\n",
    "  total_samples <- length(true_labels)\n",
    "  \n",
    "  accuracy <- correct_predictions / total_samples\n",
    "  return(accuracy)\n",
    "}\n",
    "\n",
    "\n",
    "calculate_f1_score_multiclass <- function(true_labels, predicted_labels) {\n",
    "  if (length(true_labels) != length(predicted_labels)) {\n",
    "    stop(\"Input vectors must have the same length.\")\n",
    "  }\n",
    "  \n",
    "  # Get unique class labels\n",
    "  classes <- unique(c(true_labels, predicted_labels))\n",
    "  \n",
    "  # Initialize variables to store per-class statistics\n",
    "  precision <- numeric(length(classes))\n",
    "  recall <- numeric(length(classes))\n",
    "  f1_score <- numeric(length(classes))\n",
    "  \n",
    "  # Calculate precision, recall, and F1 score for each class\n",
    "  for (i in 1:length(classes)) {\n",
    "    class_label <- classes[i]\n",
    "    true_positive <- sum(predicted_labels == class_label & true_labels == class_label)\n",
    "    false_positive <- sum(predicted_labels == class_label & true_labels != class_label)\n",
    "    false_negative <- sum(predicted_labels != class_label & true_labels == class_label)\n",
    "    \n",
    "    precision[i] <- true_positive / (true_positive + false_positive)\n",
    "    recall[i] <- true_positive / (true_positive + false_negative)\n",
    "    \n",
    "    f1_score[i] <- 2 * (precision[i] * recall[i]) / (precision[i] + recall[i])\n",
    "  }\n",
    "  \n",
    "  # Calculate macro-averaged F1 score\n",
    "  macro_f1_score <- mean(f1_score, na.rm = TRUE)\n",
    "  \n",
    "  return(macro_f1_score)\n",
    "}\n",
    "\n",
    "\n"
   ]
  },
  {
   "cell_type": "code",
   "execution_count": 5,
   "metadata": {
    "vscode": {
     "languageId": "r"
    }
   },
   "outputs": [
    {
     "name": "stderr",
     "output_type": "stream",
     "text": [
      "Warning message in split.default(sample(nrow(data)), 1:num_folds):\n",
      "“data length is not a multiple of split variable”\n",
      "Warning message:\n",
      "“useNames = NA is deprecated. Instead, specify either useNames = TRUE or useNames = TRUE.”\n",
      "Warning message:\n",
      "“useNames = NA is deprecated. Instead, specify either useNames = TRUE or useNames = TRUE.”\n",
      "Warning message:\n",
      "“useNames = NA is deprecated. Instead, specify either useNames = TRUE or useNames = TRUE.”\n",
      "Warning message:\n",
      "“useNames = NA is deprecated. Instead, specify either useNames = TRUE or useNames = TRUE.”\n",
      "Warning message:\n",
      "“useNames = NA is deprecated. Instead, specify either useNames = TRUE or useNames = TRUE.”\n",
      "Warning message:\n",
      "“useNames = NA is deprecated. Instead, specify either useNames = TRUE or useNames = TRUE.”\n",
      "Warning message:\n",
      "“useNames = NA is deprecated. Instead, specify either useNames = TRUE or useNames = TRUE.”\n",
      "Warning message:\n",
      "“useNames = NA is deprecated. Instead, specify either useNames = TRUE or useNames = TRUE.”\n",
      "Warning message:\n",
      "“useNames = NA is deprecated. Instead, specify either useNames = TRUE or useNames = TRUE.”\n",
      "Warning message:\n",
      "“useNames = NA is deprecated. Instead, specify either useNames = TRUE or useNames = TRUE.”\n",
      "Warning message:\n",
      "“useNames = NA is deprecated. Instead, specify either useNames = TRUE or useNames = TRUE.”\n",
      "Warning message:\n",
      "“useNames = NA is deprecated. Instead, specify either useNames = TRUE or useNames = TRUE.”\n",
      "Warning message:\n",
      "“useNames = NA is deprecated. Instead, specify either useNames = TRUE or useNames = TRUE.”\n",
      "Warning message:\n",
      "“useNames = NA is deprecated. Instead, specify either useNames = TRUE or useNames = TRUE.”\n"
     ]
    },
    {
     "name": "stdout",
     "output_type": "stream",
     "text": [
      "Fold 1 : Train samples = 6855 , Test samples = 1714 Accuracy: 0.9638273 F1 score: 0.9739535 \n"
     ]
    },
    {
     "name": "stderr",
     "output_type": "stream",
     "text": [
      "Warning message:\n",
      "“useNames = NA is deprecated. Instead, specify either useNames = TRUE or useNames = TRUE.”\n",
      "Warning message:\n",
      "“useNames = NA is deprecated. Instead, specify either useNames = TRUE or useNames = TRUE.”\n",
      "Warning message:\n",
      "“useNames = NA is deprecated. Instead, specify either useNames = TRUE or useNames = TRUE.”\n",
      "Warning message:\n",
      "“useNames = NA is deprecated. Instead, specify either useNames = TRUE or useNames = TRUE.”\n",
      "Warning message:\n",
      "“useNames = NA is deprecated. Instead, specify either useNames = TRUE or useNames = TRUE.”\n",
      "Warning message:\n",
      "“useNames = NA is deprecated. Instead, specify either useNames = TRUE or useNames = TRUE.”\n",
      "Warning message:\n",
      "“useNames = NA is deprecated. Instead, specify either useNames = TRUE or useNames = TRUE.”\n",
      "Warning message:\n",
      "“useNames = NA is deprecated. Instead, specify either useNames = TRUE or useNames = TRUE.”\n",
      "Warning message:\n",
      "“useNames = NA is deprecated. Instead, specify either useNames = TRUE or useNames = TRUE.”\n",
      "Warning message:\n",
      "“useNames = NA is deprecated. Instead, specify either useNames = TRUE or useNames = TRUE.”\n",
      "Warning message:\n",
      "“useNames = NA is deprecated. Instead, specify either useNames = TRUE or useNames = TRUE.”\n",
      "Warning message:\n",
      "“useNames = NA is deprecated. Instead, specify either useNames = TRUE or useNames = TRUE.”\n",
      "Warning message:\n",
      "“useNames = NA is deprecated. Instead, specify either useNames = TRUE or useNames = TRUE.”\n",
      "Warning message:\n",
      "“useNames = NA is deprecated. Instead, specify either useNames = TRUE or useNames = TRUE.”\n"
     ]
    },
    {
     "name": "stdout",
     "output_type": "stream",
     "text": [
      "Fold 2 : Train samples = 6855 , Test samples = 1714 Accuracy: 0.9638273 F1 score: 0.9448182 \n"
     ]
    },
    {
     "name": "stderr",
     "output_type": "stream",
     "text": [
      "Warning message:\n",
      "“useNames = NA is deprecated. Instead, specify either useNames = TRUE or useNames = TRUE.”\n",
      "Warning message:\n",
      "“useNames = NA is deprecated. Instead, specify either useNames = TRUE or useNames = TRUE.”\n",
      "Warning message:\n",
      "“useNames = NA is deprecated. Instead, specify either useNames = TRUE or useNames = TRUE.”\n",
      "Warning message:\n",
      "“useNames = NA is deprecated. Instead, specify either useNames = TRUE or useNames = TRUE.”\n",
      "Warning message:\n",
      "“useNames = NA is deprecated. Instead, specify either useNames = TRUE or useNames = TRUE.”\n",
      "Warning message:\n",
      "“useNames = NA is deprecated. Instead, specify either useNames = TRUE or useNames = TRUE.”\n",
      "Warning message:\n",
      "“useNames = NA is deprecated. Instead, specify either useNames = TRUE or useNames = TRUE.”\n",
      "Warning message:\n",
      "“useNames = NA is deprecated. Instead, specify either useNames = TRUE or useNames = TRUE.”\n",
      "Warning message:\n",
      "“useNames = NA is deprecated. Instead, specify either useNames = TRUE or useNames = TRUE.”\n",
      "Warning message:\n",
      "“useNames = NA is deprecated. Instead, specify either useNames = TRUE or useNames = TRUE.”\n",
      "Warning message:\n",
      "“useNames = NA is deprecated. Instead, specify either useNames = TRUE or useNames = TRUE.”\n",
      "Warning message:\n",
      "“useNames = NA is deprecated. Instead, specify either useNames = TRUE or useNames = TRUE.”\n",
      "Warning message:\n",
      "“useNames = NA is deprecated. Instead, specify either useNames = TRUE or useNames = TRUE.”\n",
      "Warning message:\n",
      "“useNames = NA is deprecated. Instead, specify either useNames = TRUE or useNames = TRUE.”\n"
     ]
    },
    {
     "name": "stdout",
     "output_type": "stream",
     "text": [
      "Fold 3 : Train samples = 6855 , Test samples = 1714 Accuracy: 0.966161 F1 score: 0.9534675 \n"
     ]
    },
    {
     "name": "stderr",
     "output_type": "stream",
     "text": [
      "Warning message:\n",
      "“useNames = NA is deprecated. Instead, specify either useNames = TRUE or useNames = TRUE.”\n",
      "Warning message:\n",
      "“useNames = NA is deprecated. Instead, specify either useNames = TRUE or useNames = TRUE.”\n",
      "Warning message:\n",
      "“useNames = NA is deprecated. Instead, specify either useNames = TRUE or useNames = TRUE.”\n",
      "Warning message:\n",
      "“useNames = NA is deprecated. Instead, specify either useNames = TRUE or useNames = TRUE.”\n",
      "Warning message:\n",
      "“useNames = NA is deprecated. Instead, specify either useNames = TRUE or useNames = TRUE.”\n",
      "Warning message:\n",
      "“useNames = NA is deprecated. Instead, specify either useNames = TRUE or useNames = TRUE.”\n",
      "Warning message:\n",
      "“useNames = NA is deprecated. Instead, specify either useNames = TRUE or useNames = TRUE.”\n",
      "Warning message:\n",
      "“useNames = NA is deprecated. Instead, specify either useNames = TRUE or useNames = TRUE.”\n",
      "Warning message:\n",
      "“useNames = NA is deprecated. Instead, specify either useNames = TRUE or useNames = TRUE.”\n",
      "Warning message:\n",
      "“useNames = NA is deprecated. Instead, specify either useNames = TRUE or useNames = TRUE.”\n",
      "Warning message:\n",
      "“useNames = NA is deprecated. Instead, specify either useNames = TRUE or useNames = TRUE.”\n",
      "Warning message:\n",
      "“useNames = NA is deprecated. Instead, specify either useNames = TRUE or useNames = TRUE.”\n",
      "Warning message:\n",
      "“useNames = NA is deprecated. Instead, specify either useNames = TRUE or useNames = TRUE.”\n",
      "Warning message:\n",
      "“useNames = NA is deprecated. Instead, specify either useNames = TRUE or useNames = TRUE.”\n"
     ]
    },
    {
     "name": "stdout",
     "output_type": "stream",
     "text": [
      "Fold 4 : Train samples = 6855 , Test samples = 1714 Accuracy: 0.962077 F1 score: 0.9656546 \n"
     ]
    },
    {
     "name": "stderr",
     "output_type": "stream",
     "text": [
      "Warning message:\n",
      "“useNames = NA is deprecated. Instead, specify either useNames = TRUE or useNames = TRUE.”\n",
      "Warning message:\n",
      "“useNames = NA is deprecated. Instead, specify either useNames = TRUE or useNames = TRUE.”\n",
      "Warning message:\n",
      "“useNames = NA is deprecated. Instead, specify either useNames = TRUE or useNames = TRUE.”\n",
      "Warning message:\n",
      "“useNames = NA is deprecated. Instead, specify either useNames = TRUE or useNames = TRUE.”\n",
      "Warning message:\n",
      "“useNames = NA is deprecated. Instead, specify either useNames = TRUE or useNames = TRUE.”\n",
      "Warning message:\n",
      "“useNames = NA is deprecated. Instead, specify either useNames = TRUE or useNames = TRUE.”\n",
      "Warning message:\n",
      "“useNames = NA is deprecated. Instead, specify either useNames = TRUE or useNames = TRUE.”\n",
      "Warning message:\n",
      "“useNames = NA is deprecated. Instead, specify either useNames = TRUE or useNames = TRUE.”\n",
      "Warning message:\n",
      "“useNames = NA is deprecated. Instead, specify either useNames = TRUE or useNames = TRUE.”\n",
      "Warning message:\n",
      "“useNames = NA is deprecated. Instead, specify either useNames = TRUE or useNames = TRUE.”\n",
      "Warning message:\n",
      "“useNames = NA is deprecated. Instead, specify either useNames = TRUE or useNames = TRUE.”\n",
      "Warning message:\n",
      "“useNames = NA is deprecated. Instead, specify either useNames = TRUE or useNames = TRUE.”\n",
      "Warning message:\n",
      "“useNames = NA is deprecated. Instead, specify either useNames = TRUE or useNames = TRUE.”\n",
      "Warning message:\n",
      "“useNames = NA is deprecated. Instead, specify either useNames = TRUE or useNames = TRUE.”\n"
     ]
    },
    {
     "name": "stdout",
     "output_type": "stream",
     "text": [
      "Fold 5 : Train samples = 6856 , Test samples = 1713 Accuracy: 0.9673088 F1 score: 0.9689926 \n"
     ]
    }
   ],
   "source": [
    "#5-fold validation\n",
    "library(SingleCellExperiment)\n",
    "library(SingleR)\n",
    "\n",
    "set.seed(123)\n",
    "\n",
    "# Number of folds\n",
    "num_folds <- 5\n",
    "\n",
    "# Generate 5-fold cross-validation indices\n",
    "fold_indices <- split(sample(nrow(data)), 1:num_folds)\n",
    "\n",
    "# Perform 5-fold cross-validation\n",
    "for (i in 1:num_folds) {\n",
    "  # Get indices for the current fold\n",
    "  test_indices <- fold_indices[[i]]\n",
    "  train_indices <- unlist(fold_indices[-i])\n",
    "  \n",
    "  # Subset data and annotation based on indices\n",
    "  data_train <- data[train_indices, ]\n",
    "  anno_train <- annotation[train_indices, ]\n",
    "  \n",
    "  data_test <- data[test_indices, ]\n",
    "  anno_test <- annotation[test_indices, ]\n",
    "  \n",
    "  \n",
    "  \n",
    "  counts_train=t(data_train)\n",
    "  sce_train <- SingleCellExperiment(list(logcounts = as.matrix(counts_train)))\n",
    "\n",
    "  sce_train$celltype <- as.factor(anno_train$celltype)\n",
    "\n",
    "  counts_test=t(data_test)\n",
    "  sce_test <- SingleCellExperiment(list(counts = as.matrix(counts_test)))\n",
    "\n",
    "\n",
    "\n",
    "  pred <- SingleR(test = sce_test, ref = sce_train, labels = sce_train$celltype, assay.type.test=1)\n",
    "  \n",
    "  acc = calculate_test_accuracy(pred$labels,anno_test$celltype)\n",
    "  f1_score = calculate_f1_score_multiclass(pred$labels,anno_test$celltype)\n",
    "\n",
    "  cat(\"Fold\", i, \": Train samples =\", nrow(data_train), \", Test samples =\", nrow(data_test), \"Accuracy:\", acc,\"F1 score:\", f1_score, \"\\n\")\n",
    "\n",
    "  \n",
    "  # Perform training and testing using data_train, anno_train, data_test, and anno_test\n",
    "}\n"
   ]
  },
  {
   "cell_type": "code",
   "execution_count": null,
   "metadata": {
    "vscode": {
     "languageId": "r"
    }
   },
   "outputs": [],
   "source": []
  }
 ],
 "metadata": {
  "kernelspec": {
   "display_name": "R",
   "language": "R",
   "name": "ir"
  },
  "language_info": {
   "codemirror_mode": "r",
   "file_extension": ".r",
   "mimetype": "text/x-r-source",
   "name": "R",
   "pygments_lexer": "r",
   "version": "4.2.2"
  },
  "orig_nbformat": 4
 },
 "nbformat": 4,
 "nbformat_minor": 2
}
