{
 "cells": [
  {
   "cell_type": "code",
   "execution_count": 14,
   "metadata": {},
   "outputs": [],
   "source": [
    "import os\n",
    "def rds_to_csv(rds_file):\n",
    "    \"\"\"\n",
    "    Convert an RDS file to a CSV file.\n",
    "\n",
    "    Parameters:\n",
    "    - rds_file: Path to the input RDS file.\n",
    "\n",
    "    Returns:\n",
    "    - Write data to csv.\n",
    "\n",
    "    Example usage:\n",
    "    ```python\n",
    "    rds_to_csv(\"my_data.rds\")\n",
    "    ```\n",
    "\n",
    "    \"\"\"\n",
    "    cmd = \"Rscript --vanilla rds_to_csv.r \" + rds_file +\" \" +rds_file.replace(\".rds\", \".csv\")\n",
    "\n",
    "    os.system(cmd)"
   ]
  },
  {
   "cell_type": "code",
   "execution_count": 16,
   "metadata": {},
   "outputs": [
    {
     "name": "stderr",
     "output_type": "stream",
     "text": [
      "Loading required package: Matrix\n",
      "Warning message:\n",
      "In asMethod(object) :\n",
      "  sparse->dense coercion: allocating vector of size 2.0 GiB\n"
     ]
    },
    {
     "name": "stdout",
     "output_type": "stream",
     "text": [
      "Data successfully written to /home/wuyou/Projects/scRNA-seq/data/plant/GSE152766_sc_12_COPILOT.csv \n"
     ]
    }
   ],
   "source": [
    "\n",
    "rds_file=\"/home/wuyou/Projects/scRNA-seq/data/plant/GSE152766_sc_12_COPILOT.rds\"\n",
    "\n",
    "rds_to_csv(rds_file)"
   ]
  },
  {
   "cell_type": "code",
   "execution_count": 1,
   "metadata": {},
   "outputs": [],
   "source": [
    "import scanpy as sc\n",
    "\n",
    "# Replace 'path_to_your_file.h5ad' with the actual path to your h5ad file\n",
    "adata = sc.read_h5ad('/home/wuyou/Projects/scRNA-seq/data/heart/human_dcm_hcm_scportal_03.17.2022.h5ad')\n",
    "\n"
   ]
  },
  {
   "cell_type": "code",
   "execution_count": 1,
   "metadata": {},
   "outputs": [
    {
     "name": "stdout",
     "output_type": "stream",
     "text": [
      "   Column1  Column2  Column3\n",
      "0        1        2        3\n",
      "1        4        5        6\n",
      "2        7        8        9\n"
     ]
    }
   ],
   "source": [
    "import pandas as pd\n",
    "\n",
    "# Create a DataFrame\n",
    "data = {\n",
    "    'Column1': [1, 4, 7],\n",
    "    'Column2': [2, 5, 8],\n",
    "    'Column3': [3, 6, 9]\n",
    "}\n",
    "\n",
    "df = pd.DataFrame(data)\n",
    "\n",
    "# Print the DataFrame\n",
    "print(df)"
   ]
  },
  {
   "cell_type": "code",
   "execution_count": 2,
   "metadata": {},
   "outputs": [],
   "source": [
    "df.to_csv(\"test.csv\", index=True, header=True)\n",
    "\n",
    "\n"
   ]
  },
  {
   "cell_type": "code",
   "execution_count": null,
   "metadata": {},
   "outputs": [],
   "source": [
    "total_data=adata.X.toarray()"
   ]
  },
  {
   "cell_type": "code",
   "execution_count": null,
   "metadata": {},
   "outputs": [],
   "source": [
    "import pandas as pd\n",
    "\n",
    "# Replace 'path_to_your_file.csv' with the actual path to your CSV file\n",
    "meta_data = pd.read_csv('path_to_your_file.csv')\n",
    "\n",
    "# Print the meta data\n",
    "print(meta_data)\n",
    "\n"
   ]
  },
  {
   "cell_type": "code",
   "execution_count": null,
   "metadata": {},
   "outputs": [],
   "source": []
  },
  {
   "cell_type": "code",
   "execution_count": null,
   "metadata": {},
   "outputs": [],
   "source": []
  },
  {
   "cell_type": "markdown",
   "metadata": {},
   "source": [
    "# title"
   ]
  },
  {
   "cell_type": "markdown",
   "metadata": {},
   "source": [
    "## title"
   ]
  },
  {
   "cell_type": "markdown",
   "metadata": {},
   "source": [
    "### title"
   ]
  },
  {
   "cell_type": "markdown",
   "metadata": {},
   "source": [
    "<span style=\"color:orange;\">This text is red</span>\n",
    "<span style=\"color:lightblue;\">This text is blue</span>\n"
   ]
  },
  {
   "cell_type": "code",
   "execution_count": null,
   "metadata": {},
   "outputs": [],
   "source": [
    "#generate demo data\n",
    "\n",
    "\n"
   ]
  },
  {
   "cell_type": "markdown",
   "metadata": {},
   "source": []
  }
 ],
 "metadata": {
  "kernelspec": {
   "display_name": "sc",
   "language": "python",
   "name": "python3"
  },
  "language_info": {
   "codemirror_mode": {
    "name": "ipython",
    "version": 3
   },
   "file_extension": ".py",
   "mimetype": "text/x-python",
   "name": "python",
   "nbconvert_exporter": "python",
   "pygments_lexer": "ipython3",
   "version": "3.8.13"
  }
 },
 "nbformat": 4,
 "nbformat_minor": 2
}
